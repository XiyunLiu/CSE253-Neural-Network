{
 "cells": [
  {
   "cell_type": "code",
   "execution_count": 1,
   "metadata": {
    "collapsed": false
   },
   "outputs": [
    {
     "name": "stderr",
     "output_type": "stream",
     "text": [
      "Using Theano backend.\n",
      "Using gpu device 0: GeForce GTX 1080 (CNMeM is disabled, cuDNN not available)\n"
     ]
    }
   ],
   "source": [
    "import os\n",
    "import numpy as np\n",
    "import random\n",
    "from scipy import ndimage\n",
    "from skimage import transform\n",
    "import keras\n",
    "from keras.layers import Dense\n",
    "from keras.applications import VGG16\n",
    "from keras.models import Model\n",
    "from keras.optimizers import SGD\n",
    "from keras.callbacks import Callback, ModelCheckpoint, EarlyStopping\n",
    "import skimage.io as io\n",
    "\n",
    "# MEAN = np.array([123.0, 117.0, 104.0])\n",
    "MEAN = np.array([0, 0, 0])\n",
    "def getModel( output_dim ):\n",
    "    ''' \n",
    "        * output_dim: the number of classes (int)\n",
    "        \n",
    "        * return: compiled model (keras.engine.training.Model)\n",
    "    '''\n",
    "    vgg_model = VGG16( weights='imagenet', include_top=True )\n",
    "    vgg_out = vgg_model.layers[-2].output #Last FC layer's output  \n",
    "    softmax_layer = Dense(256, activation='softmax')(vgg_out) #Create softmax layer taking input as vgg_ou\n",
    "    #Create new transfer learning model\n",
    "    tl_model = Model( input=vgg_model.input, output=softmax_layer )\n",
    "\n",
    "    #Freeze all layers of VGG16 and Compile the model\n",
    "    #Confirm the model is appropriate\n",
    "    for l in vgg_model.layers:\n",
    "        l.trainable = False\n",
    "\n",
    "    return tl_model\n",
    "def convert_image(collect):\n",
    "#     sz = np.shape(collect)[0]\n",
    "    sz = len(collect)\n",
    "    images = np.zeros((sz, 224, 224, 3))\n",
    "    for i in range(sz):\n",
    "        img = collect[i]\n",
    "        img = transform.resize(img, (224, 224))*255\n",
    "        if (len(img.shape) != 3):\n",
    "           img = img[:,:,np.newaxis]\n",
    "        images[i] = img\n",
    "    return images\n",
    "\n",
    "sizeOfEachClass = 16\n",
    "sizeOfTestEachClass = 16\n",
    "path='/home/yiluo/Homework/253/3/256_ObjectCategories/'\n",
    "files = os.listdir(path)\n",
    "X_train, X_val, X_test = [], [], []\n",
    "Y_train, Y_val, Y_test = [], [], []\n",
    "label = 0\n",
    "for category in files:\n",
    "    sub_path = path + category\n",
    "    sub_files = os.listdir(sub_path)\n",
    "    cnt = np.shape(sub_files)[0]\n",
    "    num = 1\n",
    "    for img_nm in sub_files:\n",
    "        if img_nm[-4:] == '.jpg':\n",
    "            img_path = sub_path + '/' + img_nm\n",
    "            #img = ndimage.imread(sub_path + '/' + img_nm)\n",
    "            #img = transform.resize(img, (224, 224))*255\n",
    "            if num <= np.floor(0.8*cnt):\n",
    "                if num <= sizeOfEachClass:\n",
    "                    X_train.append(img_path)\n",
    "                    Y_train.append(label)\n",
    "            elif num <= np.floor(0.9*cnt):\n",
    "                if num <= np.floor(0.8*cnt) + sizeOfTestEachClass:\n",
    "                    X_val.append(img_path)\n",
    "                    Y_val.append(label)\n",
    "            else:\n",
    "                X_test.append(img_path)\n",
    "                Y_test.append(label)\n",
    "            num += 1\n",
    "    label += 1"
   ]
  },
  {
   "cell_type": "code",
   "execution_count": 2,
   "metadata": {
    "collapsed": false
   },
   "outputs": [
    {
     "data": {
      "text/plain": [
       "256"
      ]
     },
     "execution_count": 2,
     "metadata": {},
     "output_type": "execute_result"
    }
   ],
   "source": [
    "label"
   ]
  },
  {
   "cell_type": "code",
   "execution_count": null,
   "metadata": {
    "collapsed": false
   },
   "outputs": [],
   "source": []
  },
  {
   "cell_type": "code",
   "execution_count": null,
   "metadata": {
    "collapsed": false
   },
   "outputs": [],
   "source": []
  },
  {
   "cell_type": "code",
   "execution_count": null,
   "metadata": {
    "collapsed": false
   },
   "outputs": [],
   "source": []
  },
  {
   "cell_type": "code",
   "execution_count": 3,
   "metadata": {
    "collapsed": false
   },
   "outputs": [],
   "source": [
    "#shuffle\n",
    "ind=range(int(len(X_train)))\n",
    "random.shuffle(ind)\n",
    "X_train = [X_train[i] for i in ind]\n",
    "Y_train = [Y_train[i] for i in ind]\n",
    "Y_train_label = np.zeros((len(Y_train), 256))\n",
    "for i in range(len(Y_train)):\n",
    "    Y_train_label[i, Y_train[i]] = 1\n",
    "    \n",
    "#validation  \n",
    "Y_val_label = np.zeros((len(Y_val), 256))\n",
    "for i in range(len(Y_val)):\n",
    "    Y_val_label[i, Y_val[i]] = 1\n",
    "    \n",
    "#test\n",
    "Y_test_label = np.zeros((len(Y_test), 256))\n",
    "for i in range(len(Y_test)):\n",
    "    Y_test_label[i, Y_test[i]] = 1"
   ]
  },
  {
   "cell_type": "code",
   "execution_count": null,
   "metadata": {
    "collapsed": true
   },
   "outputs": [],
   "source": []
  },
  {
   "cell_type": "code",
   "execution_count": 4,
   "metadata": {
    "collapsed": false
   },
   "outputs": [
    {
     "data": {
      "text/plain": [
       "(4096, 256)"
      ]
     },
     "execution_count": 4,
     "metadata": {},
     "output_type": "execute_result"
    }
   ],
   "source": [
    "np.shape(Y_train_label)"
   ]
  },
  {
   "cell_type": "code",
   "execution_count": 5,
   "metadata": {
    "collapsed": false
   },
   "outputs": [],
   "source": [
    "# #Output dim for your dataset\n",
    "# output_dim = 256 #For Caltech256\n",
    "\n",
    "# tl_model = getModel( output_dim )\n",
    "# tl_model.compile(loss='categorical_crossentropy', optimizer='adadelta', metrics=['accuracy'])\n",
    "# for epoch in range(10):\n",
    "#     start = 0\n",
    "#     for batch in range(len(X_train)/64):\n",
    "#         coll=io.ImageCollection(X_train[start:start+64])\n",
    "#         images = convert_image(coll)\n",
    "#         tl_model.train_on_batch(images, Y_train_label[start:start+64, :])\n",
    "# #         tl_model.summary()\n",
    "#         start += 64\n",
    "# print 'stop here'"
   ]
  },
  {
   "cell_type": "code",
   "execution_count": null,
   "metadata": {
    "collapsed": true
   },
   "outputs": [],
   "source": []
  },
  {
   "cell_type": "code",
   "execution_count": null,
   "metadata": {
    "collapsed": false
   },
   "outputs": [],
   "source": []
  },
  {
   "cell_type": "code",
   "execution_count": 6,
   "metadata": {
    "collapsed": false
   },
   "outputs": [],
   "source": [
    "#Output dim for your dataset\n",
    "output_dim = 256 #For Caltech256\n",
    "\n",
    "#Data\n",
    "coll = io.ImageCollection(X_train)\n",
    "X_train_data = convert_image(coll)\n",
    "# coll_val = io.ImageCollection(X_val)\n",
    "# X_val_data = convert_image(coll_val)"
   ]
  },
  {
   "cell_type": "code",
   "execution_count": null,
   "metadata": {
    "collapsed": false
   },
   "outputs": [],
   "source": []
  },
  {
   "cell_type": "code",
   "execution_count": 7,
   "metadata": {
    "collapsed": false
   },
   "outputs": [],
   "source": [
    "#Model\n",
    "tl_model = getModel( output_dim )\n",
    "# rmsprop = keras.optimizers.RMSprop(lr=0.001, rho=0.9, epsilon=1e-08, decay=0.0) # error\n",
    "# sgd = keras.optimizers.SGD(lr=0.0001, momentum=0.9, decay=0.0, nesterov=True)\n",
    "tl_model.compile(loss='categorical_crossentropy', optimizer='adadelta', metrics=['accuracy'])"
   ]
  },
  {
   "cell_type": "code",
   "execution_count": 8,
   "metadata": {
    "collapsed": false
   },
   "outputs": [],
   "source": [
    "from keras.preprocessing.image import ImageDataGenerator\n",
    "\n",
    "datagen = ImageDataGenerator(\n",
    "    samplewise_center=True)\n",
    "\n",
    "# compute quantities required for featurewise normalization\n",
    "# (std, mean, and principal components if ZCA whitening is applied)\n",
    "datagen.fit(X_train_data)"
   ]
  },
  {
   "cell_type": "code",
   "execution_count": 9,
   "metadata": {
    "collapsed": false
   },
   "outputs": [
    {
     "name": "stdout",
     "output_type": "stream",
     "text": [
      "Train on 2048 samples, validate on 2048 samples\n",
      "Epoch 1/20\n",
      "2048/2048 [==============================] - 82s - loss: 4.9789 - acc: 0.1768 - val_loss: 3.1855 - val_acc: 0.3364\n",
      "Epoch 2/20\n",
      "2048/2048 [==============================] - 83s - loss: 0.9497 - acc: 0.7778 - val_loss: 2.6862 - val_acc: 0.4219\n",
      "Epoch 3/20\n",
      "2048/2048 [==============================] - 84s - loss: 0.3780 - acc: 0.9214 - val_loss: 2.5379 - val_acc: 0.4512\n",
      "Epoch 4/20\n",
      "2048/2048 [==============================] - 83s - loss: 0.1634 - acc: 0.9741 - val_loss: 2.4853 - val_acc: 0.4683\n",
      "Epoch 5/20\n",
      "2048/2048 [==============================] - 84s - loss: 0.0719 - acc: 0.9956 - val_loss: 2.4639 - val_acc: 0.4810\n",
      "Epoch 6/20\n",
      "2048/2048 [==============================] - 83s - loss: 0.0336 - acc: 0.9985 - val_loss: 2.4534 - val_acc: 0.4858\n",
      "Epoch 7/20\n",
      "2048/2048 [==============================] - 83s - loss: 0.0172 - acc: 0.9990 - val_loss: 2.4469 - val_acc: 0.4956\n",
      "Epoch 8/20\n",
      "2048/2048 [==============================] - 83s - loss: 0.0095 - acc: 1.0000 - val_loss: 2.4427 - val_acc: 0.4971\n",
      "Epoch 9/20\n",
      "2048/2048 [==============================] - 83s - loss: 0.0057 - acc: 1.0000 - val_loss: 2.4414 - val_acc: 0.5049\n",
      "Epoch 10/20\n",
      "2048/2048 [==============================] - 44s - loss: 0.0037 - acc: 1.0000 - val_loss: 2.4429 - val_acc: 0.5088\n",
      "Epoch 11/20\n",
      "2048/2048 [==============================] - 42s - loss: 0.0026 - acc: 1.0000 - val_loss: 2.4463 - val_acc: 0.5122\n",
      "Epoch 12/20\n",
      "2048/2048 [==============================] - 42s - loss: 0.0019 - acc: 1.0000 - val_loss: 2.4507 - val_acc: 0.5098\n",
      "Epoch 13/20\n",
      "2048/2048 [==============================] - 42s - loss: 0.0014 - acc: 1.0000 - val_loss: 2.4553 - val_acc: 0.5112\n",
      "Epoch 14/20\n",
      "2048/2048 [==============================] - 42s - loss: 0.0011 - acc: 1.0000 - val_loss: 2.4601 - val_acc: 0.5122\n",
      "Epoch 15/20\n",
      "2048/2048 [==============================] - 42s - loss: 9.3804e-04 - acc: 1.0000 - val_loss: 2.4646 - val_acc: 0.5117\n",
      "Epoch 16/20\n",
      "2048/2048 [==============================] - 41s - loss: 7.9460e-04 - acc: 1.0000 - val_loss: 2.4690 - val_acc: 0.5122\n",
      "Epoch 17/20\n",
      "2048/2048 [==============================] - 41s - loss: 6.8802e-04 - acc: 1.0000 - val_loss: 2.4732 - val_acc: 0.5132\n",
      "Epoch 18/20\n",
      "2048/2048 [==============================] - 41s - loss: 6.0635e-04 - acc: 1.0000 - val_loss: 2.4772 - val_acc: 0.5151\n",
      "Epoch 19/20\n",
      "2048/2048 [==============================] - 41s - loss: 5.4207e-04 - acc: 1.0000 - val_loss: 2.4810 - val_acc: 0.5156\n",
      "Epoch 20/20\n",
      "2048/2048 [==============================] - 71s - loss: 4.9028e-04 - acc: 1.0000 - val_loss: 2.4846 - val_acc: 0.5176\n"
     ]
    }
   ],
   "source": [
    "hist = tl_model.fit(X_train_data, Y_train_label, \n",
    "             batch_size=32, nb_epoch=20, \n",
    "             verbose=1, validation_split=0.5,\n",
    "             shuffle=None, class_weight=None, sample_weight=None)"
   ]
  },
  {
   "cell_type": "code",
   "execution_count": 10,
   "metadata": {
    "collapsed": false
   },
   "outputs": [
    {
     "name": "stdout",
     "output_type": "stream",
     "text": [
      "{'acc': [0.1767578125, 0.77783203125, 0.92138671875, 0.97412109375, 0.99560546875, 0.99853515625, 0.9990234375, 1.0, 1.0, 1.0, 1.0, 1.0, 1.0, 1.0, 1.0, 1.0, 1.0, 1.0, 1.0, 1.0], 'loss': [4.9789091236889362, 0.9497342174872756, 0.37802272534463555, 0.16343747917562723, 0.071886317135067657, 0.033633500745054334, 0.017177249959786423, 0.0095257239954662509, 0.0057418744436290581, 0.0037208475368970539, 0.0025649235412856797, 0.0018682454901863821, 0.0014284401895565679, 0.001138103531957313, 0.00093804060270485934, 0.00079459523476543836, 0.00068802260739175836, 0.00060635424915744807, 0.00054206586855798378, 0.00049028417379304301], 'val_acc': [0.33642578125, 0.421875, 0.451171875, 0.46826171875, 0.48095703125, 0.48583984375, 0.49560546875, 0.4970703125, 0.5048828125, 0.5087890625, 0.51220703125, 0.509765625, 0.51123046875, 0.51220703125, 0.51171875, 0.51220703125, 0.51318359375, 0.51513671875, 0.515625, 0.517578125], 'val_loss': [3.1855321358889341, 2.6862190123647451, 2.5378982182592154, 2.4852718524634838, 2.4638763498514891, 2.4534089788794518, 2.4468980487436056, 2.4427196606993675, 2.4414409250020981, 2.4428978152573109, 2.4462886955589056, 2.4506541136652231, 2.4553387295454741, 2.4600621033459902, 2.464641235768795, 2.4690250307321548, 2.4732086528092623, 2.4771978389471769, 2.4809944834560156, 2.4845996350049973]}\n"
     ]
    }
   ],
   "source": [
    "print(hist.history)"
   ]
  },
  {
   "cell_type": "code",
   "execution_count": null,
   "metadata": {
    "collapsed": true
   },
   "outputs": [],
   "source": []
  },
  {
   "cell_type": "code",
   "execution_count": 9,
   "metadata": {
    "collapsed": false
   },
   "outputs": [],
   "source": [
    "callbacks = [\n",
    "    EarlyStopping(monitor='val_loss', patience=2, verbose=0, mode='auto'),\n",
    "    ModelCheckpoint(filepath=\"./weights.hdf5\", verbose=1, save_best_only=True)\n",
    "]"
   ]
  },
  {
   "cell_type": "code",
   "execution_count": 31,
   "metadata": {
    "collapsed": false
   },
   "outputs": [
    {
     "name": "stdout",
     "output_type": "stream",
     "text": [
      "Epoch 1/1\n",
      "4096/4096 [==============================] - 40s - loss: 0.2756 - acc: 0.9353    \n"
     ]
    },
    {
     "data": {
      "text/plain": [
       "<keras.callbacks.History at 0x7fd614650990>"
      ]
     },
     "execution_count": 31,
     "metadata": {},
     "output_type": "execute_result"
    }
   ],
   "source": [
    "# tl_model.fit(X_train_data, Y_train_label,\n",
    "#           nb_epoch=20,\n",
    "#           batch_size=16)\n",
    "\n",
    "tl_model.fit(X_train_data, Y_train_label, \n",
    "             batch_size=32, nb_epoch=1, \n",
    "             verbose=1,  \n",
    "             shuffle=None, class_weight=None, sample_weight=None)"
   ]
  },
  {
   "cell_type": "code",
   "execution_count": 33,
   "metadata": {
    "collapsed": false
   },
   "outputs": [
    {
     "name": "stdout",
     "output_type": "stream",
     "text": [
      "2695/2695 [==============================] - 26s    \n",
      "[1.7824576142546418, 0.59962894253031884]\n"
     ]
    }
   ],
   "source": [
    "score = tl_model.evaluate(X_val_data, Y_val_label, batch_size=32, verbose=1, sample_weight=None)\n",
    "print score"
   ]
  },
  {
   "cell_type": "code",
   "execution_count": null,
   "metadata": {
    "collapsed": false
   },
   "outputs": [],
   "source": [
    "import sys\n",
    "\n",
    "# manual batch\n",
    "nb_epoch = 20\n",
    "nm_per_batch = 32\n",
    "for e in range(nb_epoch):\n",
    "    print 'Epoch', e\n",
    "    batches = 0\n",
    "    for X_batch, Y_batch in datagen.flow(X_train_data, Y_train_label, batch_size=nm_per_batch, shuffle=True):\n",
    "        loss = tl_model.train_on_batch(X_batch, Y_batch)\n",
    "#         print 'batches:', batches, ', loss:' , loss[0] , ', acc train:' , loss[1]\n",
    "#         print 'batches:', batches, 'loss:' , loss[0],\n",
    "        print 'batches:', batches,\n",
    "        \n",
    "        batches += 1\n",
    "        if batches >= len(X_train) / nm_per_batch:\n",
    "            # we need to break the loop by hand because\n",
    "            # the generator loops indefinitely\n",
    "            break\n",
    "    \n",
    "    #evaluate on validation\n",
    "    score = tl_model.evaluate(X_val_data, Y_val_label, batch_size=nm_per_batch, verbose=1, sample_weight=None)\n",
    "    print 'loss:' , loss[0] , ', acc train:' , loss[1], 'loss train: ', score"
   ]
  },
  {
   "cell_type": "code",
   "execution_count": null,
   "metadata": {
    "collapsed": false
   },
   "outputs": [],
   "source": []
  },
  {
   "cell_type": "code",
   "execution_count": null,
   "metadata": {
    "collapsed": true
   },
   "outputs": [],
   "source": []
  },
  {
   "cell_type": "code",
   "execution_count": null,
   "metadata": {
    "collapsed": false
   },
   "outputs": [],
   "source": []
  },
  {
   "cell_type": "code",
   "execution_count": null,
   "metadata": {
    "collapsed": true
   },
   "outputs": [],
   "source": []
  }
 ],
 "metadata": {
  "kernelspec": {
   "display_name": "Python 2",
   "language": "python",
   "name": "python2"
  },
  "language_info": {
   "codemirror_mode": {
    "name": "ipython",
    "version": 2
   },
   "file_extension": ".py",
   "mimetype": "text/x-python",
   "name": "python",
   "nbconvert_exporter": "python",
   "pygments_lexer": "ipython2",
   "version": "2.7.6"
  }
 },
 "nbformat": 4,
 "nbformat_minor": 2
}
