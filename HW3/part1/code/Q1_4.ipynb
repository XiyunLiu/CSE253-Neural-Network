{
 "cells": [
  {
   "cell_type": "code",
   "execution_count": 1,
   "metadata": {
    "collapsed": false
   },
   "outputs": [
    {
     "name": "stderr",
     "output_type": "stream",
     "text": [
      "Using Theano backend.\n",
      "Using gpu device 0: GeForce GTX 1080 (CNMeM is disabled, cuDNN not available)\n"
     ]
    }
   ],
   "source": [
    "import os\n",
    "import numpy as np\n",
    "import random\n",
    "from scipy import ndimage\n",
    "from skimage import transform\n",
    "import keras\n",
    "from keras.layers import Dense\n",
    "from keras.applications import VGG16\n",
    "from keras.models import Model\n",
    "from keras.optimizers import SGD\n",
    "from keras.callbacks import Callback, ModelCheckpoint, EarlyStopping\n",
    "import skimage.io as io\n",
    "\n",
    "# MEAN = np.array([123.0, 117.0, 104.0])\n",
    "MEAN = np.array([0, 0, 0])\n",
    "def getModel( output_dim ):\n",
    "    ''' \n",
    "        * output_dim: the number of classes (int)\n",
    "        \n",
    "        * return: compiled model (keras.engine.training.Model)\n",
    "    '''\n",
    "    vgg_model = VGG16( weights='imagenet', include_top=True )\n",
    "    vgg_out = vgg_model.layers[-2].output #Last FC layer's output  \n",
    "    softmax_layer = Dense(256, activation='softmax')(vgg_out) #Create softmax layer taking input as vgg_ou\n",
    "    #Create new transfer learning model\n",
    "    tl_model = Model( input=vgg_model.input, output=softmax_layer )\n",
    "\n",
    "    #Freeze all layers of VGG16 and Compile the model\n",
    "    #Confirm the model is appropriate\n",
    "    for l in vgg_model.layers:\n",
    "        l.trainable = False\n",
    "\n",
    "    return tl_model\n",
    "def convert_image(collect):\n",
    "#     sz = np.shape(collect)[0]\n",
    "    sz = len(collect)\n",
    "    images = np.zeros((sz, 224, 224, 3))\n",
    "    for i in range(sz):\n",
    "        img = collect[i]\n",
    "        img = transform.resize(img, (224, 224))*255\n",
    "        if (len(img.shape) != 3):\n",
    "           img = img[:,:,np.newaxis]\n",
    "        images[i] = img\n",
    "    return images\n",
    "\n",
    "sizeOfEachClass = 8\n",
    "sizeOfTestEachClass = 16\n",
    "path='/home/yiluo/Homework/253/3/256_ObjectCategories/'\n",
    "files = os.listdir(path)\n",
    "X_train, X_val, X_test = [], [], []\n",
    "Y_train, Y_val, Y_test = [], [], []\n",
    "label = 0\n",
    "for category in files:\n",
    "    sub_path = path + category\n",
    "    sub_files = os.listdir(sub_path)\n",
    "    cnt = np.shape(sub_files)[0]\n",
    "    num = 1\n",
    "    for img_nm in sub_files:\n",
    "        if img_nm[-4:] == '.jpg':\n",
    "            img_path = sub_path + '/' + img_nm\n",
    "            #img = ndimage.imread(sub_path + '/' + img_nm)\n",
    "            #img = transform.resize(img, (224, 224))*255\n",
    "            if num <= np.floor(0.8*cnt):\n",
    "                if num <= sizeOfEachClass:\n",
    "                    X_train.append(img_path)\n",
    "                    Y_train.append(label)\n",
    "            elif num <= np.floor(0.9*cnt):\n",
    "                if num <= np.floor(0.8*cnt) + sizeOfTestEachClass:\n",
    "                    X_val.append(img_path)\n",
    "                    Y_val.append(label)\n",
    "            else:\n",
    "                X_test.append(img_path)\n",
    "                Y_test.append(label)\n",
    "            num += 1\n",
    "    label += 1"
   ]
  },
  {
   "cell_type": "code",
   "execution_count": 2,
   "metadata": {
    "collapsed": false
   },
   "outputs": [
    {
     "data": {
      "text/plain": [
       "256"
      ]
     },
     "execution_count": 2,
     "metadata": {},
     "output_type": "execute_result"
    }
   ],
   "source": [
    "label"
   ]
  },
  {
   "cell_type": "code",
   "execution_count": null,
   "metadata": {
    "collapsed": false
   },
   "outputs": [],
   "source": []
  },
  {
   "cell_type": "code",
   "execution_count": null,
   "metadata": {
    "collapsed": false
   },
   "outputs": [],
   "source": []
  },
  {
   "cell_type": "code",
   "execution_count": null,
   "metadata": {
    "collapsed": false
   },
   "outputs": [],
   "source": []
  },
  {
   "cell_type": "code",
   "execution_count": 3,
   "metadata": {
    "collapsed": false
   },
   "outputs": [],
   "source": [
    "#shuffle\n",
    "ind=range(int(len(X_train)))\n",
    "random.shuffle(ind)\n",
    "X_train = [X_train[i] for i in ind]\n",
    "Y_train = [Y_train[i] for i in ind]\n",
    "Y_train_label = np.zeros((len(Y_train), 256))\n",
    "for i in range(len(Y_train)):\n",
    "    Y_train_label[i, Y_train[i]] = 1\n",
    "    \n",
    "#validation  \n",
    "Y_val_label = np.zeros((len(Y_val), 256))\n",
    "for i in range(len(Y_val)):\n",
    "    Y_val_label[i, Y_val[i]] = 1\n",
    "    \n",
    "#test\n",
    "Y_test_label = np.zeros((len(Y_test), 256))\n",
    "for i in range(len(Y_test)):\n",
    "    Y_test_label[i, Y_test[i]] = 1"
   ]
  },
  {
   "cell_type": "code",
   "execution_count": null,
   "metadata": {
    "collapsed": true
   },
   "outputs": [],
   "source": []
  },
  {
   "cell_type": "code",
   "execution_count": 4,
   "metadata": {
    "collapsed": false
   },
   "outputs": [
    {
     "data": {
      "text/plain": [
       "(2048, 256)"
      ]
     },
     "execution_count": 4,
     "metadata": {},
     "output_type": "execute_result"
    }
   ],
   "source": [
    "np.shape(Y_train_label)"
   ]
  },
  {
   "cell_type": "code",
   "execution_count": 5,
   "metadata": {
    "collapsed": false
   },
   "outputs": [],
   "source": [
    "# #Output dim for your dataset\n",
    "# output_dim = 256 #For Caltech256\n",
    "\n",
    "# tl_model = getModel( output_dim )\n",
    "# tl_model.compile(loss='categorical_crossentropy', optimizer='adadelta', metrics=['accuracy'])\n",
    "# for epoch in range(10):\n",
    "#     start = 0\n",
    "#     for batch in range(len(X_train)/64):\n",
    "#         coll=io.ImageCollection(X_train[start:start+64])\n",
    "#         images = convert_image(coll)\n",
    "#         tl_model.train_on_batch(images, Y_train_label[start:start+64, :])\n",
    "# #         tl_model.summary()\n",
    "#         start += 64\n",
    "# print 'stop here'"
   ]
  },
  {
   "cell_type": "code",
   "execution_count": null,
   "metadata": {
    "collapsed": true
   },
   "outputs": [],
   "source": []
  },
  {
   "cell_type": "code",
   "execution_count": null,
   "metadata": {
    "collapsed": false
   },
   "outputs": [],
   "source": []
  },
  {
   "cell_type": "code",
   "execution_count": 6,
   "metadata": {
    "collapsed": false
   },
   "outputs": [],
   "source": [
    "#Output dim for your dataset\n",
    "output_dim = 256 #For Caltech256\n",
    "\n",
    "#Data\n",
    "coll = io.ImageCollection(X_train)\n",
    "X_train_data = convert_image(coll)\n",
    "# coll_val = io.ImageCollection(X_val)\n",
    "# X_val_data = convert_image(coll_val)"
   ]
  },
  {
   "cell_type": "code",
   "execution_count": null,
   "metadata": {
    "collapsed": false
   },
   "outputs": [],
   "source": []
  },
  {
   "cell_type": "code",
   "execution_count": 7,
   "metadata": {
    "collapsed": false
   },
   "outputs": [],
   "source": [
    "#Model\n",
    "tl_model = getModel( output_dim )\n",
    "# rmsprop = keras.optimizers.RMSprop(lr=0.001, rho=0.9, epsilon=1e-08, decay=0.0) # error\n",
    "# sgd = keras.optimizers.SGD(lr=0.0001, momentum=0.9, decay=0.0, nesterov=True)\n",
    "tl_model.compile(loss='categorical_crossentropy', optimizer='adadelta', metrics=['accuracy'])"
   ]
  },
  {
   "cell_type": "code",
   "execution_count": 8,
   "metadata": {
    "collapsed": false
   },
   "outputs": [],
   "source": [
    "from keras.preprocessing.image import ImageDataGenerator\n",
    "\n",
    "datagen = ImageDataGenerator(\n",
    "    samplewise_center=True)\n",
    "\n",
    "# compute quantities required for featurewise normalization\n",
    "# (std, mean, and principal components if ZCA whitening is applied)\n",
    "datagen.fit(X_train_data)"
   ]
  },
  {
   "cell_type": "code",
   "execution_count": 9,
   "metadata": {
    "collapsed": false
   },
   "outputs": [
    {
     "name": "stdout",
     "output_type": "stream",
     "text": [
      "Train on 1024 samples, validate on 1024 samples\n",
      "Epoch 1/20\n",
      "1024/1024 [==============================] - 20s - loss: 6.2708 - acc: 0.0518 - val_loss: 4.5489 - val_acc: 0.1631\n",
      "Epoch 2/20\n",
      "1024/1024 [==============================] - 22s - loss: 1.3294 - acc: 0.6934 - val_loss: 3.7921 - val_acc: 0.2695\n",
      "Epoch 3/20\n",
      "1024/1024 [==============================] - 41s - loss: 0.3817 - acc: 0.9463 - val_loss: 3.5783 - val_acc: 0.3037\n",
      "Epoch 4/20\n",
      "1024/1024 [==============================] - 42s - loss: 0.1496 - acc: 0.9922 - val_loss: 3.4869 - val_acc: 0.3203\n",
      "Epoch 5/20\n",
      "1024/1024 [==============================] - 42s - loss: 0.0706 - acc: 0.9971 - val_loss: 3.4270 - val_acc: 0.3301\n",
      "Epoch 6/20\n",
      "1024/1024 [==============================] - 42s - loss: 0.0363 - acc: 0.9990 - val_loss: 3.3775 - val_acc: 0.3418\n",
      "Epoch 7/20\n",
      "1024/1024 [==============================] - 41s - loss: 0.0200 - acc: 1.0000 - val_loss: 3.3344 - val_acc: 0.3496\n",
      "Epoch 8/20\n",
      "1024/1024 [==============================] - 42s - loss: 0.0118 - acc: 1.0000 - val_loss: 3.2994 - val_acc: 0.3652\n",
      "Epoch 9/20\n",
      "1024/1024 [==============================] - 41s - loss: 0.0074 - acc: 1.0000 - val_loss: 3.2739 - val_acc: 0.3789\n",
      "Epoch 10/20\n",
      "1024/1024 [==============================] - 42s - loss: 0.0048 - acc: 1.0000 - val_loss: 3.2578 - val_acc: 0.3848\n",
      "Epoch 11/20\n",
      "1024/1024 [==============================] - 42s - loss: 0.0033 - acc: 1.0000 - val_loss: 3.2494 - val_acc: 0.3848\n",
      "Epoch 12/20\n",
      "1024/1024 [==============================] - 42s - loss: 0.0023 - acc: 1.0000 - val_loss: 3.2466 - val_acc: 0.3877\n",
      "Epoch 13/20\n",
      "1024/1024 [==============================] - 41s - loss: 0.0017 - acc: 1.0000 - val_loss: 3.2470 - val_acc: 0.3887\n",
      "Epoch 14/20\n",
      "1024/1024 [==============================] - 41s - loss: 0.0014 - acc: 1.0000 - val_loss: 3.2489 - val_acc: 0.3877\n",
      "Epoch 15/20\n",
      "1024/1024 [==============================] - 41s - loss: 0.0011 - acc: 1.0000 - val_loss: 3.2514 - val_acc: 0.3896\n",
      "Epoch 16/20\n",
      "1024/1024 [==============================] - 41s - loss: 9.0494e-04 - acc: 1.0000 - val_loss: 3.2540 - val_acc: 0.3965\n",
      "Epoch 17/20\n",
      "1024/1024 [==============================] - 41s - loss: 7.7094e-04 - acc: 1.0000 - val_loss: 3.2564 - val_acc: 0.3984\n",
      "Epoch 18/20\n",
      "1024/1024 [==============================] - 42s - loss: 6.7084e-04 - acc: 1.0000 - val_loss: 3.2588 - val_acc: 0.3975\n",
      "Epoch 19/20\n",
      "1024/1024 [==============================] - 41s - loss: 5.9376e-04 - acc: 1.0000 - val_loss: 3.2610 - val_acc: 0.3994\n",
      "Epoch 20/20\n",
      "1024/1024 [==============================] - 42s - loss: 5.3280e-04 - acc: 1.0000 - val_loss: 3.2631 - val_acc: 0.3994\n"
     ]
    }
   ],
   "source": [
    "hist = tl_model.fit(X_train_data, Y_train_label, \n",
    "             batch_size=32, nb_epoch=20, \n",
    "             verbose=1, validation_split=0.5,\n",
    "             shuffle=None, class_weight=None, sample_weight=None)"
   ]
  },
  {
   "cell_type": "code",
   "execution_count": 11,
   "metadata": {
    "collapsed": false
   },
   "outputs": [
    {
     "name": "stdout",
     "output_type": "stream",
     "text": [
      "{'acc': [0.0517578125, 0.693359375, 0.9462890625, 0.9921875, 0.9970703125, 0.9990234375, 1.0, 1.0, 1.0, 1.0, 1.0, 1.0, 1.0, 1.0, 1.0, 1.0, 1.0, 1.0, 1.0, 1.0], 'loss': [6.2707549184560776, 1.3294065129011869, 0.38165496755391359, 0.14961046539247036, 0.070614418713375926, 0.0362593510071747, 0.020049547427333891, 0.011828141752630472, 0.0073584155034041032, 0.0048052082420326769, 0.0032853434313437901, 0.0023464623955078423, 0.00174809681266197, 0.00135563442199782, 0.0010903109923674492, 0.00090493961943138856, 0.00077094227890484035, 0.00067083583962812554, 0.00059375638556957711, 0.00053279732310329564], 'val_acc': [0.1630859375, 0.26953125, 0.3037109375, 0.3203125, 0.330078125, 0.341796875, 0.349609375, 0.365234375, 0.37890625, 0.384765625, 0.384765625, 0.3876953125, 0.388671875, 0.3876953125, 0.3896484375, 0.396484375, 0.3984375, 0.3974609375, 0.3994140625, 0.3994140625], 'val_loss': [4.5489059090614319, 3.7920874133706093, 3.5782508254051208, 3.4869080409407616, 3.4269986636936665, 3.3775101117789745, 3.3344010859727859, 3.2993801683187485, 3.2739211469888687, 3.257784515619278, 3.2494156658649445, 3.2465671040117741, 3.2469698190689087, 3.2489093542098999, 3.2513912320137024, 3.2539540380239487, 3.256428524851799, 3.2587699890136719, 3.2609794214367867, 3.2630684226751328]}\n"
     ]
    }
   ],
   "source": [
    "print(hist.history)"
   ]
  },
  {
   "cell_type": "code",
   "execution_count": null,
   "metadata": {
    "collapsed": true
   },
   "outputs": [],
   "source": []
  },
  {
   "cell_type": "code",
   "execution_count": 9,
   "metadata": {
    "collapsed": false
   },
   "outputs": [],
   "source": [
    "callbacks = [\n",
    "    EarlyStopping(monitor='val_loss', patience=2, verbose=0, mode='auto'),\n",
    "    ModelCheckpoint(filepath=\"./weights.hdf5\", verbose=1, save_best_only=True)\n",
    "]"
   ]
  },
  {
   "cell_type": "code",
   "execution_count": 31,
   "metadata": {
    "collapsed": false
   },
   "outputs": [
    {
     "name": "stdout",
     "output_type": "stream",
     "text": [
      "Epoch 1/1\n",
      "4096/4096 [==============================] - 40s - loss: 0.2756 - acc: 0.9353    \n"
     ]
    },
    {
     "data": {
      "text/plain": [
       "<keras.callbacks.History at 0x7fd614650990>"
      ]
     },
     "execution_count": 31,
     "metadata": {},
     "output_type": "execute_result"
    }
   ],
   "source": [
    "# tl_model.fit(X_train_data, Y_train_label,\n",
    "#           nb_epoch=20,\n",
    "#           batch_size=16)\n",
    "\n",
    "tl_model.fit(X_train_data, Y_train_label, \n",
    "             batch_size=32, nb_epoch=1, \n",
    "             verbose=1,  \n",
    "             shuffle=None, class_weight=None, sample_weight=None)"
   ]
  },
  {
   "cell_type": "code",
   "execution_count": 33,
   "metadata": {
    "collapsed": false
   },
   "outputs": [
    {
     "name": "stdout",
     "output_type": "stream",
     "text": [
      "2695/2695 [==============================] - 26s    \n",
      "[1.7824576142546418, 0.59962894253031884]\n"
     ]
    }
   ],
   "source": [
    "score = tl_model.evaluate(X_val_data, Y_val_label, batch_size=32, verbose=1, sample_weight=None)\n",
    "print score"
   ]
  },
  {
   "cell_type": "code",
   "execution_count": null,
   "metadata": {
    "collapsed": false
   },
   "outputs": [],
   "source": [
    "import sys\n",
    "\n",
    "# manual batch\n",
    "nb_epoch = 20\n",
    "nm_per_batch = 32\n",
    "for e in range(nb_epoch):\n",
    "    print 'Epoch', e\n",
    "    batches = 0\n",
    "    for X_batch, Y_batch in datagen.flow(X_train_data, Y_train_label, batch_size=nm_per_batch, shuffle=True):\n",
    "        loss = tl_model.train_on_batch(X_batch, Y_batch)\n",
    "#         print 'batches:', batches, ', loss:' , loss[0] , ', acc train:' , loss[1]\n",
    "#         print 'batches:', batches, 'loss:' , loss[0],\n",
    "        print 'batches:', batches,\n",
    "        \n",
    "        batches += 1\n",
    "        if batches >= len(X_train) / nm_per_batch:\n",
    "            # we need to break the loop by hand because\n",
    "            # the generator loops indefinitely\n",
    "            break\n",
    "    \n",
    "    #evaluate on validation\n",
    "    score = tl_model.evaluate(X_val_data, Y_val_label, batch_size=nm_per_batch, verbose=1, sample_weight=None)\n",
    "    print 'loss:' , loss[0] , ', acc train:' , loss[1], 'loss train: ', score"
   ]
  },
  {
   "cell_type": "code",
   "execution_count": null,
   "metadata": {
    "collapsed": false
   },
   "outputs": [],
   "source": []
  },
  {
   "cell_type": "code",
   "execution_count": null,
   "metadata": {
    "collapsed": true
   },
   "outputs": [],
   "source": []
  },
  {
   "cell_type": "code",
   "execution_count": null,
   "metadata": {
    "collapsed": false
   },
   "outputs": [],
   "source": []
  },
  {
   "cell_type": "code",
   "execution_count": null,
   "metadata": {
    "collapsed": true
   },
   "outputs": [],
   "source": []
  }
 ],
 "metadata": {
  "kernelspec": {
   "display_name": "Python 2",
   "language": "python",
   "name": "python2"
  },
  "language_info": {
   "codemirror_mode": {
    "name": "ipython",
    "version": 2
   },
   "file_extension": ".py",
   "mimetype": "text/x-python",
   "name": "python",
   "nbconvert_exporter": "python",
   "pygments_lexer": "ipython2",
   "version": "2.7.6"
  }
 },
 "nbformat": 4,
 "nbformat_minor": 2
}
