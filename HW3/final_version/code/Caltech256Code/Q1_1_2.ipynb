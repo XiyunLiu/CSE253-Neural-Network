{
 "cells": [
  {
   "cell_type": "code",
   "execution_count": 1,
   "metadata": {
    "collapsed": false
   },
   "outputs": [
    {
     "name": "stderr",
     "output_type": "stream",
     "text": [
      "Using Theano backend.\n",
      "Using gpu device 0: GeForce GTX 1080 (CNMeM is disabled, cuDNN not available)\n"
     ]
    }
   ],
   "source": [
    "import os\n",
    "import numpy as np\n",
    "import random\n",
    "from scipy import ndimage\n",
    "from skimage import transform\n",
    "import keras\n",
    "from keras.layers import Dense\n",
    "from keras.applications import VGG16\n",
    "from keras.models import Model\n",
    "from keras.optimizers import SGD\n",
    "from keras.callbacks import Callback, ModelCheckpoint, EarlyStopping\n",
    "import skimage.io as io\n",
    "\n",
    "# MEAN = np.array([123.0, 117.0, 104.0])\n",
    "MEAN = np.array([0, 0, 0])\n",
    "def getModel( output_dim ):\n",
    "    ''' \n",
    "        * output_dim: the number of classes (int)\n",
    "        \n",
    "        * return: compiled model (keras.engine.training.Model)\n",
    "    '''\n",
    "    vgg_model = VGG16( weights='imagenet', include_top=True )\n",
    "    vgg_out = vgg_model.layers[-2].output #Last FC layer's output  \n",
    "    softmax_layer = Dense(256, activation='softmax')(vgg_out) #Create softmax layer taking input as vgg_ou\n",
    "    #Create new transfer learning model\n",
    "    tl_model = Model( input=vgg_model.input, output=softmax_layer )\n",
    "\n",
    "    #Freeze all layers of VGG16 and Compile the model\n",
    "    #Confirm the model is appropriate\n",
    "    for l in vgg_model.layers:\n",
    "        l.trainable = False\n",
    "\n",
    "    return tl_model\n",
    "def convert_image(collect):\n",
    "#     sz = np.shape(collect)[0]\n",
    "    sz = len(collect)\n",
    "    images = np.zeros((sz, 224, 224, 3))\n",
    "    for i in range(sz):\n",
    "        img = collect[i]\n",
    "        img = transform.resize(img, (224, 224))*255\n",
    "        if (len(img.shape) != 3):\n",
    "           img = img[:,:,np.newaxis]\n",
    "        images[i] = img\n",
    "    return images\n",
    "\n",
    "sizeOfEachClass = 4\n",
    "sizeOfTestEachClass = 16\n",
    "path='/home/yiluo/Homework/253/3/256_ObjectCategories/'\n",
    "files = os.listdir(path)\n",
    "X_train, X_val, X_test = [], [], []\n",
    "Y_train, Y_val, Y_test = [], [], []\n",
    "label = 0\n",
    "for category in files:\n",
    "    sub_path = path + category\n",
    "    sub_files = os.listdir(sub_path)\n",
    "    cnt = np.shape(sub_files)[0]\n",
    "    num = 1\n",
    "    for img_nm in sub_files:\n",
    "        if img_nm[-4:] == '.jpg':\n",
    "            img_path = sub_path + '/' + img_nm\n",
    "            #img = ndimage.imread(sub_path + '/' + img_nm)\n",
    "            #img = transform.resize(img, (224, 224))*255\n",
    "            if num <= np.floor(0.8*cnt):\n",
    "                if num <= sizeOfEachClass:\n",
    "                    X_train.append(img_path)\n",
    "                    Y_train.append(label)\n",
    "            elif num <= np.floor(0.9*cnt):\n",
    "                if num <= np.floor(0.8*cnt) + sizeOfTestEachClass:\n",
    "                    X_val.append(img_path)\n",
    "                    Y_val.append(label)\n",
    "            else:\n",
    "                X_test.append(img_path)\n",
    "                Y_test.append(label)\n",
    "            num += 1\n",
    "    label += 1"
   ]
  },
  {
   "cell_type": "code",
   "execution_count": 3,
   "metadata": {
    "collapsed": false
   },
   "outputs": [],
   "source": [
    "#shuffle\n",
    "ind=range(int(len(X_train)))\n",
    "random.shuffle(ind)\n",
    "X_train = [X_train[i] for i in ind]\n",
    "Y_train = [Y_train[i] for i in ind]\n",
    "Y_train_label = np.zeros((len(Y_train), 256))\n",
    "for i in range(len(Y_train)):\n",
    "    Y_train_label[i, Y_train[i]] = 1\n",
    "    \n",
    "#validation  \n",
    "Y_val_label = np.zeros((len(Y_val), 256))\n",
    "for i in range(len(Y_val)):\n",
    "    Y_val_label[i, Y_val[i]] = 1\n",
    "    \n",
    "#test\n",
    "Y_test_label = np.zeros((len(Y_test), 256))\n",
    "for i in range(len(Y_test)):\n",
    "    Y_test_label[i, Y_test[i]] = 1"
   ]
  },
  {
   "cell_type": "code",
   "execution_count": 6,
   "metadata": {
    "collapsed": false
   },
   "outputs": [],
   "source": [
    "#Output dim for your dataset\n",
    "output_dim = 256 #For Caltech256\n",
    "\n",
    "#Data\n",
    "coll = io.ImageCollection(X_train)\n",
    "X_train_data = convert_image(coll)\n",
    "# coll_val = io.ImageCollection(X_val)\n",
    "# X_val_data = convert_image(coll_val)"
   ]
  },
  {
   "cell_type": "code",
   "execution_count": 7,
   "metadata": {
    "collapsed": false
   },
   "outputs": [],
   "source": [
    "#Model\n",
    "tl_model = getModel( output_dim )\n",
    "# rmsprop = keras.optimizers.RMSprop(lr=0.001, rho=0.9, epsilon=1e-08, decay=0.0) # error\n",
    "# sgd = keras.optimizers.SGD(lr=0.0001, momentum=0.9, decay=0.0, nesterov=True)\n",
    "tl_model.compile(loss='categorical_crossentropy', optimizer='adadelta', metrics=['accuracy'])"
   ]
  },
  {
   "cell_type": "code",
   "execution_count": 8,
   "metadata": {
    "collapsed": false
   },
   "outputs": [],
   "source": [
    "from keras.preprocessing.image import ImageDataGenerator\n",
    "\n",
    "datagen = ImageDataGenerator(\n",
    "    samplewise_center=True)\n",
    "\n",
    "# compute quantities required for featurewise normalization\n",
    "# (std, mean, and principal components if ZCA whitening is applied)\n",
    "datagen.fit(X_train_data)"
   ]
  },
  {
   "cell_type": "code",
   "execution_count": 9,
   "metadata": {
    "collapsed": false
   },
   "outputs": [
    {
     "name": "stdout",
     "output_type": "stream",
     "text": [
      "Train on 512 samples, validate on 512 samples\n",
      "Epoch 1/20\n",
      "512/512 [==============================] - 20s - loss: 7.0990 - acc: 0.0234 - val_loss: 6.4300 - val_acc: 0.0469\n",
      "Epoch 2/20\n",
      "512/512 [==============================] - 21s - loss: 2.1149 - acc: 0.4902 - val_loss: 5.6603 - val_acc: 0.1211\n",
      "Epoch 3/20\n",
      "512/512 [==============================] - 18s - loss: 0.5266 - acc: 0.9160 - val_loss: 5.4473 - val_acc: 0.1543\n",
      "Epoch 4/20\n",
      "512/512 [==============================] - 10s - loss: 0.1737 - acc: 0.9961 - val_loss: 5.4175 - val_acc: 0.1660\n",
      "Epoch 5/20\n",
      "512/512 [==============================] - 10s - loss: 0.0847 - acc: 1.0000 - val_loss: 5.4118 - val_acc: 0.1699\n",
      "Epoch 6/20\n",
      "512/512 [==============================] - 10s - loss: 0.0531 - acc: 1.0000 - val_loss: 5.4059 - val_acc: 0.1738\n",
      "Epoch 7/20\n",
      "512/512 [==============================] - 10s - loss: 0.0368 - acc: 1.0000 - val_loss: 5.3969 - val_acc: 0.1836\n",
      "Epoch 8/20\n",
      "512/512 [==============================] - 10s - loss: 0.0265 - acc: 1.0000 - val_loss: 5.3831 - val_acc: 0.1875\n",
      "Epoch 9/20\n",
      "512/512 [==============================] - 10s - loss: 0.0194 - acc: 1.0000 - val_loss: 5.3643 - val_acc: 0.1953\n",
      "Epoch 10/20\n",
      "512/512 [==============================] - 10s - loss: 0.0142 - acc: 1.0000 - val_loss: 5.3415 - val_acc: 0.1992\n",
      "Epoch 11/20\n",
      "512/512 [==============================] - 10s - loss: 0.0105 - acc: 1.0000 - val_loss: 5.3166 - val_acc: 0.2012\n",
      "Epoch 12/20\n",
      "512/512 [==============================] - 10s - loss: 0.0078 - acc: 1.0000 - val_loss: 5.2923 - val_acc: 0.2012\n",
      "Epoch 13/20\n",
      "512/512 [==============================] - 10s - loss: 0.0059 - acc: 1.0000 - val_loss: 5.2708 - val_acc: 0.2051\n",
      "Epoch 14/20\n",
      "512/512 [==============================] - 10s - loss: 0.0045 - acc: 1.0000 - val_loss: 5.2541 - val_acc: 0.2090\n",
      "Epoch 15/20\n",
      "512/512 [==============================] - 11s - loss: 0.0035 - acc: 1.0000 - val_loss: 5.2431 - val_acc: 0.2168\n",
      "Epoch 16/20\n",
      "512/512 [==============================] - 10s - loss: 0.0027 - acc: 1.0000 - val_loss: 5.2380 - val_acc: 0.2168\n",
      "Epoch 17/20\n",
      "512/512 [==============================] - 10s - loss: 0.0021 - acc: 1.0000 - val_loss: 5.2381 - val_acc: 0.2246\n",
      "Epoch 18/20\n",
      "512/512 [==============================] - 10s - loss: 0.0017 - acc: 1.0000 - val_loss: 5.2423 - val_acc: 0.2266\n",
      "Epoch 19/20\n",
      "512/512 [==============================] - 10s - loss: 0.0014 - acc: 1.0000 - val_loss: 5.2491 - val_acc: 0.2266\n",
      "Epoch 20/20\n",
      "512/512 [==============================] - 10s - loss: 0.0012 - acc: 1.0000 - val_loss: 5.2575 - val_acc: 0.2266\n"
     ]
    }
   ],
   "source": [
    "hist = tl_model.fit(X_train_data, Y_train_label, \n",
    "             batch_size=32, nb_epoch=20, \n",
    "             verbose=1, validation_split=0.5,\n",
    "             shuffle=None, class_weight=None, sample_weight=None)"
   ]
  },
  {
   "cell_type": "code",
   "execution_count": 10,
   "metadata": {
    "collapsed": false
   },
   "outputs": [
    {
     "name": "stdout",
     "output_type": "stream",
     "text": [
      "{'acc': [0.0234375, 0.490234375, 0.916015625, 0.99609375, 1.0, 1.0, 1.0, 1.0, 1.0, 1.0, 1.0, 1.0, 1.0, 1.0, 1.0, 1.0, 1.0, 1.0, 1.0, 1.0], 'loss': [7.0989522337913513, 2.1149047836661339, 0.52656716853380203, 0.17368504870682955, 0.084748305380344391, 0.053056184202432632, 0.036764368182048202, 0.026489594718441367, 0.019367762259207666, 0.01424438483081758, 0.010526108206249774, 0.0078323656925931573, 0.0058857044496107846, 0.0044771934481104836, 0.0034520718472776935, 0.0026990597980329767, 0.0021403353021014482, 0.0017221575471921824, 0.001407113712048158, 0.0011684711571433581], 'val_acc': [0.046875, 0.12109375, 0.154296875, 0.166015625, 0.169921875, 0.173828125, 0.18359375, 0.1875, 0.1953125, 0.19921875, 0.201171875, 0.201171875, 0.205078125, 0.208984375, 0.216796875, 0.216796875, 0.224609375, 0.2265625, 0.2265625, 0.2265625], 'val_loss': [6.429975301027298, 5.6602542400360107, 5.4473003447055817, 5.4174874722957611, 5.4117568731307983, 5.4058922231197357, 5.3968522250652313, 5.3831092715263367, 5.364321380853653, 5.3414738774299622, 5.3166095912456512, 5.2922511398792267, 5.2708006203174591, 5.2540781795978546, 5.2430924773216248, 5.238000214099884, 5.2380543649196625, 5.2423103749752045, 5.2491333484649658, 5.2575461268424988]}\n"
     ]
    }
   ],
   "source": [
    "print(hist.history)"
   ]
  },
  {
   "cell_type": "code",
   "execution_count": null,
   "metadata": {
    "collapsed": false
   },
   "outputs": [],
   "source": []
  },
  {
   "cell_type": "code",
   "execution_count": null,
   "metadata": {
    "collapsed": true
   },
   "outputs": [],
   "source": []
  },
  {
   "cell_type": "code",
   "execution_count": null,
   "metadata": {
    "collapsed": false
   },
   "outputs": [],
   "source": []
  },
  {
   "cell_type": "code",
   "execution_count": null,
   "metadata": {
    "collapsed": true
   },
   "outputs": [],
   "source": []
  }
 ],
 "metadata": {
  "kernelspec": {
   "display_name": "Python 2",
   "language": "python",
   "name": "python2"
  },
  "language_info": {
   "codemirror_mode": {
    "name": "ipython",
    "version": 2
   },
   "file_extension": ".py",
   "mimetype": "text/x-python",
   "name": "python",
   "nbconvert_exporter": "python",
   "pygments_lexer": "ipython2",
   "version": "2.7.13"
  }
 },
 "nbformat": 4,
 "nbformat_minor": 2
}
