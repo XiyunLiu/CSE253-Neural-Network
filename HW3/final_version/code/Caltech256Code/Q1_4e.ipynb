{
 "cells": [
  {
   "cell_type": "code",
   "execution_count": 7,
   "metadata": {
    "collapsed": false
   },
   "outputs": [],
   "source": [
    "import os\n",
    "import numpy as np\n",
    "import random\n",
    "from scipy import ndimage\n",
    "from skimage import transform\n",
    "import keras\n",
    "from keras.layers import Dense\n",
    "from keras.applications import VGG16\n",
    "from keras.models import Model\n",
    "from keras.optimizers import SGD\n",
    "from keras.callbacks import Callback, ModelCheckpoint, EarlyStopping\n",
    "import skimage.io as io\n",
    "from skimage.viewer import ImageViewer"
   ]
  },
  {
   "cell_type": "code",
   "execution_count": 73,
   "metadata": {
    "collapsed": true
   },
   "outputs": [],
   "source": [
    "data = io.imread('/home/yiluo/Homework/253/3/input.jpg')\n",
    "viewer = ImageViewer(data)\n",
    "viewer.show()\n",
    "MEAN = np.array([123.0, 117.0, 104.0])\n",
    "data = transform.resize(data, (224, 224))*255 - MEAN.reshape((1,1,3))\n",
    "data = data.reshape(1, 224, 224, 3)"
   ]
  },
  {
   "cell_type": "code",
   "execution_count": 74,
   "metadata": {
    "collapsed": false
   },
   "outputs": [],
   "source": [
    "vgg_model = VGG16( weights='imagenet', include_top=True )\n",
    "layer_name = 'block5_conv3'\n",
    "intermediate_layer_model = Model(input=vgg_model.input,\n",
    "                                 output=vgg_model.get_layer(layer_name).output)\n",
    "intermediate_output = intermediate_layer_model.predict(data)\n",
    "stitched_filters = np.zeros((14*23, 14*23))\n",
    "for i in range(23):\n",
    "    for j in range(23):\n",
    "        cur = i*23 + j\n",
    "        if cur >= 512:\n",
    "            break;\n",
    "#         print 14*i, 14*(i+1), 14*j, 14*(j+1)\n",
    "        stitched_filters[14*i: 14*(i+1), 14*j:14*(j+1)] = intermediate_output[0, :, :, cur]\n",
    "io.imsave('./block5_conv3.png', stitched_filters)"
   ]
  },
  {
   "cell_type": "code",
   "execution_count": 75,
   "metadata": {
    "collapsed": false
   },
   "outputs": [],
   "source": [
    "# Other\n",
    "layer_name = 'block1_conv1'\n",
    "intermediate_layer_model = Model(input=vgg_model.input,\n",
    "                                 output=vgg_model.get_layer(layer_name).output)\n",
    "intermediate_output = intermediate_layer_model.predict(data)\n",
    "# stitch\n",
    "stitched_filters = np.zeros((224*8, 224*8))\n",
    "for i in range(8):\n",
    "    for j in range(8):\n",
    "        cur = i*8 + j\n",
    "        if cur >= 64:\n",
    "            break;\n",
    "#         print 14*i, 14*(i+1), 14*j, 14*(j+1)\n",
    "        stitched_filters[224*i: 224*(i+1), 224*j:224*(j+1)] = intermediate_output[0, :, :, cur]\n",
    "io.imsave('./block1_conv1.png', stitched_filters)"
   ]
  }
 ],
 "metadata": {
  "kernelspec": {
   "display_name": "Python 2",
   "language": "python",
   "name": "python2"
  },
  "language_info": {
   "codemirror_mode": {
    "name": "ipython",
    "version": 2
   },
   "file_extension": ".py",
   "mimetype": "text/x-python",
   "name": "python",
   "nbconvert_exporter": "python",
   "pygments_lexer": "ipython2",
   "version": "2.7.13"
  }
 },
 "nbformat": 4,
 "nbformat_minor": 1
}
