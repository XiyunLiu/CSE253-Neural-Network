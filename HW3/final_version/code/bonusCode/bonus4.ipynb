{
 "cells": [
  {
   "cell_type": "code",
   "execution_count": 1,
   "metadata": {
    "collapsed": false
   },
   "outputs": [
    {
     "name": "stderr",
     "output_type": "stream",
     "text": [
      "Using Theano backend.\n",
      "Using gpu device 0: GeForce GTX 1080 (CNMeM is disabled, cuDNN not available)\n"
     ]
    }
   ],
   "source": [
    "import os\n",
    "import numpy as np\n",
    "import random\n",
    "from scipy import ndimage\n",
    "from skimage import transform\n",
    "import keras\n",
    "from keras.layers import Dense, Lambda\n",
    "from keras.applications import VGG16\n",
    "from keras.models import Model\n",
    "from keras.optimizers import SGD\n",
    "from keras.callbacks import Callback, ModelCheckpoint, EarlyStopping\n",
    "import skimage.io as io\n",
    "\n",
    "# MEAN = np.array([123.0, 117.0, 104.0])\n",
    "MEAN = np.array([0, 0, 0])\n",
    "def getModel( output_dim ):\n",
    "    ''' \n",
    "        * output_dim: the number of classes (int)\n",
    "        \n",
    "        * return: compiled model (keras.engine.training.Model)\n",
    "    '''\n",
    "    vgg_model = VGG16( weights='imagenet', include_top=True )\n",
    "#     vgg_out = vgg_model.layers[-2].output #Last FC layer's output \n",
    "    layer_name = 'fc2'\n",
    "    x = vgg_model.get_layer(layer_name).output\n",
    "    temper = 4.0;\n",
    "    x = Lambda(lambda x: x/temper)(x)\n",
    "    \n",
    "    layer_name = 'predictions'\n",
    "    pred_layer = vgg_model.get_layer(layer_name) \n",
    "    weight = pred_layer.get_weights()\n",
    "    x = Dense(1000, activation='softmax', name='softmax1', weights=weight)(x) \n",
    "    \n",
    "    softmax_layer = Dense(256, activation='softmax')(x) #Create softmax layer taking input as vgg_ou\n",
    "    #Create new transfer learning model\n",
    "    tl_model = Model( input=vgg_model.input, output=softmax_layer )\n",
    "\n",
    "    #Freeze all layers of VGG16 and Compile the model\n",
    "    #Confirm the model is appropriate\n",
    "    for l in vgg_model.layers:\n",
    "        l.trainable = False\n",
    "        \n",
    "    layer_name = 'softmax1'\n",
    "    tl_model.get_layer(layer_name).trainable = False\n",
    "#     tl_model.get_layer(layer_name).set_weights(weights)\n",
    "    \n",
    "    tl_model.summary()\n",
    "\n",
    "    return tl_model\n",
    "def convert_image(collect):\n",
    "#     sz = np.shape(collect)[0]\n",
    "    sz = len(collect)\n",
    "    images = np.zeros((sz, 224, 224, 3))\n",
    "    for i in range(sz):\n",
    "        img = collect[i]\n",
    "        img = transform.resize(img, (224, 224))*255\n",
    "        if (len(img.shape) != 3):\n",
    "           img = img[:,:,np.newaxis]\n",
    "        images[i] = img\n",
    "    return images\n",
    "\n",
    "sizeOfEachClass = 16\n",
    "sizeOfTestEachClass = 16\n",
    "path='/home/yiluo/Homework/253/3/256_ObjectCategories/'\n",
    "files = os.listdir(path)\n",
    "X_train, X_val, X_test = [], [], []\n",
    "Y_train, Y_val, Y_test = [], [], []\n",
    "label = 0\n",
    "for category in files:\n",
    "    sub_path = path + category\n",
    "    sub_files = os.listdir(sub_path)\n",
    "    cnt = np.shape(sub_files)[0]\n",
    "    num = 1\n",
    "    for img_nm in sub_files:\n",
    "        if img_nm[-4:] == '.jpg':\n",
    "            img_path = sub_path + '/' + img_nm\n",
    "            #img = ndimage.imread(sub_path + '/' + img_nm)\n",
    "            #img = transform.resize(img, (224, 224))*255\n",
    "            if num <= np.floor(0.8*cnt):\n",
    "                if num <= sizeOfEachClass:\n",
    "                    X_train.append(img_path)\n",
    "                    Y_train.append(label)\n",
    "            elif num <= np.floor(0.9*cnt):\n",
    "                if num <= np.floor(0.8*cnt) + sizeOfTestEachClass:\n",
    "                    X_val.append(img_path)\n",
    "                    Y_val.append(label)\n",
    "            else:\n",
    "                X_test.append(img_path)\n",
    "                Y_test.append(label)\n",
    "            num += 1\n",
    "    label += 1"
   ]
  },
  {
   "cell_type": "code",
   "execution_count": 3,
   "metadata": {
    "collapsed": false
   },
   "outputs": [],
   "source": [
    "#shuffle\n",
    "ind=range(int(len(X_train)))\n",
    "random.shuffle(ind)\n",
    "X_train = [X_train[i] for i in ind]\n",
    "Y_train = [Y_train[i] for i in ind]\n",
    "Y_train_label = np.zeros((len(Y_train), 256))\n",
    "for i in range(len(Y_train)):\n",
    "    Y_train_label[i, Y_train[i]] = 1\n",
    "    \n",
    "#validation  \n",
    "Y_val_label = np.zeros((len(Y_val), 256))\n",
    "for i in range(len(Y_val)):\n",
    "    Y_val_label[i, Y_val[i]] = 1\n",
    "    \n",
    "#test\n",
    "Y_test_label = np.zeros((len(Y_test), 256))\n",
    "for i in range(len(Y_test)):\n",
    "    Y_test_label[i, Y_test[i]] = 1"
   ]
  },
  {
   "cell_type": "code",
   "execution_count": 6,
   "metadata": {
    "collapsed": false
   },
   "outputs": [],
   "source": [
    "#Output dim for your dataset\n",
    "output_dim = 256 #For Caltech256\n",
    "\n",
    "#Data\n",
    "coll = io.ImageCollection(X_train)\n",
    "X_train_data = convert_image(coll)\n",
    "# coll_val = io.ImageCollection(X_val)\n",
    "# X_val_data = convert_image(coll_val)"
   ]
  },
  {
   "cell_type": "code",
   "execution_count": 41,
   "metadata": {
    "collapsed": false
   },
   "outputs": [
    {
     "name": "stderr",
     "output_type": "stream",
     "text": [
      "/usr/local/lib/python2.7/dist-packages/Keras-1.2.2-py2.7.egg/keras/layers/core.py:622: UserWarning: `output_shape` argument not specified for layer lambda_7 and cannot be automatically inferred with the Theano backend. Defaulting to output shape `(None, 4096)` (same as input shape). If the expected output shape is different, specify it via the `output_shape` argument.\n",
      "  .format(self.name, input_shape))\n"
     ]
    },
    {
     "name": "stdout",
     "output_type": "stream",
     "text": [
      "____________________________________________________________________________________________________\n",
      "Layer (type)                     Output Shape          Param #     Connected to                     \n",
      "====================================================================================================\n",
      "input_7 (InputLayer)             (None, 224, 224, 3)   0                                            \n",
      "____________________________________________________________________________________________________\n",
      "block1_conv1 (Convolution2D)     (None, 224, 224, 64)  1792        input_7[0][0]                    \n",
      "____________________________________________________________________________________________________\n",
      "block1_conv2 (Convolution2D)     (None, 224, 224, 64)  36928       block1_conv1[0][0]               \n",
      "____________________________________________________________________________________________________\n",
      "block1_pool (MaxPooling2D)       (None, 112, 112, 64)  0           block1_conv2[0][0]               \n",
      "____________________________________________________________________________________________________\n",
      "block2_conv1 (Convolution2D)     (None, 112, 112, 128) 73856       block1_pool[0][0]                \n",
      "____________________________________________________________________________________________________\n",
      "block2_conv2 (Convolution2D)     (None, 112, 112, 128) 147584      block2_conv1[0][0]               \n",
      "____________________________________________________________________________________________________\n",
      "block2_pool (MaxPooling2D)       (None, 56, 56, 128)   0           block2_conv2[0][0]               \n",
      "____________________________________________________________________________________________________\n",
      "block3_conv1 (Convolution2D)     (None, 56, 56, 256)   295168      block2_pool[0][0]                \n",
      "____________________________________________________________________________________________________\n",
      "block3_conv2 (Convolution2D)     (None, 56, 56, 256)   590080      block3_conv1[0][0]               \n",
      "____________________________________________________________________________________________________\n",
      "block3_conv3 (Convolution2D)     (None, 56, 56, 256)   590080      block3_conv2[0][0]               \n",
      "____________________________________________________________________________________________________\n",
      "block3_pool (MaxPooling2D)       (None, 28, 28, 256)   0           block3_conv3[0][0]               \n",
      "____________________________________________________________________________________________________\n",
      "block4_conv1 (Convolution2D)     (None, 28, 28, 512)   1180160     block3_pool[0][0]                \n",
      "____________________________________________________________________________________________________\n",
      "block4_conv2 (Convolution2D)     (None, 28, 28, 512)   2359808     block4_conv1[0][0]               \n",
      "____________________________________________________________________________________________________\n",
      "block4_conv3 (Convolution2D)     (None, 28, 28, 512)   2359808     block4_conv2[0][0]               \n",
      "____________________________________________________________________________________________________\n",
      "block4_pool (MaxPooling2D)       (None, 14, 14, 512)   0           block4_conv3[0][0]               \n",
      "____________________________________________________________________________________________________\n",
      "block5_conv1 (Convolution2D)     (None, 14, 14, 512)   2359808     block4_pool[0][0]                \n",
      "____________________________________________________________________________________________________\n",
      "block5_conv2 (Convolution2D)     (None, 14, 14, 512)   2359808     block5_conv1[0][0]               \n",
      "____________________________________________________________________________________________________\n",
      "block5_conv3 (Convolution2D)     (None, 14, 14, 512)   2359808     block5_conv2[0][0]               \n",
      "____________________________________________________________________________________________________\n",
      "block5_pool (MaxPooling2D)       (None, 7, 7, 512)     0           block5_conv3[0][0]               \n",
      "____________________________________________________________________________________________________\n",
      "flatten (Flatten)                (None, 25088)         0           block5_pool[0][0]                \n",
      "____________________________________________________________________________________________________\n",
      "fc1 (Dense)                      (None, 4096)          102764544   flatten[0][0]                    \n",
      "____________________________________________________________________________________________________\n",
      "fc2 (Dense)                      (None, 4096)          16781312    fc1[0][0]                        \n",
      "____________________________________________________________________________________________________\n",
      "lambda_7 (Lambda)                (None, 4096)          0           fc2[0][0]                        \n",
      "____________________________________________________________________________________________________\n",
      "softmax1 (Dense)                 (None, 1000)          4097000     lambda_7[0][0]                   \n",
      "____________________________________________________________________________________________________\n",
      "dense_7 (Dense)                  (None, 256)           256256      softmax1[0][0]                   \n",
      "====================================================================================================\n",
      "Total params: 138,613,800\n",
      "Trainable params: 256,256\n",
      "Non-trainable params: 138,357,544\n",
      "____________________________________________________________________________________________________\n"
     ]
    }
   ],
   "source": [
    "#Model\n",
    "tl_model = getModel( output_dim )\n",
    "# rmsprop = keras.optimizers.RMSprop(lr=0.001, rho=0.9, epsilon=1e-08, decay=0.0) # error\n",
    "\n",
    "# tl_model.compile(loss='categorical_crossentropy', optimizer='adadelta', metrics=['accuracy'])"
   ]
  },
  {
   "cell_type": "code",
   "execution_count": 42,
   "metadata": {
    "collapsed": true
   },
   "outputs": [],
   "source": [
    "# sgd = keras.optimizers.SGD(lr=6, momentum=0.9, decay=0.0, nesterov=True)\n",
    "# tl_model.compile(loss='categorical_crossentropy', optimizer='sgd', metrics=['accuracy'])\n",
    "\n",
    "adagrad = keras.optimizers.Adagrad(lr=1, epsilon=1e-08, decay=0.0)\n",
    "tl_model.compile(loss='categorical_crossentropy', optimizer=adagrad, metrics=['accuracy'])"
   ]
  },
  {
   "cell_type": "code",
   "execution_count": 43,
   "metadata": {
    "collapsed": false
   },
   "outputs": [],
   "source": [
    "from keras.preprocessing.image import ImageDataGenerator\n",
    "\n",
    "datagen = ImageDataGenerator(\n",
    "    samplewise_center=True)\n",
    "\n",
    "# compute quantities required for featurewise normalization\n",
    "# (std, mean, and principal components if ZCA whitening is applied)\n",
    "datagen.fit(X_train_data)"
   ]
  },
  {
   "cell_type": "code",
   "execution_count": 44,
   "metadata": {
    "collapsed": false
   },
   "outputs": [
    {
     "name": "stdout",
     "output_type": "stream",
     "text": [
      "Train on 2048 samples, validate on 2048 samples\n",
      "Epoch 1/20\n",
      "2048/2048 [==============================] - 83s - loss: 5.4910 - acc: 0.0371 - val_loss: 4.9326 - val_acc: 0.0684\n",
      "Epoch 2/20\n",
      "2048/2048 [==============================] - 83s - loss: 4.5139 - acc: 0.1699 - val_loss: 4.5324 - val_acc: 0.1509\n",
      "Epoch 3/20\n",
      "2048/2048 [==============================] - 50s - loss: 4.1155 - acc: 0.2769 - val_loss: 4.2831 - val_acc: 0.2041\n",
      "Epoch 4/20\n",
      "2048/2048 [==============================] - 42s - loss: 3.8427 - acc: 0.3667 - val_loss: 4.1022 - val_acc: 0.2427\n",
      "Epoch 5/20\n",
      "2048/2048 [==============================] - 48s - loss: 3.6345 - acc: 0.4277 - val_loss: 3.9607 - val_acc: 0.2710\n",
      "Epoch 6/20\n",
      "2048/2048 [==============================] - 85s - loss: 3.4659 - acc: 0.4800 - val_loss: 3.8450 - val_acc: 0.2915\n",
      "Epoch 7/20\n",
      "2048/2048 [==============================] - 82s - loss: 3.3245 - acc: 0.5244 - val_loss: 3.7476 - val_acc: 0.3120\n",
      "Epoch 8/20\n",
      "2048/2048 [==============================] - 65s - loss: 3.2027 - acc: 0.5576 - val_loss: 3.6637 - val_acc: 0.3301\n",
      "Epoch 9/20\n",
      "2048/2048 [==============================] - 85s - loss: 3.0959 - acc: 0.5854 - val_loss: 3.5903 - val_acc: 0.3418\n",
      "Epoch 10/20\n",
      "2048/2048 [==============================] - 69s - loss: 3.0010 - acc: 0.6030 - val_loss: 3.5252 - val_acc: 0.3511\n",
      "Epoch 11/20\n",
      "2048/2048 [==============================] - 85s - loss: 2.9155 - acc: 0.6265 - val_loss: 3.4669 - val_acc: 0.3672\n",
      "Epoch 12/20\n",
      "2048/2048 [==============================] - 84s - loss: 2.8379 - acc: 0.6455 - val_loss: 3.4142 - val_acc: 0.3730\n",
      "Epoch 13/20\n",
      "2048/2048 [==============================] - 84s - loss: 2.7670 - acc: 0.6621 - val_loss: 3.3662 - val_acc: 0.3794\n",
      "Epoch 14/20\n",
      "2048/2048 [==============================] - 84s - loss: 2.7016 - acc: 0.6758 - val_loss: 3.3223 - val_acc: 0.3867\n",
      "Epoch 15/20\n",
      "2048/2048 [==============================] - 84s - loss: 2.6411 - acc: 0.6865 - val_loss: 3.2818 - val_acc: 0.3931\n",
      "Epoch 16/20\n",
      "2048/2048 [==============================] - 85s - loss: 2.5848 - acc: 0.6973 - val_loss: 3.2444 - val_acc: 0.3989\n",
      "Epoch 17/20\n",
      "2048/2048 [==============================] - 84s - loss: 2.5322 - acc: 0.7070 - val_loss: 3.2096 - val_acc: 0.4082\n",
      "Epoch 18/20\n",
      "2048/2048 [==============================] - 84s - loss: 2.4829 - acc: 0.7168 - val_loss: 3.1772 - val_acc: 0.4116\n",
      "Epoch 19/20\n",
      "2048/2048 [==============================] - 84s - loss: 2.4365 - acc: 0.7236 - val_loss: 3.1469 - val_acc: 0.4165\n",
      "Epoch 20/20\n",
      "2048/2048 [==============================] - 84s - loss: 2.3928 - acc: 0.7339 - val_loss: 3.1185 - val_acc: 0.4224\n"
     ]
    }
   ],
   "source": [
    "hist = tl_model.fit(X_train_data, Y_train_label, \n",
    "             batch_size=32, nb_epoch=20, \n",
    "             verbose=1, validation_split=0.5,\n",
    "             shuffle=None, class_weight=None, sample_weight=None)"
   ]
  },
  {
   "cell_type": "code",
   "execution_count": 45,
   "metadata": {
    "collapsed": false
   },
   "outputs": [
    {
     "name": "stdout",
     "output_type": "stream",
     "text": [
      "{'acc': [0.037109375, 0.169921875, 0.27685546875, 0.36669921875, 0.427734375, 0.47998046875, 0.5244140625, 0.5576171875, 0.58544921875, 0.60302734375, 0.62646484375, 0.6455078125, 0.662109375, 0.67578125, 0.6865234375, 0.697265625, 0.70703125, 0.716796875, 0.7236328125, 0.73388671875], 'loss': [5.490975484251976, 4.5138835534453392, 4.1154690161347389, 3.8427279517054558, 3.6344806142151356, 3.4659445509314537, 3.3244820944964886, 3.202712956815958, 3.0959329418838024, 3.0009526312351227, 2.9155075773596764, 2.8379308842122555, 2.7669586315751076, 2.7016091607511044, 2.6411044262349606, 2.584816750138998, 2.5322325453162193, 2.4829259403049946, 2.436539875343442, 2.392772126942873], 'val_acc': [0.068359375, 0.15087890625, 0.2041015625, 0.24267578125, 0.27099609375, 0.29150390625, 0.31201171875, 0.330078125, 0.341796875, 0.35107421875, 0.3671875, 0.373046875, 0.37939453125, 0.38671875, 0.39306640625, 0.39892578125, 0.408203125, 0.41162109375, 0.41650390625, 0.42236328125], 'val_loss': [4.9325691014528275, 4.5323969013988972, 4.2830547131597996, 4.1021508909761906, 3.9606956169009209, 3.8450296558439732, 3.7475802414119244, 3.6636858619749546, 3.5902648232877254, 3.5251725241541862, 3.4668569937348366, 3.4141592122614384, 3.3661915510892868, 3.3222584426403046, 3.2818052358925343, 3.2443820834159851, 3.2096192874014378, 3.1772094592452049, 3.1468939818441868, 3.1184533797204494]}\n"
     ]
    }
   ],
   "source": [
    "print(hist.history)"
   ]
  },
  {
   "cell_type": "code",
   "execution_count": null,
   "metadata": {
    "collapsed": true
   },
   "outputs": [],
   "source": []
  },
  {
   "cell_type": "code",
   "execution_count": null,
   "metadata": {
    "collapsed": false
   },
   "outputs": [],
   "source": []
  },
  {
   "cell_type": "code",
   "execution_count": null,
   "metadata": {
    "collapsed": true
   },
   "outputs": [],
   "source": []
  }
 ],
 "metadata": {
  "kernelspec": {
   "display_name": "Python 2",
   "language": "python",
   "name": "python2"
  },
  "language_info": {
   "codemirror_mode": {
    "name": "ipython",
    "version": 2
   },
   "file_extension": ".py",
   "mimetype": "text/x-python",
   "name": "python",
   "nbconvert_exporter": "python",
   "pygments_lexer": "ipython2",
   "version": "2.7.13"
  }
 },
 "nbformat": 4,
 "nbformat_minor": 2
}
