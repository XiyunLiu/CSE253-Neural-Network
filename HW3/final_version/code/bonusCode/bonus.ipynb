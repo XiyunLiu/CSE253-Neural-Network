{
 "cells": [
  {
   "cell_type": "code",
   "execution_count": 1,
   "metadata": {
    "collapsed": false
   },
   "outputs": [
    {
     "name": "stderr",
     "output_type": "stream",
     "text": [
      "Using Theano backend.\n",
      "Using gpu device 0: GeForce GTX 1080 (CNMeM is disabled, cuDNN not available)\n"
     ]
    }
   ],
   "source": [
    "import os\n",
    "import numpy as np\n",
    "import random\n",
    "from scipy import ndimage\n",
    "from skimage import transform\n",
    "import keras\n",
    "from keras.layers import Dense, Lambda\n",
    "from keras.applications import VGG16\n",
    "from keras.models import Model\n",
    "from keras.optimizers import SGD\n",
    "from keras.callbacks import Callback, ModelCheckpoint, EarlyStopping\n",
    "import skimage.io as io\n",
    "\n",
    "# MEAN = np.array([123.0, 117.0, 104.0])\n",
    "MEAN = np.array([0, 0, 0])\n",
    "def getModel( output_dim ):\n",
    "    ''' \n",
    "        * output_dim: the number of classes (int)\n",
    "        \n",
    "        * return: compiled model (keras.engine.training.Model)\n",
    "    '''\n",
    "    vgg_model = VGG16( weights='imagenet', include_top=True )\n",
    "#     vgg_out = vgg_model.layers[-2].output #Last FC layer's output \n",
    "    layer_name = 'fc2'\n",
    "    x = vgg_model.get_layer(layer_name).output\n",
    "    temper = 1.0;\n",
    "    x = Lambda(lambda x: x/temper)(x)\n",
    "    \n",
    "    layer_name = 'predictions'\n",
    "    pred_layer = vgg_model.get_layer(layer_name) \n",
    "    weight = pred_layer.get_weights()\n",
    "    x = Dense(1000, activation='softmax', name='softmax1', weights=weight)(x) \n",
    "    \n",
    "    softmax_layer = Dense(256, activation='softmax')(x) #Create softmax layer taking input as vgg_ou\n",
    "    #Create new transfer learning model\n",
    "    tl_model = Model( input=vgg_model.input, output=softmax_layer )\n",
    "\n",
    "    #Freeze all layers of VGG16 and Compile the model\n",
    "    #Confirm the model is appropriate\n",
    "    for l in vgg_model.layers:\n",
    "        l.trainable = False\n",
    "        \n",
    "    layer_name = 'softmax1'\n",
    "    tl_model.get_layer(layer_name).trainable = False\n",
    "#     tl_model.get_layer(layer_name).set_weights(weights)\n",
    "    \n",
    "    tl_model.summary()\n",
    "\n",
    "    return tl_model\n",
    "def convert_image(collect):\n",
    "#     sz = np.shape(collect)[0]\n",
    "    sz = len(collect)\n",
    "    images = np.zeros((sz, 224, 224, 3))\n",
    "    for i in range(sz):\n",
    "        img = collect[i]\n",
    "        img = transform.resize(img, (224, 224))*255\n",
    "        if (len(img.shape) != 3):\n",
    "           img = img[:,:,np.newaxis]\n",
    "        images[i] = img\n",
    "    return images\n",
    "\n",
    "sizeOfEachClass = 16\n",
    "sizeOfTestEachClass = 16\n",
    "path='/home/yiluo/Homework/253/3/256_ObjectCategories/'\n",
    "files = os.listdir(path)\n",
    "X_train, X_val, X_test = [], [], []\n",
    "Y_train, Y_val, Y_test = [], [], []\n",
    "label = 0\n",
    "for category in files:\n",
    "    sub_path = path + category\n",
    "    sub_files = os.listdir(sub_path)\n",
    "    cnt = np.shape(sub_files)[0]\n",
    "    num = 1\n",
    "    for img_nm in sub_files:\n",
    "        if img_nm[-4:] == '.jpg':\n",
    "            img_path = sub_path + '/' + img_nm\n",
    "            #img = ndimage.imread(sub_path + '/' + img_nm)\n",
    "            #img = transform.resize(img, (224, 224))*255\n",
    "            if num <= np.floor(0.8*cnt):\n",
    "                if num <= sizeOfEachClass:\n",
    "                    X_train.append(img_path)\n",
    "                    Y_train.append(label)\n",
    "            elif num <= np.floor(0.9*cnt):\n",
    "                if num <= np.floor(0.8*cnt) + sizeOfTestEachClass:\n",
    "                    X_val.append(img_path)\n",
    "                    Y_val.append(label)\n",
    "            else:\n",
    "                X_test.append(img_path)\n",
    "                Y_test.append(label)\n",
    "            num += 1\n",
    "    label += 1"
   ]
  },
  {
   "cell_type": "code",
   "execution_count": 3,
   "metadata": {
    "collapsed": false
   },
   "outputs": [],
   "source": [
    "#shuffle\n",
    "ind=range(int(len(X_train)))\n",
    "random.shuffle(ind)\n",
    "X_train = [X_train[i] for i in ind]\n",
    "Y_train = [Y_train[i] for i in ind]\n",
    "Y_train_label = np.zeros((len(Y_train), 256))\n",
    "for i in range(len(Y_train)):\n",
    "    Y_train_label[i, Y_train[i]] = 1\n",
    "    \n",
    "#validation  \n",
    "Y_val_label = np.zeros((len(Y_val), 256))\n",
    "for i in range(len(Y_val)):\n",
    "    Y_val_label[i, Y_val[i]] = 1\n",
    "    \n",
    "#test\n",
    "Y_test_label = np.zeros((len(Y_test), 256))\n",
    "for i in range(len(Y_test)):\n",
    "    Y_test_label[i, Y_test[i]] = 1"
   ]
  },
  {
   "cell_type": "code",
   "execution_count": 6,
   "metadata": {
    "collapsed": false
   },
   "outputs": [],
   "source": [
    "#Output dim for your dataset\n",
    "output_dim = 256 #For Caltech256\n",
    "\n",
    "#Data\n",
    "coll = io.ImageCollection(X_train)\n",
    "X_train_data = convert_image(coll)\n",
    "# coll_val = io.ImageCollection(X_val)\n",
    "# X_val_data = convert_image(coll_val)"
   ]
  },
  {
   "cell_type": "code",
   "execution_count": 11,
   "metadata": {
    "collapsed": false
   },
   "outputs": [
    {
     "name": "stderr",
     "output_type": "stream",
     "text": [
      "/usr/local/lib/python2.7/dist-packages/Keras-1.2.2-py2.7.egg/keras/layers/core.py:622: UserWarning: `output_shape` argument not specified for layer lambda_2 and cannot be automatically inferred with the Theano backend. Defaulting to output shape `(None, 4096)` (same as input shape). If the expected output shape is different, specify it via the `output_shape` argument.\n",
      "  .format(self.name, input_shape))\n"
     ]
    },
    {
     "name": "stdout",
     "output_type": "stream",
     "text": [
      "____________________________________________________________________________________________________\n",
      "Layer (type)                     Output Shape          Param #     Connected to                     \n",
      "====================================================================================================\n",
      "input_2 (InputLayer)             (None, 224, 224, 3)   0                                            \n",
      "____________________________________________________________________________________________________\n",
      "block1_conv1 (Convolution2D)     (None, 224, 224, 64)  1792        input_2[0][0]                    \n",
      "____________________________________________________________________________________________________\n",
      "block1_conv2 (Convolution2D)     (None, 224, 224, 64)  36928       block1_conv1[0][0]               \n",
      "____________________________________________________________________________________________________\n",
      "block1_pool (MaxPooling2D)       (None, 112, 112, 64)  0           block1_conv2[0][0]               \n",
      "____________________________________________________________________________________________________\n",
      "block2_conv1 (Convolution2D)     (None, 112, 112, 128) 73856       block1_pool[0][0]                \n",
      "____________________________________________________________________________________________________\n",
      "block2_conv2 (Convolution2D)     (None, 112, 112, 128) 147584      block2_conv1[0][0]               \n",
      "____________________________________________________________________________________________________\n",
      "block2_pool (MaxPooling2D)       (None, 56, 56, 128)   0           block2_conv2[0][0]               \n",
      "____________________________________________________________________________________________________\n",
      "block3_conv1 (Convolution2D)     (None, 56, 56, 256)   295168      block2_pool[0][0]                \n",
      "____________________________________________________________________________________________________\n",
      "block3_conv2 (Convolution2D)     (None, 56, 56, 256)   590080      block3_conv1[0][0]               \n",
      "____________________________________________________________________________________________________\n",
      "block3_conv3 (Convolution2D)     (None, 56, 56, 256)   590080      block3_conv2[0][0]               \n",
      "____________________________________________________________________________________________________\n",
      "block3_pool (MaxPooling2D)       (None, 28, 28, 256)   0           block3_conv3[0][0]               \n",
      "____________________________________________________________________________________________________\n",
      "block4_conv1 (Convolution2D)     (None, 28, 28, 512)   1180160     block3_pool[0][0]                \n",
      "____________________________________________________________________________________________________\n",
      "block4_conv2 (Convolution2D)     (None, 28, 28, 512)   2359808     block4_conv1[0][0]               \n",
      "____________________________________________________________________________________________________\n",
      "block4_conv3 (Convolution2D)     (None, 28, 28, 512)   2359808     block4_conv2[0][0]               \n",
      "____________________________________________________________________________________________________\n",
      "block4_pool (MaxPooling2D)       (None, 14, 14, 512)   0           block4_conv3[0][0]               \n",
      "____________________________________________________________________________________________________\n",
      "block5_conv1 (Convolution2D)     (None, 14, 14, 512)   2359808     block4_pool[0][0]                \n",
      "____________________________________________________________________________________________________\n",
      "block5_conv2 (Convolution2D)     (None, 14, 14, 512)   2359808     block5_conv1[0][0]               \n",
      "____________________________________________________________________________________________________\n",
      "block5_conv3 (Convolution2D)     (None, 14, 14, 512)   2359808     block5_conv2[0][0]               \n",
      "____________________________________________________________________________________________________\n",
      "block5_pool (MaxPooling2D)       (None, 7, 7, 512)     0           block5_conv3[0][0]               \n",
      "____________________________________________________________________________________________________\n",
      "flatten (Flatten)                (None, 25088)         0           block5_pool[0][0]                \n",
      "____________________________________________________________________________________________________\n",
      "fc1 (Dense)                      (None, 4096)          102764544   flatten[0][0]                    \n",
      "____________________________________________________________________________________________________\n",
      "fc2 (Dense)                      (None, 4096)          16781312    fc1[0][0]                        \n",
      "____________________________________________________________________________________________________\n",
      "lambda_2 (Lambda)                (None, 4096)          0           fc2[0][0]                        \n",
      "____________________________________________________________________________________________________\n",
      "softmax1 (Dense)                 (None, 1000)          4097000     lambda_2[0][0]                   \n",
      "____________________________________________________________________________________________________\n",
      "dense_2 (Dense)                  (None, 256)           256256      softmax1[0][0]                   \n",
      "====================================================================================================\n",
      "Total params: 138,613,800\n",
      "Trainable params: 256,256\n",
      "Non-trainable params: 138,357,544\n",
      "____________________________________________________________________________________________________\n"
     ]
    }
   ],
   "source": [
    "#Model\n",
    "tl_model = getModel( output_dim )\n",
    "# rmsprop = keras.optimizers.RMSprop(lr=0.001, rho=0.9, epsilon=1e-08, decay=0.0) # error\n",
    "\n",
    "# tl_model.compile(loss='categorical_crossentropy', optimizer='adadelta', metrics=['accuracy'])"
   ]
  },
  {
   "cell_type": "code",
   "execution_count": 12,
   "metadata": {
    "collapsed": true
   },
   "outputs": [],
   "source": [
    "# sgd = keras.optimizers.SGD(lr=16, momentum=0.9, decay=0.0, nesterov=True)\n",
    "# tl_model.compile(loss='categorical_crossentropy', optimizer=sgd, metrics=['accuracy'])\n",
    "# tl_model.compile(loss='categorical_crossentropy', optimizer='adadelta', metrics=['accuracy'])\n",
    "\n",
    "adagrad = keras.optimizers.Adagrad(lr=1, epsilon=1e-08, decay=0.0)\n",
    "tl_model.compile(loss='categorical_crossentropy', optimizer=adagrad, metrics=['accuracy'])"
   ]
  },
  {
   "cell_type": "code",
   "execution_count": 13,
   "metadata": {
    "collapsed": false
   },
   "outputs": [],
   "source": [
    "from keras.preprocessing.image import ImageDataGenerator\n",
    "\n",
    "datagen = ImageDataGenerator(\n",
    "    samplewise_center=True)\n",
    "\n",
    "# compute quantities required for featurewise normalization\n",
    "# (std, mean, and principal components if ZCA whitening is applied)\n",
    "datagen.fit(X_train_data)"
   ]
  },
  {
   "cell_type": "code",
   "execution_count": 14,
   "metadata": {
    "collapsed": false
   },
   "outputs": [
    {
     "name": "stdout",
     "output_type": "stream",
     "text": [
      "Train on 2048 samples, validate on 2048 samples\n",
      "Epoch 1/20\n",
      "2048/2048 [==============================] - 82s - loss: 4.2969 - acc: 0.2305 - val_loss: 3.2597 - val_acc: 0.3623\n",
      "Epoch 2/20\n",
      "2048/2048 [==============================] - 82s - loss: 1.9735 - acc: 0.6104 - val_loss: 3.0133 - val_acc: 0.4097\n",
      "Epoch 3/20\n",
      "2048/2048 [==============================] - 83s - loss: 1.3802 - acc: 0.7285 - val_loss: 2.9885 - val_acc: 0.4229\n",
      "Epoch 4/20\n",
      "2048/2048 [==============================] - 83s - loss: 1.0656 - acc: 0.8071 - val_loss: 3.0122 - val_acc: 0.4229\n",
      "Epoch 5/20\n",
      "2048/2048 [==============================] - 72s - loss: 0.8670 - acc: 0.8457 - val_loss: 3.0498 - val_acc: 0.4277\n",
      "Epoch 6/20\n",
      "2048/2048 [==============================] - 41s - loss: 0.7310 - acc: 0.8765 - val_loss: 3.0911 - val_acc: 0.4312\n",
      "Epoch 7/20\n",
      "2048/2048 [==============================] - 41s - loss: 0.6331 - acc: 0.8979 - val_loss: 3.1323 - val_acc: 0.4263\n",
      "Epoch 8/20\n",
      "2048/2048 [==============================] - 41s - loss: 0.5598 - acc: 0.9170 - val_loss: 3.1709 - val_acc: 0.4243\n",
      "Epoch 9/20\n",
      "2048/2048 [==============================] - 40s - loss: 0.5032 - acc: 0.9282 - val_loss: 3.2073 - val_acc: 0.4229\n",
      "Epoch 10/20\n",
      "2048/2048 [==============================] - 40s - loss: 0.4583 - acc: 0.9351 - val_loss: 3.2413 - val_acc: 0.4224\n",
      "Epoch 11/20\n",
      "2048/2048 [==============================] - 40s - loss: 0.4219 - acc: 0.9443 - val_loss: 3.2728 - val_acc: 0.4224\n",
      "Epoch 12/20\n",
      "2048/2048 [==============================] - 53s - loss: 0.3918 - acc: 0.9521 - val_loss: 3.3022 - val_acc: 0.4214\n",
      "Epoch 13/20\n",
      "2048/2048 [==============================] - 80s - loss: 0.3666 - acc: 0.9570 - val_loss: 3.3299 - val_acc: 0.4214\n",
      "Epoch 14/20\n",
      "2048/2048 [==============================] - 74s - loss: 0.3451 - acc: 0.9600 - val_loss: 3.3561 - val_acc: 0.4204\n",
      "Epoch 15/20\n",
      "2048/2048 [==============================] - 83s - loss: 0.3265 - acc: 0.9629 - val_loss: 3.3808 - val_acc: 0.4209\n",
      "Epoch 16/20\n",
      "2048/2048 [==============================] - 70s - loss: 0.3103 - acc: 0.9639 - val_loss: 3.4042 - val_acc: 0.4204\n",
      "Epoch 17/20\n",
      "2048/2048 [==============================] - 85s - loss: 0.2961 - acc: 0.9658 - val_loss: 3.4265 - val_acc: 0.4209\n",
      "Epoch 18/20\n",
      "2048/2048 [==============================] - 84s - loss: 0.2835 - acc: 0.9683 - val_loss: 3.4477 - val_acc: 0.4204\n",
      "Epoch 19/20\n",
      "2048/2048 [==============================] - 83s - loss: 0.2722 - acc: 0.9697 - val_loss: 3.4680 - val_acc: 0.4194\n",
      "Epoch 20/20\n",
      "2048/2048 [==============================] - 83s - loss: 0.2620 - acc: 0.9707 - val_loss: 3.4874 - val_acc: 0.4189\n"
     ]
    }
   ],
   "source": [
    "hist = tl_model.fit(X_train_data, Y_train_label, \n",
    "             batch_size=32, nb_epoch=20, \n",
    "             verbose=1, validation_split=0.5,\n",
    "             shuffle=None, class_weight=None, sample_weight=None)"
   ]
  },
  {
   "cell_type": "code",
   "execution_count": 15,
   "metadata": {
    "collapsed": false
   },
   "outputs": [
    {
     "name": "stdout",
     "output_type": "stream",
     "text": [
      "{'acc': [0.23046875, 0.6103515625, 0.728515625, 0.80712890625, 0.845703125, 0.87646484375, 0.89794921875, 0.9169921875, 0.92822265625, 0.93505859375, 0.9443359375, 0.9521484375, 0.95703125, 0.9599609375, 0.962890625, 0.9638671875, 0.9658203125, 0.96826171875, 0.9697265625, 0.970703125], 'loss': [4.2969001568853855, 1.973468229174614, 1.3801582744345069, 1.06562574300915, 0.86696815490722656, 0.73100262088701129, 0.63307825848460197, 0.55979155888780951, 0.50319365644827485, 0.45831487374380231, 0.42192403180524707, 0.3918494344688952, 0.36658694734796882, 0.34506615134887397, 0.32650665054097772, 0.31032778369262815, 0.29608941031619906, 0.28345258231274784, 0.27215242153033614, 0.26197918271645904], 'val_acc': [0.3623046875, 0.40966796875, 0.4228515625, 0.4228515625, 0.427734375, 0.43115234375, 0.42626953125, 0.42431640625, 0.4228515625, 0.42236328125, 0.42236328125, 0.42138671875, 0.42138671875, 0.42041015625, 0.4208984375, 0.42041015625, 0.4208984375, 0.42041015625, 0.41943359375, 0.4189453125], 'val_loss': [3.2596691623330116, 3.0132534019649029, 2.9884552396833897, 3.0122389830648899, 3.0497926138341427, 3.0910967364907265, 3.1323369182646275, 3.1708983778953552, 3.2072653286159039, 3.2412561327219009, 3.2727959789335728, 3.302228182554245, 3.3298984169960022, 3.3561064153909683, 3.3807692117989063, 3.4041941165924072, 3.4264935702085495, 3.4477200210094452, 3.4679592996835709, 3.4873621575534344]}\n"
     ]
    }
   ],
   "source": [
    "print(hist.history)"
   ]
  }
 ],
 "metadata": {
  "kernelspec": {
   "display_name": "Python 2",
   "language": "python",
   "name": "python2"
  },
  "language_info": {
   "codemirror_mode": {
    "name": "ipython",
    "version": 2
   },
   "file_extension": ".py",
   "mimetype": "text/x-python",
   "name": "python",
   "nbconvert_exporter": "python",
   "pygments_lexer": "ipython2",
   "version": "2.7.13"
  }
 },
 "nbformat": 4,
 "nbformat_minor": 2
}
