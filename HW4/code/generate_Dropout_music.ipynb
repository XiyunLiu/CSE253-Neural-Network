{
 "cells": [
  {
   "cell_type": "code",
   "execution_count": 1,
   "metadata": {
    "collapsed": false
   },
   "outputs": [
    {
     "name": "stderr",
     "output_type": "stream",
     "text": [
      "Using TensorFlow backend.\n"
     ]
    }
   ],
   "source": [
    "import keras\n",
    "import numpy as np\n",
    "import keras.preprocessing.text\n",
    "from sklearn.preprocessing import OneHotEncoder\n",
    "from keras.utils import np_utils\n",
    "from keras.models import Sequential\n",
    "from keras.layers import Dense, Activation, Lambda, Dropout\n",
    "from keras.layers.recurrent import SimpleRNN"
   ]
  },
  {
   "cell_type": "code",
   "execution_count": 2,
   "metadata": {
    "collapsed": true
   },
   "outputs": [],
   "source": [
    "with open('data/input.txt','U') as f:\n",
    "    content = f.read()"
   ]
  },
  {
   "cell_type": "code",
   "execution_count": 4,
   "metadata": {
    "collapsed": true
   },
   "outputs": [],
   "source": [
    "np.random.seed = 0\n",
    "def createDict(content, start=0):\n",
    "    char_to_num = {}\n",
    "    num_to_char = {}\n",
    "    content = set(list(content))\n",
    "    for c in content:\n",
    "        char_to_num[c] = start\n",
    "        num_to_char[start] = c\n",
    "        start += 1\n",
    "    return (char_to_num, num_to_char)\n",
    "\n",
    "def charToNum(content, char_to_num):\n",
    "    content = list(content)\n",
    "    res = []\n",
    "    for c in content:\n",
    "        res.append(char_to_num[c])\n",
    "    return res\n",
    "\n",
    "def numToChar(content, num_to_char):\n",
    "    res = []\n",
    "    for i in content:\n",
    "        res.append(num_to_char[i])\n",
    "    return res\n",
    "\n",
    "def cateToNum(content):\n",
    "    res = []\n",
    "    for line in content:\n",
    "        idx = 0\n",
    "        for i in line:\n",
    "            if i == 0:\n",
    "                idx +=1\n",
    "            else:\n",
    "                res.append(idx)\n",
    "                break\n",
    "    return res\n",
    "\n",
    "def createData(data, size=50000):\n",
    "    d = []\n",
    "    for idx in range(size):\n",
    "        r = np.random.randint(0, len(data)-25)\n",
    "        d.append(data[r:r+25,:])\n",
    "    d = np.array(d)\n",
    "    d_input = d[:,:-1,]\n",
    "    d_output = d[:,1:,]\n",
    "    return (d_input, d_output)\n",
    "\n",
    "def splitData(data, rate=0.8):\n",
    "    idx = int(len(data)*0.8)\n",
    "    train_data = data[:idx]\n",
    "    test_data = data[idx:]\n",
    "    return (train_data, test_data)"
   ]
  },
  {
   "cell_type": "code",
   "execution_count": 5,
   "metadata": {
    "collapsed": true
   },
   "outputs": [],
   "source": [
    "char_to_num, num_to_char = createDict(content)\n",
    "oneHotEncoding = charToNum(content, char_to_num)"
   ]
  },
  {
   "cell_type": "code",
   "execution_count": null,
   "metadata": {
    "collapsed": true
   },
   "outputs": [],
   "source": [
    "data = np_utils.to_categorical(oneHotEncoding, nb_classes=100)\n",
    "train_data, test_data = splitData(data)"
   ]
  },
  {
   "cell_type": "code",
   "execution_count": null,
   "metadata": {
    "collapsed": true
   },
   "outputs": [],
   "source": [
    "train_input,train_output = createData(train_data, 50000)\n",
    "test_input, test_output = createData(test_data, int(50000*0.25))"
   ]
  },
  {
   "cell_type": "code",
   "execution_count": 16,
   "metadata": {
    "collapsed": true
   },
   "outputs": [],
   "source": [
    "model = keras.models.load_model('data/4d_0_1.h5')"
   ]
  },
  {
   "cell_type": "code",
   "execution_count": 17,
   "metadata": {
    "collapsed": false
   },
   "outputs": [],
   "source": [
    "def sample(probDist, temperature=1.0):\n",
    "    # helper function to sample an index from a probability array\n",
    "    a = [x/sum(probDist) for x in probDist]\n",
    "    idx = 93\n",
    "    while idx > 92:\n",
    "        idx = np.argmax(np.random.multinomial(1, a, 1))\n",
    "    return idx\n",
    "\n",
    "lenGenerate = 20000\n",
    "generated = ''\n",
    "sentence = content[:24]\n",
    "for i in range(lenGenerate):\n",
    "    x = np.zeros((1, 24, 100))\n",
    "    for t, char in enumerate(sentence):\n",
    "        x[0, t, char_to_num[char]] = 1.\n",
    "\n",
    "    tmp = model.predict(x, verbose=0)\n",
    "    preds = tmp[0][-1]\n",
    "    next_index = sample(preds)\n",
    "    next_char = num_to_char[next_index]\n",
    "\n",
    "    generated += next_char\n",
    "    sentence = sentence[1:] + next_char\n",
    "with open('generate_0_1.txt', \"w\") as text_file:\n",
    "    text_file.write(\"{0}\".format(generated))"
   ]
  },
  {
   "cell_type": "code",
   "execution_count": null,
   "metadata": {
    "collapsed": true
   },
   "outputs": [],
   "source": []
  },
  {
   "cell_type": "code",
   "execution_count": null,
   "metadata": {
    "collapsed": true
   },
   "outputs": [],
   "source": []
  }
 ],
 "metadata": {
  "kernelspec": {
   "display_name": "Python 2",
   "language": "python",
   "name": "python2"
  },
  "language_info": {
   "codemirror_mode": {
    "name": "ipython",
    "version": 2
   },
   "file_extension": ".py",
   "mimetype": "text/x-python",
   "name": "python",
   "nbconvert_exporter": "python",
   "pygments_lexer": "ipython2",
   "version": "2.7.13"
  }
 },
 "nbformat": 4,
 "nbformat_minor": 2
}
