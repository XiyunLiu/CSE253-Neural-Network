{
 "cells": [
  {
   "cell_type": "code",
   "execution_count": 9,
   "metadata": {
    "collapsed": false
   },
   "outputs": [],
   "source": [
    "import keras\n",
    "import numpy as np\n",
    "import keras.preprocessing.text\n",
    "from sklearn.preprocessing import OneHotEncoder\n",
    "from keras.utils import np_utils\n",
    "from keras.models import Sequential, load_model, Model\n",
    "from keras.layers import Dense, Activation, Lambda, Dropout\n",
    "from keras.layers.recurrent import SimpleRNN"
   ]
  },
  {
   "cell_type": "code",
   "execution_count": 13,
   "metadata": {
    "collapsed": true
   },
   "outputs": [],
   "source": [
    "with open('data/input.txt','U') as f:\n",
    "    content = f.read()"
   ]
  },
  {
   "cell_type": "code",
   "execution_count": 14,
   "metadata": {
    "collapsed": true
   },
   "outputs": [],
   "source": [
    "np.random.seed = 0\n",
    "def createDict(content, start=0):\n",
    "    char_to_num = {}\n",
    "    num_to_char = {}\n",
    "    content = set(list(content))\n",
    "    for c in content:\n",
    "        char_to_num[c] = start\n",
    "        num_to_char[start] = c\n",
    "        start += 1\n",
    "    return (char_to_num, num_to_char)\n",
    "\n",
    "def charToNum(content, char_to_num):\n",
    "    content = list(content)\n",
    "    res = []\n",
    "    for c in content:\n",
    "        res.append(char_to_num[c])\n",
    "    return res\n",
    "\n",
    "def numToChar(content, num_to_char):\n",
    "    res = []\n",
    "    for i in content:\n",
    "        res.append(num_to_char[i])\n",
    "    return res\n",
    "\n",
    "def cateToNum(content):\n",
    "    res = []\n",
    "    for line in content:\n",
    "        idx = 0\n",
    "        for i in line:\n",
    "            if i == 0:\n",
    "                idx +=1\n",
    "            else:\n",
    "                res.append(idx)\n",
    "                break\n",
    "    return res\n",
    "\n",
    "def createData(data, size=50000):\n",
    "    d = []\n",
    "    for idx in range(size):\n",
    "        r = np.random.randint(0, len(data)-25)\n",
    "        d.append(data[r:r+25,:])\n",
    "    d = np.array(d)\n",
    "    d_input = d[:,:-1,]\n",
    "    d_output = d[:,1:,]\n",
    "    return (d_input, d_output)\n",
    "\n",
    "def splitData(data, rate=0.8):\n",
    "    idx = int(len(data)*0.8)\n",
    "    train_data = data[:idx]\n",
    "    test_data = data[idx:]\n",
    "    return (train_data, test_data)\n"
   ]
  },
  {
   "cell_type": "code",
   "execution_count": 15,
   "metadata": {
    "collapsed": true
   },
   "outputs": [],
   "source": [
    "char_to_num, num_to_char = createDict(content)\n",
    "oneHotEncoding = charToNum(content, char_to_num)"
   ]
  },
  {
   "cell_type": "code",
   "execution_count": 16,
   "metadata": {
    "collapsed": true
   },
   "outputs": [],
   "source": [
    "data = np_utils.to_categorical(oneHotEncoding, nb_classes=100)\n",
    "train_data, test_data = splitData(data)"
   ]
  },
  {
   "cell_type": "code",
   "execution_count": 17,
   "metadata": {
    "collapsed": true
   },
   "outputs": [],
   "source": [
    "train_input,train_output = createData(train_data, 50000)\n",
    "test_input, test_output = createData(test_data, int(50000*0.25))"
   ]
  },
  {
   "cell_type": "code",
   "execution_count": 19,
   "metadata": {
    "collapsed": true
   },
   "outputs": [],
   "source": [
    "# one_slice = train_input[0]\n",
    "\n",
    "# one_slice = one_slice.reshape((1, 24, 100))\n",
    "\n",
    "# one_slice.shape"
   ]
  },
  {
   "cell_type": "code",
   "execution_count": 224,
   "metadata": {
    "collapsed": true
   },
   "outputs": [],
   "source": [
    "with open('data/T1_4.txt','U') as f:\n",
    "    one_sample = f.read()"
   ]
  },
  {
   "cell_type": "code",
   "execution_count": 225,
   "metadata": {
    "collapsed": false
   },
   "outputs": [],
   "source": [
    "oneHotEncoding_sample = charToNum(one_sample, char_to_num)"
   ]
  },
  {
   "cell_type": "code",
   "execution_count": 226,
   "metadata": {
    "collapsed": true
   },
   "outputs": [],
   "source": [
    "data_sample = np_utils.to_categorical(oneHotEncoding_sample, nb_classes=100)"
   ]
  },
  {
   "cell_type": "code",
   "execution_count": 234,
   "metadata": {
    "collapsed": false
   },
   "outputs": [
    {
     "data": {
      "text/plain": [
       "(300, 100)"
      ]
     },
     "execution_count": 234,
     "metadata": {},
     "output_type": "execute_result"
    }
   ],
   "source": [
    "# data preprocess\n",
    "data_sample.shape"
   ]
  },
  {
   "cell_type": "code",
   "execution_count": 209,
   "metadata": {
    "collapsed": true
   },
   "outputs": [],
   "source": [
    "# data_sample = np.vstack((data_sample, np.zeros((2,100))))"
   ]
  },
  {
   "cell_type": "code",
   "execution_count": 233,
   "metadata": {
    "collapsed": false
   },
   "outputs": [],
   "source": [
    "# data_sample = data_sample.reshape((11, 24, 100))"
   ]
  },
  {
   "cell_type": "code",
   "execution_count": 228,
   "metadata": {
    "collapsed": false
   },
   "outputs": [],
   "source": [
    "model = keras.models.load_model('data/4a_1_0.h5')"
   ]
  },
  {
   "cell_type": "code",
   "execution_count": 229,
   "metadata": {
    "collapsed": false
   },
   "outputs": [
    {
     "name": "stdout",
     "output_type": "stream",
     "text": [
      "____________________________________________________________________________________________________\n",
      "Layer (type)                     Output Shape          Param #     Connected to                     \n",
      "====================================================================================================\n",
      "simplernn_2 (SimpleRNN)          (None, 24, 100)       20100       simplernn_input_3[0][0]          \n",
      "____________________________________________________________________________________________________\n",
      "lambda_1 (Lambda)                (None, 24, 100)       0           simplernn_2[0][0]                \n",
      "____________________________________________________________________________________________________\n",
      "dense_2 (Dense)                  (None, 24, 100)       10100       lambda_1[0][0]                   \n",
      "====================================================================================================\n",
      "Total params: 30,200\n",
      "Trainable params: 30,200\n",
      "Non-trainable params: 0\n",
      "____________________________________________________________________________________________________\n"
     ]
    }
   ],
   "source": [
    "model.summary()"
   ]
  },
  {
   "cell_type": "code",
   "execution_count": 235,
   "metadata": {
    "collapsed": false
   },
   "outputs": [],
   "source": [
    "layer_name = 'simplernn_2'\n",
    "intermediate_layer_model = Model(input=model.input,\n",
    "                                 output=model.get_layer(layer_name).output)"
   ]
  },
  {
   "cell_type": "code",
   "execution_count": 247,
   "metadata": {
    "collapsed": false
   },
   "outputs": [],
   "source": [
    "# lenGenerate = 1000\n",
    "# generated = ''\n",
    "# sentence = content[:24]\n",
    "# for i in range(lenGenerate):\n",
    "#     x = np.zeros((1, 24, 100))\n",
    "#     for t, char in enumerate(sentence):\n",
    "#         x[0, t, char_to_num[char]] = 1.\n",
    "\n",
    "#     tmp = model.predict(x, verbose=0)\n",
    "#     preds = tmp[0][-1]\n",
    "#     next_index = sample(preds)\n",
    "#     next_char = num_to_char[next_index]\n",
    "\n",
    "#     generated += next_char\n",
    "#     sentence = sentence[1:] + next_char\n",
    "\n",
    "intermediate_output = []\n",
    "sample_output = []\n",
    "for idx in range(data_sample.shape[0] - 24):\n",
    "    one_sample = data_sample[idx:24+idx, :]\n",
    "    one_sample = one_sample.reshape((1,24,100))\n",
    "    intermediate_output.append(intermediate_layer_model.predict(one_sample)[0,-1,:])\n",
    "    sample_output.append(model.predict(one_sample, verbose=0)[0,-1,:])\n",
    "intermediate_output = np.array(intermediate_output)\n",
    "sample_output = np.array(sample_output)"
   ]
  },
  {
   "cell_type": "code",
   "execution_count": 248,
   "metadata": {
    "collapsed": false
   },
   "outputs": [
    {
     "data": {
      "text/plain": [
       "(276, 100)"
      ]
     },
     "execution_count": 248,
     "metadata": {},
     "output_type": "execute_result"
    }
   ],
   "source": [
    "intermediate_output.shape # 276 = 12*23"
   ]
  },
  {
   "cell_type": "code",
   "execution_count": 250,
   "metadata": {
    "collapsed": false
   },
   "outputs": [
    {
     "data": {
      "text/plain": [
       "(276, 100)"
      ]
     },
     "execution_count": 250,
     "metadata": {},
     "output_type": "execute_result"
    }
   ],
   "source": [
    "sample_output.shape"
   ]
  },
  {
   "cell_type": "code",
   "execution_count": 264,
   "metadata": {
    "collapsed": true
   },
   "outputs": [],
   "source": [
    "def sample(probDist):\n",
    "    # helper function to sample an index from a probability array\n",
    "    a = [x/sum(probDist) for x in probDist]\n",
    "    idx = 93\n",
    "    while idx > 92:\n",
    "        idx = np.argmax(np.random.multinomial(1, a, 1))\n",
    "    return idx"
   ]
  },
  {
   "cell_type": "code",
   "execution_count": 269,
   "metadata": {
    "collapsed": true
   },
   "outputs": [],
   "source": [
    "generated = []\n",
    "for i in np.arange(sample_output.shape[0]):\n",
    "    next_index = sample(sample_output[i,:])\n",
    "    next_char = num_to_char[next_index]\n",
    "    generated.append(next_char)"
   ]
  },
  {
   "cell_type": "code",
   "execution_count": 270,
   "metadata": {
    "collapsed": true
   },
   "outputs": [],
   "source": [
    "generated = np.array(generated)"
   ]
  },
  {
   "cell_type": "code",
   "execution_count": 271,
   "metadata": {
    "collapsed": false
   },
   "outputs": [],
   "source": [
    "generated = np.core.defchararray.replace(generated, '\\n', 'nl')\n",
    "generated = np.core.defchararray.replace(generated, ' ', 'sp')"
   ]
  },
  {
   "cell_type": "code",
   "execution_count": 272,
   "metadata": {
    "collapsed": false
   },
   "outputs": [
    {
     "data": {
      "text/plain": [
       "array(['nl', '<', 's', 't', 'a', 'r', 't', '>', 'nl', 'X', ':', '1', 'nl',\n",
       "       '5', '4', 'T', ':', 'o', 'Z', '8', 'x', ':', '6', '|', 'e', 'H',\n",
       "       ':', 'M', 'i', 'r', 'l', 'g', 'l', 'a', 'y', 'n', 'sp', 'e', '2',\n",
       "       't', 'p', 's', 'l', 'e', 'n', 'd', 'nl', 'sp', 'W', ':', 'i', 'd',\n",
       "       ':', 'h', 'n', 'r', 'n', 'p', 'm', 's', 'l', 'E', ':', 'F', 'r',\n",
       "       'a', 'n', 'c', 'e', 'nl', 'D', 'M', ':', '8', '/', '4', '=', 'L',\n",
       "       ':', 'G', 'm', '~', 'B', '3', 'f', 'sp', 'g', 'f', 'e', 'w', 'm',\n",
       "       '|', 'sp', 'f', 'g', 'd', 'd', 'd', 'd', '3', 'A', 'd', '|', 'c',\n",
       "       '^', 'B', 'A', 'sp', 'G', 'F', 'G', 'A', '|', '|', 'sp', 'G', 'G',\n",
       "       '^', 'B', 'sp', 'G', 'e', 'e', 'd', 'sp', '|', '2', 'sp', 'd', 'c',\n",
       "       'g', 'B', '|', 'd', 'g', '/', 'f', 'sp', 'e', 'sp', 'c', 'c', ':',\n",
       "       '|', 'e', 'sp', 'f', 'e', 'G', '2', '^', 'g', 'B', 'G', 'c', 'c',\n",
       "       '|', '|', '|', 'sp', 'd', 'c', 'f', '2', 'sp', '|', 'sp', 'A', '4',\n",
       "       '=', '/', 'G', '|', 'B', 'F', 'sp', 'c', 'G', 'sp', '|', '3', 'A',\n",
       "       'c', 'c', 'sp', '|', 'sp', 'F', 'B', 'c', 'd', 'sp', '|', '2', 'e',\n",
       "       '2', 'sp', '(', 'b', 'e', '3', 'e', 'c', 'c', 'sp', '|', 'G', 'sp',\n",
       "       '(', '2', 'e', '|', '3', 'B', 'c', 'f', 'sp', '(', 'nl', 'e', 'a',\n",
       "       'd', 'b', '2', 'f', 'sp', 'd', '3', 'c', 'sp', 'e', 'B', 'B', '|',\n",
       "       'nl', '2', 'F', 'sp', 'G', 'A', 'G', '|', '~', 'A', 'D', 'sp', 'd',\n",
       "       'B', '|', '|', 'd', 'G', 'A', 'sp', 'E', '>', 'A', '|', 'f', 'd',\n",
       "       'F', 'sp', 'g', 'E', 'b', '|', 'nl', '<', 'e', 'n', 'd', '>', 'nl',\n",
       "       '<', 's', 't'], \n",
       "      dtype='|S2')"
      ]
     },
     "execution_count": 272,
     "metadata": {},
     "output_type": "execute_result"
    }
   ],
   "source": [
    "generated"
   ]
  },
  {
   "cell_type": "code",
   "execution_count": 275,
   "metadata": {
    "collapsed": true
   },
   "outputs": [],
   "source": [
    "generated = generated.reshape((12,23))"
   ]
  },
  {
   "cell_type": "code",
   "execution_count": 292,
   "metadata": {
    "collapsed": false
   },
   "outputs": [],
   "source": [
    "import plotly.plotly as py\n",
    "import plotly.graph_objs as go"
   ]
  },
  {
   "cell_type": "code",
   "execution_count": 293,
   "metadata": {
    "collapsed": true
   },
   "outputs": [],
   "source": [
    "import plotly\n",
    "plotly.tools.set_credentials_file(username='stephen001', api_key='ZDgJ3ZalqkR4SlW3nspF')"
   ]
  },
  {
   "cell_type": "code",
   "execution_count": 294,
   "metadata": {
    "collapsed": true
   },
   "outputs": [],
   "source": [
    "x = range(23)\n",
    "y = range(12)"
   ]
  },
  {
   "cell_type": "code",
   "execution_count": 279,
   "metadata": {
    "collapsed": false
   },
   "outputs": [],
   "source": [
    "intermediate_output = intermediate_output.reshape((12,23,100))\n",
    "sample_output = sample_output.reshape((12,23,100))"
   ]
  },
  {
   "cell_type": "code",
   "execution_count": 300,
   "metadata": {
    "collapsed": false
   },
   "outputs": [],
   "source": [
    "for idx in range(100):\n",
    "    z = intermediate_output[:,:,idx]\n",
    "\n",
    "    annotations = []\n",
    "    for n, row in enumerate(z):\n",
    "        for m, val in enumerate(row):\n",
    "            var = z[n][m]\n",
    "            annotations.append(\n",
    "                dict(\n",
    "                    text=str(generated[n,m]),\n",
    "                    x=x[m], y=y[n],\n",
    "                    xref='x1', yref='y1',\n",
    "                    font=dict(color='white' if val > 0.5 else 'black'),\n",
    "                    showarrow=False)\n",
    "                )\n",
    "\n",
    "    colorscale = [[0.0, 'rgb(165,0,38)'], [0.1111111111111111, 'rgb(215,48,39)'], [0.2222222222222222, 'rgb(244,109,67)'], [0.3333333333333333, 'rgb(253,174,97)'], [0.4444444444444444, 'rgb(254,224,144)'], [0.5555555555555556, 'rgb(224,243,248)'], [0.6666666666666666, 'rgb(171,217,233)'], [0.7777777777777778, 'rgb(116,173,209)'], [0.8888888888888888, 'rgb(69,117,180)'], [1.0, 'rgb(49,54,149)']]  # custom colorscale\n",
    "    trace = go.Heatmap(x=x, y=y, z=z, colorscale=colorscale, showscale=True)\n",
    "\n",
    "    fig = go.Figure(data=[trace])\n",
    "    fig['layout'].update(\n",
    "        title=\"Heatmap\",\n",
    "        annotations=annotations,\n",
    "        xaxis=dict(ticks='', side='bottom'),\n",
    "        # ticksuffix is a workaround to add a bit of padding\n",
    "        yaxis=dict(ticks='', ticksuffix='  '),\n",
    "        width=700,\n",
    "        height=500,\n",
    "        autosize=False\n",
    "    )\n",
    "    py.image.save_as(fig, filename='results/'+'neuron'+str(idx)+'.png')\n",
    "    #py.iplot(fig, filename='custom-colorscale', height=750)\n",
    "    "
   ]
  },
  {
   "cell_type": "code",
   "execution_count": null,
   "metadata": {
    "collapsed": true
   },
   "outputs": [],
   "source": []
  },
  {
   "cell_type": "code",
   "execution_count": null,
   "metadata": {
    "collapsed": true
   },
   "outputs": [],
   "source": []
  },
  {
   "cell_type": "code",
   "execution_count": null,
   "metadata": {
    "collapsed": true
   },
   "outputs": [],
   "source": []
  },
  {
   "cell_type": "code",
   "execution_count": null,
   "metadata": {
    "collapsed": true
   },
   "outputs": [],
   "source": []
  },
  {
   "cell_type": "code",
   "execution_count": null,
   "metadata": {
    "collapsed": true
   },
   "outputs": [],
   "source": []
  }
 ],
 "metadata": {
  "kernelspec": {
   "display_name": "Python 2",
   "language": "python",
   "name": "python2"
  },
  "language_info": {
   "codemirror_mode": {
    "name": "ipython",
    "version": 2
   },
   "file_extension": ".py",
   "mimetype": "text/x-python",
   "name": "python",
   "nbconvert_exporter": "python",
   "pygments_lexer": "ipython2",
   "version": "2.7.13"
  }
 },
 "nbformat": 4,
 "nbformat_minor": 2
}
