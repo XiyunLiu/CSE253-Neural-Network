{
 "cells": [
  {
   "cell_type": "code",
   "execution_count": 1,
   "metadata": {
    "collapsed": false
   },
   "outputs": [
    {
     "name": "stderr",
     "output_type": "stream",
     "text": [
      "Using Theano backend.\n",
      "Using gpu device 0: GeForce GTX 1080 (CNMeM is disabled, cuDNN not available)\n"
     ]
    }
   ],
   "source": [
    "import keras\n",
    "import numpy as np\n",
    "import keras.preprocessing.text\n",
    "from sklearn.preprocessing import OneHotEncoder\n",
    "from keras.utils import np_utils\n",
    "from keras.models import Sequential\n",
    "from keras.layers import Dense, Activation, Lambda, Dropout\n",
    "from keras.layers.recurrent import SimpleRNN"
   ]
  },
  {
   "cell_type": "code",
   "execution_count": 2,
   "metadata": {
    "collapsed": false
   },
   "outputs": [],
   "source": [
    "with open('data/input.txt','U') as f:\n",
    "    content = f.read()"
   ]
  },
  {
   "cell_type": "code",
   "execution_count": 3,
   "metadata": {
    "collapsed": true
   },
   "outputs": [],
   "source": [
    "np.random.seed = 0\n",
    "def createDict(content, start=0):\n",
    "    char_to_num = {}\n",
    "    num_to_char = {}\n",
    "    content = set(list(content))\n",
    "    for c in content:\n",
    "        char_to_num[c] = start\n",
    "        num_to_char[start] = c\n",
    "        start += 1\n",
    "    return (char_to_num, num_to_char)\n",
    "\n",
    "def charToNum(content, char_to_num):\n",
    "    content = list(content)\n",
    "    res = []\n",
    "    for c in content:\n",
    "        res.append(char_to_num[c])\n",
    "    return res\n",
    "\n",
    "def numToChar(content, num_to_char):\n",
    "    res = []\n",
    "    for i in content:\n",
    "        res.append(num_to_char[i])\n",
    "    return res\n",
    "\n",
    "def cateToNum(content):\n",
    "    res = []\n",
    "    for line in content:\n",
    "        idx = 0\n",
    "        for i in line:\n",
    "            if i == 0:\n",
    "                idx +=1\n",
    "            else:\n",
    "                res.append(idx)\n",
    "                break\n",
    "    return res\n",
    "\n",
    "def createData(data, size=50000):\n",
    "    d = []\n",
    "    for idx in range(size):\n",
    "        r = np.random.randint(0, len(data)-25)\n",
    "        d.append(data[r:r+25,:])\n",
    "    d = np.array(d)\n",
    "    d_input = d[:,:-1,]\n",
    "    d_output = d[:,1:,]\n",
    "    return (d_input, d_output)\n",
    "\n",
    "def splitData(data, rate=0.8):\n",
    "    idx = int(len(data)*0.8)\n",
    "    train_data = data[:idx]\n",
    "    test_data = data[idx:]\n",
    "    return (train_data, test_data)"
   ]
  },
  {
   "cell_type": "code",
   "execution_count": 4,
   "metadata": {
    "collapsed": true
   },
   "outputs": [],
   "source": [
    "char_to_num, num_to_char = createDict(content)\n",
    "oneHotEncoding = charToNum(content, char_to_num)"
   ]
  },
  {
   "cell_type": "code",
   "execution_count": 5,
   "metadata": {
    "collapsed": true
   },
   "outputs": [],
   "source": [
    "data = np_utils.to_categorical(oneHotEncoding, nb_classes=100)\n",
    "train_data, test_data = splitData(data)"
   ]
  },
  {
   "cell_type": "code",
   "execution_count": 6,
   "metadata": {
    "collapsed": false
   },
   "outputs": [],
   "source": [
    "train_input,train_output = createData(train_data, 50000)\n",
    "test_input, test_output = createData(test_data, int(50000*0.25))"
   ]
  },
  {
   "cell_type": "code",
   "execution_count": 7,
   "metadata": {
    "collapsed": false
   },
   "outputs": [],
   "source": [
    "model = Sequential()\n",
    "model.add(SimpleRNN(150, input_shape=(24,100), return_sequences=True))\n",
    "model.add(Dense(100, activation=\"softmax\"))\n",
    "model.compile(loss=\"categorical_crossentropy\", optimizer=\"rmsprop\", metrics=[\"acc\"])"
   ]
  },
  {
   "cell_type": "code",
   "execution_count": 8,
   "metadata": {
    "collapsed": false
   },
   "outputs": [
    {
     "name": "stdout",
     "output_type": "stream",
     "text": [
      "Train on 50000 samples, validate on 12500 samples\n",
      "Epoch 1/30\n",
      "50000/50000 [==============================] - 9s - loss: 2.3196 - acc: 0.3899 - val_loss: 2.1652 - val_acc: 0.3741\n",
      "Epoch 2/30\n",
      "50000/50000 [==============================] - 10s - loss: 1.8533 - acc: 0.4759 - val_loss: 2.0547 - val_acc: 0.3994\n",
      "Epoch 3/30\n",
      "50000/50000 [==============================] - 10s - loss: 1.7486 - acc: 0.4972 - val_loss: 1.9922 - val_acc: 0.4123\n",
      "Epoch 4/30\n",
      "50000/50000 [==============================] - 9s - loss: 1.6880 - acc: 0.5107 - val_loss: 1.9652 - val_acc: 0.4211\n",
      "Epoch 5/30\n",
      "50000/50000 [==============================] - 9s - loss: 1.6447 - acc: 0.5209 - val_loss: 1.9500 - val_acc: 0.4292\n",
      "Epoch 6/30\n",
      "50000/50000 [==============================] - 9s - loss: 1.6115 - acc: 0.5292 - val_loss: 1.9324 - val_acc: 0.4328\n",
      "Epoch 7/30\n",
      "50000/50000 [==============================] - 10s - loss: 1.5849 - acc: 0.5358 - val_loss: 1.8952 - val_acc: 0.4373\n",
      "Epoch 8/30\n",
      "50000/50000 [==============================] - 10s - loss: 1.5629 - acc: 0.5415 - val_loss: 1.8971 - val_acc: 0.4378\n",
      "Epoch 9/30\n",
      "50000/50000 [==============================] - 9s - loss: 1.5441 - acc: 0.5463 - val_loss: 1.8855 - val_acc: 0.4414\n",
      "Epoch 10/30\n",
      "50000/50000 [==============================] - 9s - loss: 1.5289 - acc: 0.5507 - val_loss: 1.9054 - val_acc: 0.4422\n",
      "Epoch 11/30\n",
      "50000/50000 [==============================] - 10s - loss: 1.5153 - acc: 0.5547 - val_loss: 1.8848 - val_acc: 0.4429\n",
      "Epoch 12/30\n",
      "50000/50000 [==============================] - 9s - loss: 1.5036 - acc: 0.5576 - val_loss: 1.8782 - val_acc: 0.4453\n",
      "Epoch 13/30\n",
      "50000/50000 [==============================] - 8s - loss: 1.4927 - acc: 0.5604 - val_loss: 1.8941 - val_acc: 0.4413\n",
      "Epoch 14/30\n",
      "50000/50000 [==============================] - 8s - loss: 1.4834 - acc: 0.5629 - val_loss: 1.8671 - val_acc: 0.4501\n",
      "Epoch 15/30\n",
      "50000/50000 [==============================] - 9s - loss: 1.4744 - acc: 0.5652 - val_loss: 1.8678 - val_acc: 0.4508\n",
      "Epoch 16/30\n",
      "50000/50000 [==============================] - 9s - loss: 1.4672 - acc: 0.5674 - val_loss: 1.8635 - val_acc: 0.4519\n",
      "Epoch 17/30\n",
      "50000/50000 [==============================] - 8s - loss: 1.4604 - acc: 0.5691 - val_loss: 1.8675 - val_acc: 0.4520\n",
      "Epoch 18/30\n",
      "50000/50000 [==============================] - 9s - loss: 1.4541 - acc: 0.5708 - val_loss: 1.8578 - val_acc: 0.4537\n",
      "Epoch 19/30\n",
      "50000/50000 [==============================] - 9s - loss: 1.4483 - acc: 0.5723 - val_loss: 1.8783 - val_acc: 0.4524\n",
      "Epoch 20/30\n",
      "50000/50000 [==============================] - 9s - loss: 1.4425 - acc: 0.5739 - val_loss: 1.8819 - val_acc: 0.4486\n",
      "Epoch 21/30\n",
      "50000/50000 [==============================] - 9s - loss: 1.4378 - acc: 0.5748 - val_loss: 1.8592 - val_acc: 0.4590\n",
      "Epoch 22/30\n",
      "50000/50000 [==============================] - 8s - loss: 1.4333 - acc: 0.5758 - val_loss: 1.8717 - val_acc: 0.4565\n",
      "Epoch 23/30\n",
      "50000/50000 [==============================] - 8s - loss: 1.4293 - acc: 0.5773 - val_loss: 1.8820 - val_acc: 0.4476\n",
      "Epoch 24/30\n",
      "50000/50000 [==============================] - 8s - loss: 1.4249 - acc: 0.5785 - val_loss: 1.8732 - val_acc: 0.4542\n",
      "Epoch 25/30\n",
      "50000/50000 [==============================] - 9s - loss: 1.4214 - acc: 0.5792 - val_loss: 1.8687 - val_acc: 0.4550\n",
      "Epoch 26/30\n",
      "50000/50000 [==============================] - 10s - loss: 1.4181 - acc: 0.5800 - val_loss: 1.8734 - val_acc: 0.4535\n",
      "Epoch 27/30\n",
      "50000/50000 [==============================] - 9s - loss: 1.4145 - acc: 0.5809 - val_loss: 1.8632 - val_acc: 0.4564\n",
      "Epoch 28/30\n",
      "50000/50000 [==============================] - 8s - loss: 1.4116 - acc: 0.5819 - val_loss: 1.8732 - val_acc: 0.4551\n",
      "Epoch 29/30\n",
      "50000/50000 [==============================] - 9s - loss: 1.4087 - acc: 0.5826 - val_loss: 1.8767 - val_acc: 0.4508\n",
      "Epoch 30/30\n",
      "50000/50000 [==============================] - 8s - loss: 1.4054 - acc: 0.5837 - val_loss: 1.8833 - val_acc: 0.4559\n"
     ]
    }
   ],
   "source": [
    "history = model.fit(train_input,train_output, validation_data=(test_input, test_output), nb_epoch=30)"
   ]
  },
  {
   "cell_type": "code",
   "execution_count": 9,
   "metadata": {
    "collapsed": true
   },
   "outputs": [],
   "source": [
    "model.save('4.h5')"
   ]
  },
  {
   "cell_type": "code",
   "execution_count": 10,
   "metadata": {
    "collapsed": false
   },
   "outputs": [],
   "source": [
    "def sample(probDist, temperature=1.0):\n",
    "    # helper function to sample an index from a probability array\n",
    "    a = [x/sum(probDist) for x in probDist]\n",
    "    idx = 93\n",
    "    while idx > 92:\n",
    "        idx = np.argmax(np.random.multinomial(1, a, 1))\n",
    "    return idx\n",
    "\n",
    "lenGenerate = 1000\n",
    "generated = ''\n",
    "sentence = content[:24]\n",
    "for i in range(lenGenerate):\n",
    "    x = np.zeros((1, 24, 100))\n",
    "    for t, char in enumerate(sentence):\n",
    "        x[0, t, char_to_num[char]] = 1.\n",
    "\n",
    "    tmp = model.predict(x, verbose=0)\n",
    "    preds = tmp[0][-1]\n",
    "    next_index = sample(preds)\n",
    "    next_char = num_to_char[next_index]\n",
    "\n",
    "    generated += next_char\n",
    "    sentence = sentence[1:] + next_char\n",
    "with open('generate.txt', \"w\") as text_file:\n",
    "    text_file.write(\"{0}\".format(generated))"
   ]
  },
  {
   "cell_type": "code",
   "execution_count": 11,
   "metadata": {
    "collapsed": false
   },
   "outputs": [
    {
     "name": "stdout",
     "output_type": "stream",
     "text": [
      "[2.3195923289489748, 1.8533076879501342, 1.7486452172470093, 1.6879886317062378, 1.6447143780136109, 1.6114958945465088, 1.5848741561508179, 1.5628501316070558, 1.5441093202209473, 1.5288925750732423, 1.5152747910308837, 1.5035806901550293, 1.4926699471282958, 1.4833604209899902, 1.47440894821167, 1.4671878415679931, 1.4604069343948365, 1.4541424423599243, 1.4482538506698608, 1.4424965333557129, 1.4377822222900392, 1.4332955658340454, 1.4292813499450683, 1.4248659488677979, 1.4213716775512695, 1.4180568461608887, 1.4145023573303224, 1.4115582903671264, 1.4086830839157105, 1.405356801071167]\n",
      "[2.1651680883026123, 2.0547345533752441, 1.9921995473480225, 1.9652465586090089, 1.9499677429580689, 1.9323842154312134, 1.8952413364410401, 1.8971393621063233, 1.8854902578353883, 1.9054255352401734, 1.884823853225708, 1.8782233890533446, 1.8940988245391845, 1.8671075183486938, 1.8678157801055908, 1.8634659349822997, 1.8674560312271118, 1.8578377112579345, 1.8783489743423463, 1.8819105332183839, 1.8592118298339844, 1.8717404244613647, 1.8819597714996339, 1.8732123081207275, 1.8686596988296509, 1.8734433525848389, 1.8632011160659789, 1.8731882808685303, 1.8767161056518555, 1.8833217098236084]\n"
     ]
    }
   ],
   "source": [
    "print history.history['loss']\n",
    "print history.history['val_loss']"
   ]
  },
  {
   "cell_type": "code",
   "execution_count": 12,
   "metadata": {
    "collapsed": false
   },
   "outputs": [
    {
     "data": {
      "image/png": "[encoded data removed]",
      "text/plain": [
       "<matplotlib.figure.Figure at 0x7f11b5aa9d90>"
      ]
     },
     "metadata": {},
     "output_type": "display_data"
    }
   ],
   "source": [
    "import matplotlib.pyplot as plt\n",
    "%matplotlib inline\n",
    "\n",
    "# summarize history for loss\n",
    "plt.plot(history.history['loss'])\n",
    "plt.plot(history.history['val_loss'])\n",
    "plt.title('model loss')\n",
    "plt.ylabel('loss')\n",
    "plt.xlabel('epoch')\n",
    "plt.legend(['train', 'test'], loc='upper left')\n",
    "plt.show()"
   ]
  },
  {
   "cell_type": "markdown",
   "metadata": {
    "collapsed": true
   },
   "source": [
    "# 4a"
   ]
  },
  {
   "cell_type": "code",
   "execution_count": 13,
   "metadata": {
    "collapsed": true
   },
   "outputs": [],
   "source": [
    "temper = 1"
   ]
  },
  {
   "cell_type": "code",
   "execution_count": 14,
   "metadata": {
    "collapsed": false
   },
   "outputs": [
    {
     "name": "stderr",
     "output_type": "stream",
     "text": [
      "/usr/local/lib/python2.7/dist-packages/Keras-1.2.2-py2.7.egg/keras/layers/core.py:622: UserWarning: `output_shape` argument not specified for layer lambda_1 and cannot be automatically inferred with the Theano backend. Defaulting to output shape `(None, 24, 100)` (same as input shape). If the expected output shape is different, specify it via the `output_shape` argument.\n",
      "  .format(self.name, input_shape))\n"
     ]
    }
   ],
   "source": [
    "model = Sequential()\n",
    "model.add(SimpleRNN(100, input_shape=(24,100), return_sequences=True))\n",
    "model.add(Lambda(lambda x: x/1.0))\n",
    "model.add(Dense(100, activation=\"softmax\"))\n",
    "model.compile(loss=\"categorical_crossentropy\", optimizer=\"rmsprop\", metrics=[\"acc\"])"
   ]
  },
  {
   "cell_type": "code",
   "execution_count": 15,
   "metadata": {
    "collapsed": false
   },
   "outputs": [
    {
     "name": "stdout",
     "output_type": "stream",
     "text": [
      "Train on 50000 samples, validate on 12500 samples\n",
      "Epoch 1/30\n",
      "50000/50000 [==============================] - 9s - loss: 2.4382 - acc: 0.3638 - val_loss: 2.2081 - val_acc: 0.3591\n",
      "Epoch 2/30\n",
      "50000/50000 [==============================] - 9s - loss: 1.9263 - acc: 0.4604 - val_loss: 2.0613 - val_acc: 0.3940\n",
      "Epoch 3/30\n",
      "50000/50000 [==============================] - 9s - loss: 1.8189 - acc: 0.4815 - val_loss: 2.0415 - val_acc: 0.3999\n",
      "Epoch 4/30\n",
      "50000/50000 [==============================] - 9s - loss: 1.7617 - acc: 0.4934 - val_loss: 2.0175 - val_acc: 0.4039\n",
      "Epoch 5/30\n",
      "50000/50000 [==============================] - 9s - loss: 1.7222 - acc: 0.5022 - val_loss: 1.9655 - val_acc: 0.4177\n",
      "Epoch 6/30\n",
      "50000/50000 [==============================] - 9s - loss: 1.6921 - acc: 0.5093 - val_loss: 1.9509 - val_acc: 0.4202\n",
      "Epoch 7/30\n",
      "50000/50000 [==============================] - 9s - loss: 1.6685 - acc: 0.5148 - val_loss: 1.9349 - val_acc: 0.4243\n",
      "Epoch 8/30\n",
      "50000/50000 [==============================] - 10s - loss: 1.6493 - acc: 0.5192 - val_loss: 1.9149 - val_acc: 0.4312\n",
      "Epoch 9/30\n",
      "50000/50000 [==============================] - 9s - loss: 1.6329 - acc: 0.5234 - val_loss: 1.9353 - val_acc: 0.4283\n",
      "Epoch 10/30\n",
      "50000/50000 [==============================] - 9s - loss: 1.6193 - acc: 0.5266 - val_loss: 1.9120 - val_acc: 0.4331\n",
      "Epoch 11/30\n",
      "50000/50000 [==============================] - 9s - loss: 1.6076 - acc: 0.5296 - val_loss: 1.9017 - val_acc: 0.4328\n",
      "Epoch 12/30\n",
      "50000/50000 [==============================] - 10s - loss: 1.5970 - acc: 0.5325 - val_loss: 1.8995 - val_acc: 0.4333\n",
      "Epoch 13/30\n",
      "50000/50000 [==============================] - 10s - loss: 1.5877 - acc: 0.5346 - val_loss: 1.8878 - val_acc: 0.4340\n",
      "Epoch 14/30\n",
      "50000/50000 [==============================] - 10s - loss: 1.5800 - acc: 0.5367 - val_loss: 1.9102 - val_acc: 0.4338\n",
      "Epoch 15/30\n",
      "50000/50000 [==============================] - 9s - loss: 1.5729 - acc: 0.5383 - val_loss: 1.9289 - val_acc: 0.4321\n",
      "Epoch 16/30\n",
      "50000/50000 [==============================] - 9s - loss: 1.5667 - acc: 0.5401 - val_loss: 1.8983 - val_acc: 0.4396\n",
      "Epoch 17/30\n",
      "50000/50000 [==============================] - 9s - loss: 1.5606 - acc: 0.5418 - val_loss: 1.8966 - val_acc: 0.4415\n",
      "Epoch 18/30\n",
      "50000/50000 [==============================] - 9s - loss: 1.5557 - acc: 0.5427 - val_loss: 1.8974 - val_acc: 0.4424\n",
      "Epoch 19/30\n",
      "50000/50000 [==============================] - 9s - loss: 1.5512 - acc: 0.5441 - val_loss: 1.8827 - val_acc: 0.4427\n",
      "Epoch 20/30\n",
      "50000/50000 [==============================] - 9s - loss: 1.5466 - acc: 0.5452 - val_loss: 1.8813 - val_acc: 0.4440\n",
      "Epoch 21/30\n",
      "50000/50000 [==============================] - 9s - loss: 1.5426 - acc: 0.5462 - val_loss: 1.8985 - val_acc: 0.4452\n",
      "Epoch 22/30\n",
      "50000/50000 [==============================] - 9s - loss: 1.5390 - acc: 0.5471 - val_loss: 1.8997 - val_acc: 0.4438\n",
      "Epoch 23/30\n",
      "50000/50000 [==============================] - 9s - loss: 1.5353 - acc: 0.5479 - val_loss: 1.8765 - val_acc: 0.4495\n",
      "Epoch 24/30\n",
      "50000/50000 [==============================] - 9s - loss: 1.5321 - acc: 0.5490 - val_loss: 1.8817 - val_acc: 0.4445\n",
      "Epoch 25/30\n",
      "50000/50000 [==============================] - 9s - loss: 1.5294 - acc: 0.5495 - val_loss: 1.8973 - val_acc: 0.4442\n",
      "Epoch 26/30\n",
      "50000/50000 [==============================] - 9s - loss: 1.5264 - acc: 0.5502 - val_loss: 1.8840 - val_acc: 0.4458\n",
      "Epoch 27/30\n",
      "50000/50000 [==============================] - 9s - loss: 1.5238 - acc: 0.5507 - val_loss: 1.8767 - val_acc: 0.4484\n",
      "Epoch 28/30\n",
      "50000/50000 [==============================] - 9s - loss: 1.5215 - acc: 0.5516 - val_loss: 1.8826 - val_acc: 0.4451\n",
      "Epoch 29/30\n",
      "50000/50000 [==============================] - 9s - loss: 1.5191 - acc: 0.5521 - val_loss: 1.8806 - val_acc: 0.4442\n",
      "Epoch 30/30\n",
      "50000/50000 [==============================] - 9s - loss: 1.5169 - acc: 0.5528 - val_loss: 1.8789 - val_acc: 0.4474\n"
     ]
    }
   ],
   "source": [
    "history = model.fit(train_input,train_output,validation_data=(test_input, test_output),nb_epoch=30)"
   ]
  },
  {
   "cell_type": "code",
   "execution_count": 17,
   "metadata": {
    "collapsed": true
   },
   "outputs": [],
   "source": [
    "model.save('4a_1_0.h5')"
   ]
  },
  {
   "cell_type": "code",
   "execution_count": 16,
   "metadata": {
    "collapsed": false
   },
   "outputs": [
    {
     "name": "stdout",
     "output_type": "stream",
     "text": [
      "[2.4381505400848389, 1.926323934288025, 1.8189204339599609, 1.7616921406555175, 1.7221523069763183, 1.6921038061523437, 1.668465673904419, 1.6492702285003662, 1.6329149457931518, 1.6193336538696288, 1.6075926913070679, 1.5969604148483276, 1.587735876083374, 1.5799984544754029, 1.5728681649017333, 1.5666866950988769, 1.5605882001113891, 1.5557343672943116, 1.5512081382369995, 1.5465798342514039, 1.5426123921203614, 1.5389854066467286, 1.5353021292495728, 1.5321132999420166, 1.5293928361892699, 1.52643512550354, 1.5238208383560181, 1.5214823013305665, 1.5191296084213257, 1.5168706178665161]\n",
      "[2.2081479304504397, 2.0613201017761229, 2.0415265057373047, 2.0174560628509521, 1.9655212547302245, 1.9508649883270264, 1.9349284294891358, 1.914879411354065, 1.9353024786376953, 1.9119880591201783, 1.9016684667968751, 1.8994846463775634, 1.8878225310897827, 1.9101796628189087, 1.9289079522323609, 1.8983221355438233, 1.8966153994750976, 1.8974316855239868, 1.8826960865020752, 1.8812675199127198, 1.8984523876190185, 1.8996538782119752, 1.8765414712905883, 1.8817181085205079, 1.8972931696319579, 1.884020299911499, 1.876656564025879, 1.8826273165512084, 1.8805806665420532, 1.8788561856842041]\n"
     ]
    }
   ],
   "source": [
    "print history.history['loss']\n",
    "print history.history['val_loss']"
   ]
  },
  {
   "cell_type": "code",
   "execution_count": 18,
   "metadata": {
    "collapsed": false
   },
   "outputs": [
    {
     "data": {
      "image/png": "[encoded data removed]",
      "text/plain": [
       "<matplotlib.figure.Figure at 0x7f11b7ab9990>"
      ]
     },
     "metadata": {},
     "output_type": "display_data"
    }
   ],
   "source": [
    "import matplotlib.pyplot as plt\n",
    "%matplotlib inline\n",
    "\n",
    "# summarize history for loss\n",
    "plt.plot(history.history['loss'])\n",
    "plt.plot(history.history['val_loss'])\n",
    "plt.title('model loss')\n",
    "plt.ylabel('loss')\n",
    "plt.xlabel('epoch')\n",
    "plt.legend(['train', 'test'], loc='upper left')\n",
    "plt.show()"
   ]
  },
  {
   "cell_type": "code",
   "execution_count": 19,
   "metadata": {
    "collapsed": true
   },
   "outputs": [],
   "source": [
    "def sample(probDist, temperature=1.0):\n",
    "    # helper function to sample an index from a probability array\n",
    "    a = [x/sum(probDist) for x in probDist]\n",
    "    idx = 93\n",
    "    while idx > 92:\n",
    "        idx = np.argmax(np.random.multinomial(1, a, 1))\n",
    "    return idx\n",
    "\n",
    "lenGenerate = 10000\n",
    "generated = ''\n",
    "sentence = content[:24]\n",
    "for i in range(lenGenerate):\n",
    "    x = np.zeros((1, 24, 100))\n",
    "    for t, char in enumerate(sentence):\n",
    "        x[0, t, char_to_num[char]] = 1.\n",
    "\n",
    "    tmp = model.predict(x, verbose=0)\n",
    "    preds = tmp[0][-1]\n",
    "    next_index = sample(preds)\n",
    "    next_char = num_to_char[next_index]\n",
    "\n",
    "    generated += next_char\n",
    "    sentence = sentence[1:] + next_char\n",
    "with open('generate_1.0.txt', \"w\") as text_file:\n",
    "    text_file.write(\"{0}\".format(generated))"
   ]
  },
  {
   "cell_type": "code",
   "execution_count": 20,
   "metadata": {
    "collapsed": false
   },
   "outputs": [
    {
     "name": "stderr",
     "output_type": "stream",
     "text": [
      "/usr/local/lib/python2.7/dist-packages/Keras-1.2.2-py2.7.egg/keras/layers/core.py:622: UserWarning: `output_shape` argument not specified for layer lambda_2 and cannot be automatically inferred with the Theano backend. Defaulting to output shape `(None, 24, 100)` (same as input shape). If the expected output shape is different, specify it via the `output_shape` argument.\n",
      "  .format(self.name, input_shape))\n"
     ]
    },
    {
     "name": "stdout",
     "output_type": "stream",
     "text": [
      "Train on 50000 samples, validate on 12500 samples\n",
      "Epoch 1/30\n",
      "50000/50000 [==============================] - 10s - loss: 2.7180 - acc: 0.3062 - val_loss: 2.3402 - val_acc: 0.3342\n",
      "Epoch 2/30\n",
      "50000/50000 [==============================] - 10s - loss: 2.0443 - acc: 0.4402 - val_loss: 2.1481 - val_acc: 0.3741\n",
      "Epoch 3/30\n",
      "50000/50000 [==============================] - 9s - loss: 1.8949 - acc: 0.4667 - val_loss: 2.0575 - val_acc: 0.3940\n",
      "Epoch 4/30\n",
      "50000/50000 [==============================] - 9s - loss: 1.8201 - acc: 0.4815 - val_loss: 2.0082 - val_acc: 0.4036\n",
      "Epoch 5/30\n",
      "50000/50000 [==============================] - 10s - loss: 1.7712 - acc: 0.4921 - val_loss: 1.9876 - val_acc: 0.4073\n",
      "Epoch 6/30\n",
      "50000/50000 [==============================] - 10s - loss: 1.7357 - acc: 0.4996 - val_loss: 1.9749 - val_acc: 0.4105\n",
      "Epoch 7/30\n",
      "50000/50000 [==============================] - 10s - loss: 1.7081 - acc: 0.5061 - val_loss: 1.9717 - val_acc: 0.4142\n",
      "Epoch 8/30\n",
      "50000/50000 [==============================] - 10s - loss: 1.6859 - acc: 0.5114 - val_loss: 1.9460 - val_acc: 0.4206\n",
      "Epoch 9/30\n",
      "50000/50000 [==============================] - 9s - loss: 1.6673 - acc: 0.5157 - val_loss: 1.9353 - val_acc: 0.4243\n",
      "Epoch 10/30\n",
      "50000/50000 [==============================] - 9s - loss: 1.6519 - acc: 0.5194 - val_loss: 1.9320 - val_acc: 0.4249\n",
      "Epoch 11/30\n",
      "50000/50000 [==============================] - 10s - loss: 1.6385 - acc: 0.5231 - val_loss: 1.9478 - val_acc: 0.4248\n",
      "Epoch 12/30\n",
      "50000/50000 [==============================] - 10s - loss: 1.6271 - acc: 0.5262 - val_loss: 1.9218 - val_acc: 0.4317\n",
      "Epoch 13/30\n",
      "50000/50000 [==============================] - 9s - loss: 1.6170 - acc: 0.5284 - val_loss: 1.9053 - val_acc: 0.4350\n",
      "Epoch 14/30\n",
      "50000/50000 [==============================] - 9s - loss: 1.6080 - acc: 0.5305 - val_loss: 1.9091 - val_acc: 0.4350\n",
      "Epoch 15/30\n",
      "50000/50000 [==============================] - 9s - loss: 1.6002 - acc: 0.5325 - val_loss: 1.9084 - val_acc: 0.4370\n",
      "Epoch 16/30\n",
      "50000/50000 [==============================] - 9s - loss: 1.5929 - acc: 0.5342 - val_loss: 1.9111 - val_acc: 0.4373\n",
      "Epoch 17/30\n",
      "50000/50000 [==============================] - 9s - loss: 1.5865 - acc: 0.5359 - val_loss: 1.8872 - val_acc: 0.4417\n",
      "Epoch 18/30\n",
      "50000/50000 [==============================] - 9s - loss: 1.5808 - acc: 0.5375 - val_loss: 1.8878 - val_acc: 0.4377\n",
      "Epoch 19/30\n",
      "50000/50000 [==============================] - 9s - loss: 1.5753 - acc: 0.5385 - val_loss: 1.8875 - val_acc: 0.4382\n",
      "Epoch 20/30\n",
      "50000/50000 [==============================] - 9s - loss: 1.5708 - acc: 0.5399 - val_loss: 1.9073 - val_acc: 0.4370\n",
      "Epoch 21/30\n",
      "50000/50000 [==============================] - 9s - loss: 1.5663 - acc: 0.5412 - val_loss: 1.8965 - val_acc: 0.4419\n",
      "Epoch 22/30\n",
      "50000/50000 [==============================] - 9s - loss: 1.5623 - acc: 0.5420 - val_loss: 1.9049 - val_acc: 0.4400\n",
      "Epoch 23/30\n",
      "50000/50000 [==============================] - 9s - loss: 1.5586 - acc: 0.5429 - val_loss: 1.8816 - val_acc: 0.4445\n",
      "Epoch 24/30\n",
      "50000/50000 [==============================] - 9s - loss: 1.5550 - acc: 0.5436 - val_loss: 1.9025 - val_acc: 0.4399\n",
      "Epoch 25/30\n",
      "50000/50000 [==============================] - 9s - loss: 1.5518 - acc: 0.5444 - val_loss: 1.8835 - val_acc: 0.4433\n",
      "Epoch 26/30\n",
      "50000/50000 [==============================] - 9s - loss: 1.5490 - acc: 0.5457 - val_loss: 1.8799 - val_acc: 0.4444\n",
      "Epoch 27/30\n",
      "50000/50000 [==============================] - 9s - loss: 1.5459 - acc: 0.5465 - val_loss: 1.8839 - val_acc: 0.4444\n",
      "Epoch 28/30\n",
      "50000/50000 [==============================] - 9s - loss: 1.5433 - acc: 0.5467 - val_loss: 1.8869 - val_acc: 0.4444\n",
      "Epoch 29/30\n",
      "50000/50000 [==============================] - 9s - loss: 1.5406 - acc: 0.5476 - val_loss: 1.8886 - val_acc: 0.4437\n",
      "Epoch 30/30\n",
      "50000/50000 [==============================] - 9s - loss: 1.5383 - acc: 0.5481 - val_loss: 1.8908 - val_acc: 0.4431\n"
     ]
    }
   ],
   "source": [
    "temper = 2.0\n",
    "\n",
    "model = Sequential()\n",
    "model.add(SimpleRNN(100, input_shape=(24,100), return_sequences=True))\n",
    "model.add(Lambda(lambda x: x/2.0))\n",
    "model.add(Dense(100, activation=\"softmax\"))\n",
    "model.compile(loss=\"categorical_crossentropy\", optimizer=\"rmsprop\", metrics=[\"acc\"])\n",
    "\n",
    "history = model.fit(train_input,train_output,validation_data=(test_input, test_output),nb_epoch=30)"
   ]
  },
  {
   "cell_type": "code",
   "execution_count": 21,
   "metadata": {
    "collapsed": true
   },
   "outputs": [],
   "source": [
    "model.save('4a_2_0.h5')"
   ]
  },
  {
   "cell_type": "code",
   "execution_count": 22,
   "metadata": {
    "collapsed": false
   },
   "outputs": [
    {
     "name": "stdout",
     "output_type": "stream",
     "text": [
      "[2.7180434043884278, 2.0442990156555174, 1.8948933723449708, 1.8201028846740723, 1.7711700637435912, 1.7356858701324462, 1.7080604605102538, 1.6858992848205567, 1.6672898400878906, 1.6518730162048341, 1.6384582763671875, 1.6270827167510986, 1.6170317555999756, 1.6080449962234498, 1.6002008860015868, 1.5928953412628173, 1.5865227348709106, 1.5807566442108154, 1.5753488327789307, 1.5708286977386474, 1.5663164129257203, 1.5622842249298097, 1.5586081493377686, 1.5549654247665405, 1.5518198192214965, 1.5489917532730102, 1.5459279664611816, 1.5433136141967774, 1.5406309535598754, 1.5383447570800781]\n",
      "[2.3402272545623779, 2.1481266216278074, 2.0574738385772706, 2.0081783846282959, 1.9876307284545898, 1.974893730545044, 1.9717068753433227, 1.9460348358917237, 1.9353052817535401, 1.9320418575668334, 1.9478174422454835, 1.9217714908218384, 1.9052662734222412, 1.9090970851898192, 1.9084351389312744, 1.9110537210845948, 1.8871700290298461, 1.8878339959335326, 1.88746600440979, 1.9073256317138672, 1.8965131027984619, 1.9048550197982788, 1.8815663967514038, 1.9024629748535156, 1.8834716442108155, 1.8798665493774414, 1.88391511013031, 1.8869163488006593, 1.8885676889419556, 1.8907986346435546]\n"
     ]
    }
   ],
   "source": [
    "print history.history['loss']\n",
    "print history.history['val_loss']"
   ]
  },
  {
   "cell_type": "code",
   "execution_count": 23,
   "metadata": {
    "collapsed": false
   },
   "outputs": [
    {
     "data": {
      "image/png": "[encoded data removed]",
      "text/plain": [
       "<matplotlib.figure.Figure at 0x7f11b2da00d0>"
      ]
     },
     "metadata": {},
     "output_type": "display_data"
    }
   ],
   "source": [
    "# summarize history for loss\n",
    "plt.plot(history.history['loss'])\n",
    "plt.plot(history.history['val_loss'])\n",
    "plt.title('model loss')\n",
    "plt.ylabel('loss')\n",
    "plt.xlabel('epoch')\n",
    "plt.legend(['train', 'test'], loc='upper left')\n",
    "plt.show()"
   ]
  },
  {
   "cell_type": "code",
   "execution_count": 24,
   "metadata": {
    "collapsed": true
   },
   "outputs": [],
   "source": [
    "lenGenerate = 10000\n",
    "generated = ''\n",
    "sentence = content[:24]\n",
    "for i in range(lenGenerate):\n",
    "    x = np.zeros((1, 24, 100))\n",
    "    for t, char in enumerate(sentence):\n",
    "        x[0, t, char_to_num[char]] = 1.\n",
    "\n",
    "    tmp = model.predict(x, verbose=0)\n",
    "    preds = tmp[0][-1]\n",
    "    next_index = sample(preds)\n",
    "    next_char = num_to_char[next_index]\n",
    "\n",
    "    generated += next_char\n",
    "    sentence = sentence[1:] + next_char\n",
    "with open('generate_2.0.txt', \"w\") as text_file:\n",
    "    text_file.write(\"{0}\".format(generated))"
   ]
  },
  {
   "cell_type": "code",
   "execution_count": 25,
   "metadata": {
    "collapsed": false
   },
   "outputs": [
    {
     "name": "stderr",
     "output_type": "stream",
     "text": [
      "/usr/local/lib/python2.7/dist-packages/Keras-1.2.2-py2.7.egg/keras/layers/core.py:622: UserWarning: `output_shape` argument not specified for layer lambda_3 and cannot be automatically inferred with the Theano backend. Defaulting to output shape `(None, 24, 100)` (same as input shape). If the expected output shape is different, specify it via the `output_shape` argument.\n",
      "  .format(self.name, input_shape))\n"
     ]
    },
    {
     "name": "stdout",
     "output_type": "stream",
     "text": [
      "Train on 50000 samples, validate on 12500 samples\n",
      "Epoch 1/30\n",
      "50000/50000 [==============================] - 8s - loss: 2.3126 - acc: 0.3897 - val_loss: 2.1681 - val_acc: 0.3680\n",
      "Epoch 2/30\n",
      "50000/50000 [==============================] - 8s - loss: 1.8933 - acc: 0.4658 - val_loss: 2.0797 - val_acc: 0.3836\n",
      "Epoch 3/30\n",
      "50000/50000 [==============================] - 8s - loss: 1.8022 - acc: 0.4837 - val_loss: 2.0115 - val_acc: 0.4038\n",
      "Epoch 4/30\n",
      "50000/50000 [==============================] - 8s - loss: 1.7509 - acc: 0.4941 - val_loss: 2.0161 - val_acc: 0.4065\n",
      "Epoch 5/30\n",
      "50000/50000 [==============================] - 8s - loss: 1.7143 - acc: 0.5028 - val_loss: 1.9574 - val_acc: 0.4162\n",
      "Epoch 6/30\n",
      "50000/50000 [==============================] - 8s - loss: 1.6861 - acc: 0.5100 - val_loss: 1.9871 - val_acc: 0.4163\n",
      "Epoch 7/30\n",
      "50000/50000 [==============================] - 8s - loss: 1.6636 - acc: 0.5151 - val_loss: 1.9325 - val_acc: 0.4248\n",
      "Epoch 8/30\n",
      "50000/50000 [==============================] - 8s - loss: 1.6452 - acc: 0.5198 - val_loss: 1.9374 - val_acc: 0.4319\n",
      "Epoch 9/30\n",
      "50000/50000 [==============================] - 9s - loss: 1.6299 - acc: 0.5237 - val_loss: 1.9241 - val_acc: 0.4315\n",
      "Epoch 10/30\n",
      "50000/50000 [==============================] - 8s - loss: 1.6166 - acc: 0.5272 - val_loss: 1.9244 - val_acc: 0.4345\n",
      "Epoch 11/30\n",
      "50000/50000 [==============================] - 8s - loss: 1.6054 - acc: 0.5300 - val_loss: 1.9207 - val_acc: 0.4331\n",
      "Epoch 12/30\n",
      "50000/50000 [==============================] - 8s - loss: 1.5950 - acc: 0.5324 - val_loss: 1.9082 - val_acc: 0.4367\n",
      "Epoch 13/30\n",
      "50000/50000 [==============================] - 8s - loss: 1.5865 - acc: 0.5350 - val_loss: 1.9182 - val_acc: 0.4361\n",
      "Epoch 14/30\n",
      "50000/50000 [==============================] - 8s - loss: 1.5785 - acc: 0.5369 - val_loss: 1.8993 - val_acc: 0.4345\n",
      "Epoch 15/30\n",
      "50000/50000 [==============================] - 8s - loss: 1.5719 - acc: 0.5390 - val_loss: 1.8838 - val_acc: 0.4408\n",
      "Epoch 16/30\n",
      "50000/50000 [==============================] - 8s - loss: 1.5653 - acc: 0.5408 - val_loss: 1.8994 - val_acc: 0.4403\n",
      "Epoch 17/30\n",
      "50000/50000 [==============================] - 8s - loss: 1.5595 - acc: 0.5424 - val_loss: 1.8868 - val_acc: 0.4442\n",
      "Epoch 18/30\n",
      "50000/50000 [==============================] - 8s - loss: 1.5543 - acc: 0.5436 - val_loss: 1.8998 - val_acc: 0.4423\n",
      "Epoch 19/30\n",
      "50000/50000 [==============================] - 8s - loss: 1.5495 - acc: 0.5447 - val_loss: 1.8771 - val_acc: 0.4450\n",
      "Epoch 20/30\n",
      "50000/50000 [==============================] - 8s - loss: 1.5453 - acc: 0.5460 - val_loss: 1.8680 - val_acc: 0.4493\n",
      "Epoch 21/30\n",
      "50000/50000 [==============================] - 8s - loss: 1.5410 - acc: 0.5470 - val_loss: 1.8918 - val_acc: 0.4441\n",
      "Epoch 22/30\n",
      "50000/50000 [==============================] - 8s - loss: 1.5376 - acc: 0.5480 - val_loss: 1.8795 - val_acc: 0.4443\n",
      "Epoch 23/30\n",
      "50000/50000 [==============================] - 8s - loss: 1.5340 - acc: 0.5487 - val_loss: 1.8641 - val_acc: 0.4518\n",
      "Epoch 24/30\n",
      "50000/50000 [==============================] - 9s - loss: 1.5307 - acc: 0.5500 - val_loss: 1.8786 - val_acc: 0.4508\n",
      "Epoch 25/30\n",
      "50000/50000 [==============================] - 8s - loss: 1.5275 - acc: 0.5504 - val_loss: 1.8723 - val_acc: 0.4545\n",
      "Epoch 26/30\n",
      "50000/50000 [==============================] - 8s - loss: 1.5251 - acc: 0.5510 - val_loss: 1.8835 - val_acc: 0.4481\n",
      "Epoch 27/30\n",
      "50000/50000 [==============================] - 8s - loss: 1.5223 - acc: 0.5519 - val_loss: 1.8625 - val_acc: 0.4581\n",
      "Epoch 28/30\n",
      "50000/50000 [==============================] - 8s - loss: 1.5197 - acc: 0.5522 - val_loss: 1.8648 - val_acc: 0.4521\n",
      "Epoch 29/30\n",
      "50000/50000 [==============================] - 8s - loss: 1.5173 - acc: 0.5533 - val_loss: 1.8632 - val_acc: 0.4494\n",
      "Epoch 30/30\n",
      "50000/50000 [==============================] - 8s - loss: 1.5151 - acc: 0.5537 - val_loss: 1.8628 - val_acc: 0.4564\n"
     ]
    }
   ],
   "source": [
    "temper = 0.5\n",
    "\n",
    "model = Sequential()\n",
    "model.add(SimpleRNN(100, input_shape=(24,100), return_sequences=True))\n",
    "model.add(Lambda(lambda x: x/0.5))\n",
    "model.add(Dense(100, activation=\"softmax\"))\n",
    "model.compile(loss=\"categorical_crossentropy\", optimizer=\"rmsprop\", metrics=[\"acc\"])\n",
    "\n",
    "history = model.fit(train_input,train_output,validation_data=(test_input, test_output),nb_epoch=30)"
   ]
  },
  {
   "cell_type": "code",
   "execution_count": 26,
   "metadata": {
    "collapsed": true
   },
   "outputs": [],
   "source": [
    "model.save('4a_0_5.h5')"
   ]
  },
  {
   "cell_type": "code",
   "execution_count": 27,
   "metadata": {
    "collapsed": false
   },
   "outputs": [
    {
     "name": "stdout",
     "output_type": "stream",
     "text": [
      "[2.3125934962463379, 1.8932820402145385, 1.8022260075759888, 1.7509427918243408, 1.7142531049346923, 1.6861354206848145, 1.663630757675171, 1.6452210726928711, 1.6298862041473388, 1.6166138939666748, 1.6053930339813232, 1.5950029473876952, 1.5864509720993043, 1.5785321651458741, 1.5718519483947755, 1.5653259484481812, 1.5595469184875488, 1.5543390727996826, 1.5495464100265504, 1.5452702908706666, 1.540973465385437, 1.5375598066329956, 1.534042152519226, 1.5307125091552733, 1.5275032144927978, 1.5250578494262694, 1.5222846352005004, 1.5196838484573365, 1.5173342974472046, 1.5150973852157592]\n",
      "[2.1680780809020996, 2.0797341639709472, 2.0115070455169679, 2.0160955965423586, 1.9574052374267579, 1.9871351174163818, 1.9325260711669923, 1.9373582717895508, 1.9241076913070678, 1.92441617061615, 1.920735658340454, 1.9081535598754882, 1.9181635196685791, 1.8992901394271851, 1.8837977151107788, 1.8994333193588258, 1.8868297317886353, 1.8998248040390016, 1.8771116604614257, 1.8680073183822632, 1.8917824718475342, 1.8794510974884033, 1.8640642258453368, 1.8785795792007447, 1.8722818066787719, 1.8835366379547118, 1.8625345560455322, 1.8647907256698608, 1.863240110168457, 1.8628008056640626]\n"
     ]
    }
   ],
   "source": [
    "print history.history['loss']\n",
    "print history.history['val_loss']"
   ]
  },
  {
   "cell_type": "code",
   "execution_count": 28,
   "metadata": {
    "collapsed": false
   },
   "outputs": [
    {
     "data": {
      "image/png": "[encoded data removed]",
      "text/plain": [
       "<matplotlib.figure.Figure at 0x7f11b2da0910>"
      ]
     },
     "metadata": {},
     "output_type": "display_data"
    }
   ],
   "source": [
    "# summarize history for loss\n",
    "plt.plot(history.history['loss'])\n",
    "plt.plot(history.history['val_loss'])\n",
    "plt.title('model loss')\n",
    "plt.ylabel('loss')\n",
    "plt.xlabel('epoch')\n",
    "plt.legend(['train', 'test'], loc='upper left')\n",
    "plt.show()"
   ]
  },
  {
   "cell_type": "code",
   "execution_count": 29,
   "metadata": {
    "collapsed": true
   },
   "outputs": [],
   "source": [
    "lenGenerate = 10000\n",
    "generated = ''\n",
    "sentence = content[:24]\n",
    "for i in range(lenGenerate):\n",
    "    x = np.zeros((1, 24, 100))\n",
    "    for t, char in enumerate(sentence):\n",
    "        x[0, t, char_to_num[char]] = 1.\n",
    "\n",
    "    tmp = model.predict(x, verbose=0)\n",
    "    preds = tmp[0][-1]\n",
    "    next_index = sample(preds)\n",
    "    next_char = num_to_char[next_index]\n",
    "\n",
    "    generated += next_char\n",
    "    sentence = sentence[1:] + next_char\n",
    "with open('generate_0.5.txt', \"w\") as text_file:\n",
    "    text_file.write(\"{0}\".format(generated))"
   ]
  },
  {
   "cell_type": "markdown",
   "metadata": {
    "collapsed": false
   },
   "source": [
    "# 4b"
   ]
  },
  {
   "cell_type": "code",
   "execution_count": null,
   "metadata": {
    "collapsed": true
   },
   "outputs": [],
   "source": [
    "# summarize history for accuracy\n",
    "plt.plot(history.history['acc'])\n",
    "plt.plot(history.history['val_acc'])\n",
    "plt.title('model accuracy')\n",
    "plt.ylabel('accuracy')\n",
    "plt.xlabel('epoch')\n",
    "plt.legend(['train', 'test'], loc='upper left')\n",
    "plt.show()\n",
    "# summarize history for loss\n",
    "plt.plot(history.history['loss'])\n",
    "plt.plot(history.history['val_loss'])\n",
    "plt.title('model loss')\n",
    "plt.ylabel('loss')\n",
    "plt.xlabel('epoch')\n",
    "plt.legend(['train', 'test'], loc='upper left')\n",
    "plt.show()"
   ]
  },
  {
   "cell_type": "markdown",
   "metadata": {},
   "source": [
    "# 4c"
   ]
  },
  {
   "cell_type": "code",
   "execution_count": 30,
   "metadata": {
    "collapsed": true
   },
   "outputs": [],
   "source": [
    "numNeuron = 75"
   ]
  },
  {
   "cell_type": "code",
   "execution_count": 31,
   "metadata": {
    "collapsed": false
   },
   "outputs": [],
   "source": [
    "model = Sequential()\n",
    "model.add(SimpleRNN(numNeuron, input_shape=(24,100), return_sequences=True))\n",
    "model.add(Dense(100, activation=\"softmax\"))\n",
    "model.compile(loss=\"categorical_crossentropy\", optimizer=\"rmsprop\", metrics=[\"acc\"])"
   ]
  },
  {
   "cell_type": "code",
   "execution_count": 32,
   "metadata": {
    "collapsed": false
   },
   "outputs": [
    {
     "name": "stdout",
     "output_type": "stream",
     "text": [
      "Train on 50000 samples, validate on 12500 samples\n",
      "Epoch 1/30\n",
      "50000/50000 [==============================] - 9s - loss: 2.5337 - acc: 0.3439 - val_loss: 2.2842 - val_acc: 0.3499\n",
      "Epoch 2/30\n",
      "50000/50000 [==============================] - 9s - loss: 1.9920 - acc: 0.4471 - val_loss: 2.1142 - val_acc: 0.3836\n",
      "Epoch 3/30\n",
      "50000/50000 [==============================] - 9s - loss: 1.8818 - acc: 0.4682 - val_loss: 2.0705 - val_acc: 0.3944\n",
      "Epoch 4/30\n",
      "50000/50000 [==============================] - 11s - loss: 1.8255 - acc: 0.4793 - val_loss: 2.0680 - val_acc: 0.3948\n",
      "Epoch 5/30\n",
      "50000/50000 [==============================] - 11s - loss: 1.7881 - acc: 0.4875 - val_loss: 2.0149 - val_acc: 0.4073\n",
      "Epoch 6/30\n",
      "50000/50000 [==============================] - 10s - loss: 1.7615 - acc: 0.4931 - val_loss: 1.9931 - val_acc: 0.4067\n",
      "Epoch 7/30\n",
      "50000/50000 [==============================] - 11s - loss: 1.7406 - acc: 0.4980 - val_loss: 1.9771 - val_acc: 0.4136\n",
      "Epoch 8/30\n",
      "50000/50000 [==============================] - 10s - loss: 1.7239 - acc: 0.5021 - val_loss: 1.9803 - val_acc: 0.4144\n",
      "Epoch 9/30\n",
      "50000/50000 [==============================] - 10s - loss: 1.7100 - acc: 0.5052 - val_loss: 1.9580 - val_acc: 0.4181\n",
      "Epoch 10/30\n",
      "50000/50000 [==============================] - 10s - loss: 1.6979 - acc: 0.5083 - val_loss: 1.9574 - val_acc: 0.4188\n",
      "Epoch 11/30\n",
      "50000/50000 [==============================] - 10s - loss: 1.6876 - acc: 0.5110 - val_loss: 1.9419 - val_acc: 0.4201\n",
      "Epoch 12/30\n",
      "50000/50000 [==============================] - 10s - loss: 1.6784 - acc: 0.5129 - val_loss: 1.9632 - val_acc: 0.4181\n",
      "Epoch 13/30\n",
      "50000/50000 [==============================] - 10s - loss: 1.6703 - acc: 0.5152 - val_loss: 1.9426 - val_acc: 0.4222\n",
      "Epoch 14/30\n",
      "50000/50000 [==============================] - 10s - loss: 1.6631 - acc: 0.5170 - val_loss: 1.9273 - val_acc: 0.4264\n",
      "Epoch 15/30\n",
      "50000/50000 [==============================] - 10s - loss: 1.6567 - acc: 0.5183 - val_loss: 1.9404 - val_acc: 0.4219\n",
      "Epoch 16/30\n",
      "50000/50000 [==============================] - 10s - loss: 1.6509 - acc: 0.5202 - val_loss: 1.9297 - val_acc: 0.4241\n",
      "Epoch 17/30\n",
      "50000/50000 [==============================] - 10s - loss: 1.6457 - acc: 0.5209 - val_loss: 1.9112 - val_acc: 0.4312\n",
      "Epoch 18/30\n",
      "50000/50000 [==============================] - 10s - loss: 1.6408 - acc: 0.5221 - val_loss: 1.9175 - val_acc: 0.4271\n",
      "Epoch 19/30\n",
      "50000/50000 [==============================] - 10s - loss: 1.6360 - acc: 0.5237 - val_loss: 1.9215 - val_acc: 0.4282\n",
      "Epoch 20/30\n",
      "50000/50000 [==============================] - 10s - loss: 1.6317 - acc: 0.5248 - val_loss: 1.9073 - val_acc: 0.4313\n",
      "Epoch 21/30\n",
      "50000/50000 [==============================] - 10s - loss: 1.6277 - acc: 0.5256 - val_loss: 1.9041 - val_acc: 0.4299\n",
      "Epoch 22/30\n",
      "50000/50000 [==============================] - 10s - loss: 1.6238 - acc: 0.5267 - val_loss: 1.9073 - val_acc: 0.4322\n",
      "Epoch 23/30\n",
      "50000/50000 [==============================] - 10s - loss: 1.6206 - acc: 0.5275 - val_loss: 1.9035 - val_acc: 0.4358\n",
      "Epoch 24/30\n",
      "50000/50000 [==============================] - 10s - loss: 1.6173 - acc: 0.5282 - val_loss: 1.9162 - val_acc: 0.4299\n",
      "Epoch 25/30\n",
      "50000/50000 [==============================] - 10s - loss: 1.6144 - acc: 0.5290 - val_loss: 1.8995 - val_acc: 0.4357\n",
      "Epoch 26/30\n",
      "50000/50000 [==============================] - 10s - loss: 1.6115 - acc: 0.5301 - val_loss: 1.9053 - val_acc: 0.4336\n",
      "Epoch 27/30\n",
      "50000/50000 [==============================] - 10s - loss: 1.6088 - acc: 0.5305 - val_loss: 1.9092 - val_acc: 0.4321\n",
      "Epoch 28/30\n",
      "50000/50000 [==============================] - 10s - loss: 1.6065 - acc: 0.5317 - val_loss: 1.9193 - val_acc: 0.4309\n",
      "Epoch 29/30\n",
      "50000/50000 [==============================] - 10s - loss: 1.6042 - acc: 0.5320 - val_loss: 1.8927 - val_acc: 0.4354\n",
      "Epoch 30/30\n",
      "50000/50000 [==============================] - 10s - loss: 1.6020 - acc: 0.5324 - val_loss: 1.9001 - val_acc: 0.4367\n"
     ]
    }
   ],
   "source": [
    "history = model.fit(train_input,train_output,validation_data=(test_input, test_output),nb_epoch=30)"
   ]
  },
  {
   "cell_type": "code",
   "execution_count": 33,
   "metadata": {
    "collapsed": true
   },
   "outputs": [],
   "source": [
    "model.save('4c_75.h5')"
   ]
  },
  {
   "cell_type": "code",
   "execution_count": 34,
   "metadata": {
    "collapsed": false
   },
   "outputs": [
    {
     "name": "stdout",
     "output_type": "stream",
     "text": [
      "[2.5337291156005861, 1.9920074191284181, 1.8818299378967285, 1.8254934798431397, 1.7880875572204591, 1.7615047609710692, 1.7406122805023194, 1.7239448622894287, 1.7099668383026123, 1.697891349143982, 1.6876115040206909, 1.6783979215621949, 1.6703107221984863, 1.6630830034637452, 1.6566517535400391, 1.6509420109558106, 1.6456631275939941, 1.6408267258453368, 1.635970746192932, 1.6317422590637207, 1.6277486243438721, 1.6238138372802735, 1.6206087715148927, 1.617287677154541, 1.6143658191680907, 1.6114637408447265, 1.6087951699829102, 1.6065354075622558, 1.6042357068252564, 1.6019527910995484]\n",
      "[2.2842358298492433, 2.1142311824798585, 2.0704527830505373, 2.0680255335998536, 2.0148851673889161, 1.9931305978775025, 1.9770503655242919, 1.9802559478759765, 1.957972276878357, 1.9574069970321655, 1.9419142809295655, 1.9632025036621095, 1.9426060116958619, 1.9272631500244142, 1.9404312062835694, 1.9297245154190064, 1.9111814168548584, 1.9174615954971312, 1.9215238217926025, 1.9073356201553344, 1.9040888945770265, 1.9073067221069335, 1.9035055693817138, 1.9161528202056886, 1.8994598720932008, 1.9053052616119386, 1.9092474651718139, 1.9193378678131103, 1.8927121959686279, 1.9000797046661377]\n"
     ]
    }
   ],
   "source": [
    "print history.history['loss']\n",
    "print history.history['val_loss']"
   ]
  },
  {
   "cell_type": "code",
   "execution_count": 35,
   "metadata": {
    "collapsed": false
   },
   "outputs": [
    {
     "data": {
      "image/png": "[encoded data removed]",
      "text/plain": [
       "<matplotlib.figure.Figure at 0x7f1212c0a150>"
      ]
     },
     "metadata": {},
     "output_type": "display_data"
    }
   ],
   "source": [
    "# summarize history for loss\n",
    "plt.plot(history.history['loss'])\n",
    "plt.plot(history.history['val_loss'])\n",
    "plt.title('model loss')\n",
    "plt.ylabel('loss')\n",
    "plt.xlabel('epoch')\n",
    "plt.legend(['train', 'test'], loc='upper left')\n",
    "plt.show()"
   ]
  },
  {
   "cell_type": "code",
   "execution_count": 36,
   "metadata": {
    "collapsed": false
   },
   "outputs": [
    {
     "name": "stdout",
     "output_type": "stream",
     "text": [
      "Train on 50000 samples, validate on 12500 samples\n",
      "Epoch 1/30\n",
      "50000/50000 [==============================] - 8s - loss: 2.6929 - acc: 0.3071 - val_loss: 2.3587 - val_acc: 0.3211\n",
      "Epoch 2/30\n",
      "50000/50000 [==============================] - 8s - loss: 2.1224 - acc: 0.4210 - val_loss: 2.1983 - val_acc: 0.3623\n",
      "Epoch 3/30\n",
      "50000/50000 [==============================] - 8s - loss: 1.9963 - acc: 0.4439 - val_loss: 2.1285 - val_acc: 0.3756\n",
      "Epoch 4/30\n",
      "50000/50000 [==============================] - 8s - loss: 1.9346 - acc: 0.4545 - val_loss: 2.0911 - val_acc: 0.3857\n",
      "Epoch 5/30\n",
      "50000/50000 [==============================] - 8s - loss: 1.8960 - acc: 0.4627 - val_loss: 2.0597 - val_acc: 0.3916\n",
      "Epoch 6/30\n",
      "50000/50000 [==============================] - 8s - loss: 1.8679 - acc: 0.4688 - val_loss: 2.0295 - val_acc: 0.4000\n",
      "Epoch 7/30\n",
      "50000/50000 [==============================] - 8s - loss: 1.8472 - acc: 0.4731 - val_loss: 2.0335 - val_acc: 0.3970\n",
      "Epoch 8/30\n",
      "50000/50000 [==============================] - 8s - loss: 1.8303 - acc: 0.4768 - val_loss: 2.0130 - val_acc: 0.4036\n",
      "Epoch 9/30\n",
      "50000/50000 [==============================] - 8s - loss: 1.8166 - acc: 0.4800 - val_loss: 2.0226 - val_acc: 0.4006\n",
      "Epoch 10/30\n",
      "50000/50000 [==============================] - 8s - loss: 1.8048 - acc: 0.4830 - val_loss: 1.9955 - val_acc: 0.4077\n",
      "Epoch 11/30\n",
      "50000/50000 [==============================] - 8s - loss: 1.7946 - acc: 0.4851 - val_loss: 1.9965 - val_acc: 0.4054\n",
      "Epoch 12/30\n",
      "50000/50000 [==============================] - 8s - loss: 1.7858 - acc: 0.4870 - val_loss: 1.9841 - val_acc: 0.4103\n",
      "Epoch 13/30\n",
      "50000/50000 [==============================] - 8s - loss: 1.7779 - acc: 0.4891 - val_loss: 1.9804 - val_acc: 0.4110\n",
      "Epoch 14/30\n",
      "50000/50000 [==============================] - 8s - loss: 1.7709 - acc: 0.4907 - val_loss: 1.9891 - val_acc: 0.4096\n",
      "Epoch 15/30\n",
      "50000/50000 [==============================] - 8s - loss: 1.7647 - acc: 0.4919 - val_loss: 1.9644 - val_acc: 0.4164\n",
      "Epoch 16/30\n",
      "50000/50000 [==============================] - 8s - loss: 1.7592 - acc: 0.4931 - val_loss: 1.9670 - val_acc: 0.4168\n",
      "Epoch 17/30\n",
      "50000/50000 [==============================] - 9s - loss: 1.7540 - acc: 0.4944 - val_loss: 1.9697 - val_acc: 0.4170\n",
      "Epoch 18/30\n",
      "50000/50000 [==============================] - 8s - loss: 1.7495 - acc: 0.4955 - val_loss: 1.9623 - val_acc: 0.4157\n",
      "Epoch 19/30\n",
      "50000/50000 [==============================] - 8s - loss: 1.7453 - acc: 0.4965 - val_loss: 1.9622 - val_acc: 0.4198\n",
      "Epoch 20/30\n",
      "50000/50000 [==============================] - 8s - loss: 1.7413 - acc: 0.4974 - val_loss: 1.9687 - val_acc: 0.4160\n",
      "Epoch 21/30\n",
      "50000/50000 [==============================] - 9s - loss: 1.7377 - acc: 0.4980 - val_loss: 1.9573 - val_acc: 0.4184\n",
      "Epoch 22/30\n",
      "50000/50000 [==============================] - 8s - loss: 1.7345 - acc: 0.4987 - val_loss: 1.9706 - val_acc: 0.4151\n",
      "Epoch 23/30\n",
      "50000/50000 [==============================] - 8s - loss: 1.7312 - acc: 0.4993 - val_loss: 1.9555 - val_acc: 0.4214\n",
      "Epoch 24/30\n",
      "50000/50000 [==============================] - 9s - loss: 1.7285 - acc: 0.4997 - val_loss: 1.9680 - val_acc: 0.4182\n",
      "Epoch 25/30\n",
      "50000/50000 [==============================] - 8s - loss: 1.7257 - acc: 0.5004 - val_loss: 1.9593 - val_acc: 0.4193\n",
      "Epoch 26/30\n",
      "50000/50000 [==============================] - 8s - loss: 1.7232 - acc: 0.5009 - val_loss: 1.9549 - val_acc: 0.4196\n",
      "Epoch 27/30\n",
      "50000/50000 [==============================] - 8s - loss: 1.7210 - acc: 0.5015 - val_loss: 1.9730 - val_acc: 0.4160\n",
      "Epoch 28/30\n",
      "50000/50000 [==============================] - 9s - loss: 1.7189 - acc: 0.5019 - val_loss: 1.9582 - val_acc: 0.4187\n",
      "Epoch 29/30\n",
      "50000/50000 [==============================] - 9s - loss: 1.7168 - acc: 0.5023 - val_loss: 1.9427 - val_acc: 0.4203\n",
      "Epoch 30/30\n",
      "50000/50000 [==============================] - 8s - loss: 1.7148 - acc: 0.5029 - val_loss: 1.9460 - val_acc: 0.4209\n"
     ]
    }
   ],
   "source": [
    "numNeuron = 50\n",
    "\n",
    "model = Sequential()\n",
    "model.add(SimpleRNN(numNeuron, input_shape=(24,100), return_sequences=True))\n",
    "model.add(Dense(100, activation=\"softmax\"))\n",
    "model.compile(loss=\"categorical_crossentropy\", optimizer=\"rmsprop\", metrics=[\"acc\"])\n",
    "\n",
    "history = model.fit(train_input,train_output,validation_data=(test_input, test_output),nb_epoch=30)"
   ]
  },
  {
   "cell_type": "code",
   "execution_count": 37,
   "metadata": {
    "collapsed": true
   },
   "outputs": [],
   "source": [
    "model.save('4c_50.h5')"
   ]
  },
  {
   "cell_type": "code",
   "execution_count": 38,
   "metadata": {
    "collapsed": false
   },
   "outputs": [
    {
     "name": "stdout",
     "output_type": "stream",
     "text": [
      "[2.692866258621216, 2.1224302577209473, 1.9962940305328369, 1.934587483177185, 1.8959693424224853, 1.8679028512573241, 1.8472234396362304, 1.8303429159927369, 1.8165659302139283, 1.8048046737289429, 1.7946394117736817, 1.7857504977035523, 1.7778710094451904, 1.7709226922607422, 1.7647038459014892, 1.7591988919830321, 1.7539936166381835, 1.7495039770507812, 1.7452565172576904, 1.7412808839797973, 1.7376516353225708, 1.7344648090362549, 1.7312218950653075, 1.7284703472900391, 1.7257027085113525, 1.7231988962173461, 1.7210485097122192, 1.7188570426177978, 1.7168275463867186, 1.7148263666915893]\n",
      "[2.3586968183898924, 2.1983161824798585, 2.1284989479064942, 2.0911478932189942, 2.0597308969879151, 2.0294797480773927, 2.0334869734191896, 2.0130149785614013, 2.0225961445617675, 1.9955285496520996, 1.9965310423278808, 1.9841415316009521, 1.9803995471954345, 1.989095298538208, 1.9643726500701904, 1.9670082916259766, 1.9697299445343017, 1.9622921289825439, 1.9621510324859619, 1.9686827005767822, 1.9572621780395507, 1.9706255019378662, 1.9555028163909911, 1.9679957431030273, 1.9592846123504639, 1.9549358712387086, 1.9730463784027099, 1.9581751794433593, 1.942678642539978, 1.9460150500869751]\n"
     ]
    }
   ],
   "source": [
    "print history.history['loss']\n",
    "print history.history['val_loss']"
   ]
  },
  {
   "cell_type": "code",
   "execution_count": 39,
   "metadata": {
    "collapsed": false
   },
   "outputs": [
    {
     "data": {
      "image/png": "[encoded data removed]",
      "text/plain": [
       "<matplotlib.figure.Figure at 0x7f11b13573d0>"
      ]
     },
     "metadata": {},
     "output_type": "display_data"
    }
   ],
   "source": [
    "# summarize history for loss\n",
    "plt.plot(history.history['loss'])\n",
    "plt.plot(history.history['val_loss'])\n",
    "plt.title('model loss')\n",
    "plt.ylabel('loss')\n",
    "plt.xlabel('epoch')\n",
    "plt.legend(['train', 'test'], loc='upper left')\n",
    "plt.show()"
   ]
  },
  {
   "cell_type": "code",
   "execution_count": 40,
   "metadata": {
    "collapsed": false
   },
   "outputs": [
    {
     "name": "stdout",
     "output_type": "stream",
     "text": [
      "Train on 50000 samples, validate on 12500 samples\n",
      "Epoch 1/30\n",
      "50000/50000 [==============================] - 8s - loss: 2.3243 - acc: 0.3882 - val_loss: 2.1743 - val_acc: 0.3744\n",
      "Epoch 2/30\n",
      "50000/50000 [==============================] - 9s - loss: 1.8506 - acc: 0.4765 - val_loss: 2.0198 - val_acc: 0.4057\n",
      "Epoch 3/30\n",
      "50000/50000 [==============================] - 9s - loss: 1.7473 - acc: 0.4977 - val_loss: 2.0295 - val_acc: 0.4022\n",
      "Epoch 4/30\n",
      "50000/50000 [==============================] - 9s - loss: 1.6865 - acc: 0.5112 - val_loss: 1.9666 - val_acc: 0.4205\n",
      "Epoch 5/30\n",
      "50000/50000 [==============================] - 9s - loss: 1.6430 - acc: 0.5211 - val_loss: 1.9297 - val_acc: 0.4235\n",
      "Epoch 6/30\n",
      "50000/50000 [==============================] - 8s - loss: 1.6098 - acc: 0.5297 - val_loss: 1.9061 - val_acc: 0.4348\n",
      "Epoch 7/30\n",
      "50000/50000 [==============================] - 9s - loss: 1.5827 - acc: 0.5368 - val_loss: 1.9169 - val_acc: 0.4337\n",
      "Epoch 8/30\n",
      "50000/50000 [==============================] - 9s - loss: 1.5602 - acc: 0.5421 - val_loss: 1.9234 - val_acc: 0.4358\n",
      "Epoch 9/30\n",
      "50000/50000 [==============================] - 9s - loss: 1.5420 - acc: 0.5467 - val_loss: 1.8902 - val_acc: 0.4435\n",
      "Epoch 10/30\n",
      "50000/50000 [==============================] - 10s - loss: 1.5262 - acc: 0.5512 - val_loss: 1.8746 - val_acc: 0.4446\n",
      "Epoch 11/30\n",
      "50000/50000 [==============================] - 10s - loss: 1.5128 - acc: 0.5546 - val_loss: 1.8689 - val_acc: 0.4485\n",
      "Epoch 12/30\n",
      "50000/50000 [==============================] - 9s - loss: 1.5008 - acc: 0.5582 - val_loss: 1.8803 - val_acc: 0.4487\n",
      "Epoch 13/30\n",
      "50000/50000 [==============================] - 9s - loss: 1.4900 - acc: 0.5605 - val_loss: 1.8764 - val_acc: 0.4443\n",
      "Epoch 14/30\n",
      "50000/50000 [==============================] - 9s - loss: 1.4806 - acc: 0.5631 - val_loss: 1.8788 - val_acc: 0.4451\n",
      "Epoch 15/30\n",
      "50000/50000 [==============================] - 9s - loss: 1.4723 - acc: 0.5653 - val_loss: 1.8838 - val_acc: 0.4475\n",
      "Epoch 16/30\n",
      "50000/50000 [==============================] - 9s - loss: 1.4648 - acc: 0.5670 - val_loss: 1.8657 - val_acc: 0.4499\n",
      "Epoch 17/30\n",
      "50000/50000 [==============================] - 10s - loss: 1.4577 - acc: 0.5692 - val_loss: 1.8749 - val_acc: 0.4536\n",
      "Epoch 18/30\n",
      "50000/50000 [==============================] - 9s - loss: 1.4516 - acc: 0.5706 - val_loss: 1.8759 - val_acc: 0.4497\n",
      "Epoch 19/30\n",
      "50000/50000 [==============================] - 10s - loss: 1.4463 - acc: 0.5722 - val_loss: 1.8750 - val_acc: 0.4566\n",
      "Epoch 20/30\n",
      "50000/50000 [==============================] - 9s - loss: 1.4408 - acc: 0.5735 - val_loss: 1.8526 - val_acc: 0.4569\n",
      "Epoch 21/30\n",
      "50000/50000 [==============================] - 9s - loss: 1.4355 - acc: 0.5747 - val_loss: 1.8660 - val_acc: 0.4556\n",
      "Epoch 22/30\n",
      "50000/50000 [==============================] - 9s - loss: 1.4311 - acc: 0.5759 - val_loss: 1.8638 - val_acc: 0.4590\n",
      "Epoch 23/30\n",
      "50000/50000 [==============================] - 9s - loss: 1.4269 - acc: 0.5773 - val_loss: 1.8612 - val_acc: 0.4582\n",
      "Epoch 24/30\n",
      "50000/50000 [==============================] - 10s - loss: 1.4233 - acc: 0.5779 - val_loss: 1.8660 - val_acc: 0.4605\n",
      "Epoch 25/30\n",
      "50000/50000 [==============================] - 10s - loss: 1.4194 - acc: 0.5792 - val_loss: 1.8780 - val_acc: 0.4554\n",
      "Epoch 26/30\n",
      "50000/50000 [==============================] - 10s - loss: 1.4160 - acc: 0.5800 - val_loss: 1.8718 - val_acc: 0.4576\n",
      "Epoch 27/30\n",
      "50000/50000 [==============================] - 9s - loss: 1.4125 - acc: 0.5810 - val_loss: 1.8616 - val_acc: 0.4598\n",
      "Epoch 28/30\n",
      "50000/50000 [==============================] - 9s - loss: 1.4095 - acc: 0.5817 - val_loss: 1.9055 - val_acc: 0.4560\n",
      "Epoch 29/30\n",
      "50000/50000 [==============================] - 10s - loss: 1.4066 - acc: 0.5828 - val_loss: 1.8609 - val_acc: 0.4593\n",
      "Epoch 30/30\n",
      "50000/50000 [==============================] - 10s - loss: 1.4039 - acc: 0.5833 - val_loss: 1.8749 - val_acc: 0.4558\n"
     ]
    }
   ],
   "source": [
    "numNeuron = 150\n",
    "\n",
    "model = Sequential()\n",
    "model.add(SimpleRNN(numNeuron, input_shape=(24,100), return_sequences=True))\n",
    "model.add(Dense(100, activation=\"softmax\"))\n",
    "model.compile(loss=\"categorical_crossentropy\", optimizer=\"rmsprop\", metrics=[\"acc\"])\n",
    "\n",
    "history = model.fit(train_input,train_output,validation_data=(test_input, test_output),nb_epoch=30)"
   ]
  },
  {
   "cell_type": "code",
   "execution_count": 41,
   "metadata": {
    "collapsed": true
   },
   "outputs": [],
   "source": [
    "model.save('4c_150.h5')"
   ]
  },
  {
   "cell_type": "code",
   "execution_count": 42,
   "metadata": {
    "collapsed": false
   },
   "outputs": [
    {
     "name": "stdout",
     "output_type": "stream",
     "text": [
      "[2.3242567094421385, 1.850561091003418, 1.7473277422332765, 1.6864915351867675, 1.6429677549362183, 1.6098010751342773, 1.5827073358917236, 1.5601660179138184, 1.5419749296569825, 1.5261865820693969, 1.5128479153060914, 1.5007741445159912, 1.4900087606048584, 1.4806350006866456, 1.4723326078033447, 1.4648021699523925, 1.4576716118240356, 1.4515676535034179, 1.4463190573883056, 1.4408322275543213, 1.4354980476379395, 1.4310749111175538, 1.426934130783081, 1.4233287494659423, 1.4193575071334839, 1.4159548797607422, 1.4125242726898193, 1.4095141374588012, 1.406568173828125, 1.4039436611175538]\n",
      "[2.1742683876037598, 2.0197911676788332, 2.0294841249084472, 1.9665804497528077, 1.9296636124420166, 1.9061062677001954, 1.9168878618621825, 1.9234491136932372, 1.8902286096954346, 1.8745585442352295, 1.8688566555786132, 1.8802668893814087, 1.8764166265487672, 1.8787503167724608, 1.8838101900863649, 1.865747664756775, 1.8748871160507201, 1.8758959210205077, 1.8749771725463866, 1.8525877745819093, 1.8660251510620116, 1.8637986926269532, 1.8611900780487061, 1.866016664199829, 1.8780167578125, 1.8717795837402345, 1.8616259377288817, 1.9055021181869507, 1.8609171069717407, 1.8749046572494508]\n"
     ]
    }
   ],
   "source": [
    "print history.history['loss']\n",
    "print history.history['val_loss']"
   ]
  },
  {
   "cell_type": "code",
   "execution_count": 43,
   "metadata": {
    "collapsed": false
   },
   "outputs": [
    {
     "data": {
      "image/png": "[encoded data removed]",
      "text/plain": [
       "<matplotlib.figure.Figure at 0x7f11bf5bbdd0>"
      ]
     },
     "metadata": {},
     "output_type": "display_data"
    }
   ],
   "source": [
    "# summarize history for loss\n",
    "plt.plot(history.history['loss'])\n",
    "plt.plot(history.history['val_loss'])\n",
    "plt.title('model loss')\n",
    "plt.ylabel('loss')\n",
    "plt.xlabel('epoch')\n",
    "plt.legend(['train', 'test'], loc='upper left')\n",
    "plt.show()"
   ]
  },
  {
   "cell_type": "markdown",
   "metadata": {},
   "source": [
    "# 4d"
   ]
  },
  {
   "cell_type": "code",
   "execution_count": 44,
   "metadata": {
    "collapsed": true
   },
   "outputs": [],
   "source": [
    "p = .1"
   ]
  },
  {
   "cell_type": "code",
   "execution_count": 45,
   "metadata": {
    "collapsed": false
   },
   "outputs": [],
   "source": [
    "model = Sequential()\n",
    "model.add(SimpleRNN(100, input_shape=(24,100), return_sequences=True))\n",
    "model.add(Dropout(0.1))\n",
    "model.add(Dense(100, activation=\"softmax\"))\n",
    "model.compile(loss=\"categorical_crossentropy\", optimizer=\"rmsprop\", metrics=[\"acc\"])"
   ]
  },
  {
   "cell_type": "code",
   "execution_count": 46,
   "metadata": {
    "collapsed": false
   },
   "outputs": [
    {
     "name": "stdout",
     "output_type": "stream",
     "text": [
      "Train on 50000 samples, validate on 12500 samples\n",
      "Epoch 1/30\n",
      "50000/50000 [==============================] - 9s - loss: 2.4719 - acc: 0.3553 - val_loss: 2.2449 - val_acc: 0.3533\n",
      "Epoch 2/30\n",
      "50000/50000 [==============================] - 9s - loss: 2.0042 - acc: 0.4437 - val_loss: 2.1046 - val_acc: 0.3796\n",
      "Epoch 3/30\n",
      "50000/50000 [==============================] - 9s - loss: 1.9098 - acc: 0.4621 - val_loss: 2.0389 - val_acc: 0.3998\n",
      "Epoch 4/30\n",
      "50000/50000 [==============================] - 9s - loss: 1.8611 - acc: 0.4718 - val_loss: 2.0435 - val_acc: 0.3945\n",
      "Epoch 5/30\n",
      "50000/50000 [==============================] - 9s - loss: 1.8286 - acc: 0.4784 - val_loss: 2.0036 - val_acc: 0.4056\n",
      "Epoch 6/30\n",
      "50000/50000 [==============================] - 9s - loss: 1.8040 - acc: 0.4837 - val_loss: 1.9935 - val_acc: 0.4077\n",
      "Epoch 7/30\n",
      "50000/50000 [==============================] - 9s - loss: 1.7858 - acc: 0.4882 - val_loss: 1.9665 - val_acc: 0.4159\n",
      "Epoch 8/30\n",
      "50000/50000 [==============================] - 9s - loss: 1.7694 - acc: 0.4911 - val_loss: 1.9459 - val_acc: 0.4226\n",
      "Epoch 9/30\n",
      "50000/50000 [==============================] - 9s - loss: 1.7570 - acc: 0.4942 - val_loss: 1.9458 - val_acc: 0.4208\n",
      "Epoch 10/30\n",
      "50000/50000 [==============================] - 9s - loss: 1.7448 - acc: 0.4970 - val_loss: 1.9353 - val_acc: 0.4206\n",
      "Epoch 11/30\n",
      "50000/50000 [==============================] - 9s - loss: 1.7353 - acc: 0.4996 - val_loss: 1.9436 - val_acc: 0.4234\n",
      "Epoch 12/30\n",
      "50000/50000 [==============================] - 9s - loss: 1.7274 - acc: 0.5014 - val_loss: 1.9335 - val_acc: 0.4233\n",
      "Epoch 13/30\n",
      "50000/50000 [==============================] - 9s - loss: 1.7199 - acc: 0.5035 - val_loss: 1.9399 - val_acc: 0.4231\n",
      "Epoch 14/30\n",
      "50000/50000 [==============================] - 9s - loss: 1.7127 - acc: 0.5054 - val_loss: 1.9125 - val_acc: 0.4289\n",
      "Epoch 15/30\n",
      "50000/50000 [==============================] - 9s - loss: 1.7069 - acc: 0.5066 - val_loss: 1.9170 - val_acc: 0.4262\n",
      "Epoch 16/30\n",
      "50000/50000 [==============================] - 9s - loss: 1.7017 - acc: 0.5082 - val_loss: 1.9060 - val_acc: 0.4315\n",
      "Epoch 17/30\n",
      "50000/50000 [==============================] - 9s - loss: 1.6966 - acc: 0.5092 - val_loss: 1.9160 - val_acc: 0.4297\n",
      "Epoch 18/30\n",
      "50000/50000 [==============================] - 9s - loss: 1.6921 - acc: 0.5100 - val_loss: 1.9203 - val_acc: 0.4299\n",
      "Epoch 19/30\n",
      "50000/50000 [==============================] - 9s - loss: 1.6879 - acc: 0.5115 - val_loss: 1.9113 - val_acc: 0.4311\n",
      "Epoch 20/30\n",
      "50000/50000 [==============================] - 9s - loss: 1.6839 - acc: 0.5125 - val_loss: 1.8936 - val_acc: 0.4345\n",
      "Epoch 21/30\n",
      "50000/50000 [==============================] - 9s - loss: 1.6799 - acc: 0.5134 - val_loss: 1.9178 - val_acc: 0.4301\n",
      "Epoch 22/30\n",
      "50000/50000 [==============================] - 9s - loss: 1.6770 - acc: 0.5143 - val_loss: 1.8935 - val_acc: 0.4333\n",
      "Epoch 23/30\n",
      "50000/50000 [==============================] - 9s - loss: 1.6746 - acc: 0.5147 - val_loss: 1.9059 - val_acc: 0.4331\n",
      "Epoch 24/30\n",
      "50000/50000 [==============================] - 9s - loss: 1.6709 - acc: 0.5157 - val_loss: 1.9054 - val_acc: 0.4343\n",
      "Epoch 25/30\n",
      "50000/50000 [==============================] - 9s - loss: 1.6681 - acc: 0.5163 - val_loss: 1.8867 - val_acc: 0.4372\n",
      "Epoch 26/30\n",
      "50000/50000 [==============================] - 9s - loss: 1.6654 - acc: 0.5172 - val_loss: 1.8982 - val_acc: 0.4347\n",
      "Epoch 27/30\n",
      "50000/50000 [==============================] - 9s - loss: 1.6629 - acc: 0.5176 - val_loss: 1.8816 - val_acc: 0.4376\n",
      "Epoch 28/30\n",
      "50000/50000 [==============================] - 9s - loss: 1.6612 - acc: 0.5180 - val_loss: 1.8858 - val_acc: 0.4368\n",
      "Epoch 29/30\n",
      "50000/50000 [==============================] - 9s - loss: 1.6588 - acc: 0.5188 - val_loss: 1.8886 - val_acc: 0.4365\n",
      "Epoch 30/30\n",
      "50000/50000 [==============================] - 9s - loss: 1.6565 - acc: 0.5193 - val_loss: 1.8924 - val_acc: 0.4352\n"
     ]
    }
   ],
   "source": [
    "history = model.fit(train_input,train_output,validation_data=(test_input, test_output), nb_epoch=30)"
   ]
  },
  {
   "cell_type": "code",
   "execution_count": 47,
   "metadata": {
    "collapsed": true
   },
   "outputs": [],
   "source": [
    "model.save('4d_0_1.h5')"
   ]
  },
  {
   "cell_type": "code",
   "execution_count": 48,
   "metadata": {
    "collapsed": false
   },
   "outputs": [
    {
     "name": "stdout",
     "output_type": "stream",
     "text": [
      "[2.4719042483520508, 2.0042447662353515, 1.9097572045898437, 1.8610729291534425, 1.8285601407623291, 1.8040412213516235, 1.7858187355804442, 1.7694232740783691, 1.7570199067687988, 1.74477005569458, 1.7353186615371705, 1.7274128186798097, 1.7198845192337036, 1.712741621246338, 1.7068510281753539, 1.7017434066009522, 1.6965894187164308, 1.6921050851440429, 1.6878578474044801, 1.6839484439849854, 1.679940779914856, 1.6770497835159301, 1.6745790743255615, 1.670886821937561, 1.6680556163024902, 1.6654485105133057, 1.6629158979034424, 1.6611597341918944, 1.6587649689102173, 1.656528591003418]\n",
      "[2.244919509124756, 2.1046338127136233, 2.0388735634613036, 2.0435231687927247, 2.0036175379180907, 1.9934714390563966, 1.9664724822998048, 1.9459318979644775, 1.9458129779815674, 1.9352993561172485, 1.9435896050262451, 1.9334549819183349, 1.9398839876556397, 1.912518035545349, 1.9169747158432007, 1.9059812832641601, 1.9159525381469726, 1.9202643085098268, 1.9113067894744873, 1.893605873336792, 1.9178239446258545, 1.8934714746475221, 1.9058728244018555, 1.9053742040634156, 1.8866921517181396, 1.8981737054061889, 1.881561591720581, 1.885838842086792, 1.8885653968048095, 1.8923998642730713]\n"
     ]
    }
   ],
   "source": [
    "print history.history['loss']\n",
    "print history.history['val_loss']"
   ]
  },
  {
   "cell_type": "code",
   "execution_count": 49,
   "metadata": {
    "collapsed": false
   },
   "outputs": [
    {
     "data": {
      "image/png": "[encoded data removed]",
      "text/plain": [
       "<matplotlib.figure.Figure at 0x7f11b1ea8610>"
      ]
     },
     "metadata": {},
     "output_type": "display_data"
    }
   ],
   "source": [
    "# summarize history for loss\n",
    "plt.plot(history.history['loss'])\n",
    "plt.plot(history.history['val_loss'])\n",
    "plt.title('model loss')\n",
    "plt.ylabel('loss')\n",
    "plt.xlabel('epoch')\n",
    "plt.legend(['train', 'test'], loc='upper left')\n",
    "plt.show()"
   ]
  },
  {
   "cell_type": "code",
   "execution_count": 50,
   "metadata": {
    "collapsed": false
   },
   "outputs": [
    {
     "name": "stdout",
     "output_type": "stream",
     "text": [
      "Train on 50000 samples, validate on 12500 samples\n",
      "Epoch 1/30\n",
      "50000/50000 [==============================] - 9s - loss: 2.5156 - acc: 0.3464 - val_loss: 2.2820 - val_acc: 0.3485\n",
      "Epoch 2/30\n",
      "50000/50000 [==============================] - 9s - loss: 2.0725 - acc: 0.4311 - val_loss: 2.1720 - val_acc: 0.3698\n",
      "Epoch 3/30\n",
      "50000/50000 [==============================] - 9s - loss: 1.9842 - acc: 0.4475 - val_loss: 2.0862 - val_acc: 0.3851\n",
      "Epoch 4/30\n",
      "50000/50000 [==============================] - 9s - loss: 1.9352 - acc: 0.4571 - val_loss: 2.0468 - val_acc: 0.3970\n",
      "Epoch 5/30\n",
      "50000/50000 [==============================] - 9s - loss: 1.9027 - acc: 0.4642 - val_loss: 2.0606 - val_acc: 0.3929\n",
      "Epoch 6/30\n",
      "50000/50000 [==============================] - 9s - loss: 1.8788 - acc: 0.4693 - val_loss: 2.0351 - val_acc: 0.4022\n",
      "Epoch 7/30\n",
      "50000/50000 [==============================] - 9s - loss: 1.8599 - acc: 0.4729 - val_loss: 2.0082 - val_acc: 0.4038\n",
      "Epoch 8/30\n",
      "50000/50000 [==============================] - 9s - loss: 1.8441 - acc: 0.4772 - val_loss: 1.9988 - val_acc: 0.4071\n",
      "Epoch 9/30\n",
      "50000/50000 [==============================] - 9s - loss: 1.8320 - acc: 0.4792 - val_loss: 1.9895 - val_acc: 0.4140\n",
      "Epoch 10/30\n",
      "50000/50000 [==============================] - 9s - loss: 1.8201 - acc: 0.4823 - val_loss: 1.9859 - val_acc: 0.4161\n",
      "Epoch 11/30\n",
      "50000/50000 [==============================] - 9s - loss: 1.8119 - acc: 0.4839 - val_loss: 1.9901 - val_acc: 0.4127\n",
      "Epoch 12/30\n",
      "50000/50000 [==============================] - 9s - loss: 1.8028 - acc: 0.4858 - val_loss: 1.9743 - val_acc: 0.4171\n",
      "Epoch 13/30\n",
      "50000/50000 [==============================] - 9s - loss: 1.7955 - acc: 0.4877 - val_loss: 1.9777 - val_acc: 0.4140\n",
      "Epoch 14/30\n",
      "50000/50000 [==============================] - 9s - loss: 1.7889 - acc: 0.4896 - val_loss: 1.9572 - val_acc: 0.4203\n",
      "Epoch 15/30\n",
      "50000/50000 [==============================] - 9s - loss: 1.7827 - acc: 0.4911 - val_loss: 1.9549 - val_acc: 0.4190\n",
      "Epoch 16/30\n",
      "50000/50000 [==============================] - 9s - loss: 1.7770 - acc: 0.4924 - val_loss: 1.9539 - val_acc: 0.4235\n",
      "Epoch 17/30\n",
      "50000/50000 [==============================] - 9s - loss: 1.7725 - acc: 0.4933 - val_loss: 1.9502 - val_acc: 0.4209\n",
      "Epoch 18/30\n",
      "50000/50000 [==============================] - 9s - loss: 1.7683 - acc: 0.4946 - val_loss: 1.9635 - val_acc: 0.4236\n",
      "Epoch 19/30\n",
      "50000/50000 [==============================] - 9s - loss: 1.7632 - acc: 0.4957 - val_loss: 1.9492 - val_acc: 0.4264\n",
      "Epoch 20/30\n",
      "50000/50000 [==============================] - 9s - loss: 1.7595 - acc: 0.4962 - val_loss: 1.9432 - val_acc: 0.4272\n",
      "Epoch 21/30\n",
      "50000/50000 [==============================] - 9s - loss: 1.7554 - acc: 0.4972 - val_loss: 1.9430 - val_acc: 0.4257\n",
      "Epoch 22/30\n",
      "50000/50000 [==============================] - 9s - loss: 1.7523 - acc: 0.4981 - val_loss: 1.9492 - val_acc: 0.4238\n",
      "Epoch 23/30\n",
      "50000/50000 [==============================] - 9s - loss: 1.7491 - acc: 0.4990 - val_loss: 1.9460 - val_acc: 0.4249\n",
      "Epoch 24/30\n",
      "50000/50000 [==============================] - 9s - loss: 1.7448 - acc: 0.5001 - val_loss: 1.9405 - val_acc: 0.4290\n",
      "Epoch 25/30\n",
      "50000/50000 [==============================] - 9s - loss: 1.7423 - acc: 0.5005 - val_loss: 1.9376 - val_acc: 0.4269\n",
      "Epoch 26/30\n",
      "50000/50000 [==============================] - 9s - loss: 1.7402 - acc: 0.5011 - val_loss: 1.9440 - val_acc: 0.4229\n",
      "Epoch 27/30\n",
      "50000/50000 [==============================] - 9s - loss: 1.7381 - acc: 0.5019 - val_loss: 1.9347 - val_acc: 0.4271\n",
      "Epoch 28/30\n",
      "50000/50000 [==============================] - 9s - loss: 1.7356 - acc: 0.5025 - val_loss: 1.9386 - val_acc: 0.4257\n",
      "Epoch 29/30\n",
      "50000/50000 [==============================] - 9s - loss: 1.7335 - acc: 0.5027 - val_loss: 1.9293 - val_acc: 0.4316\n",
      "Epoch 30/30\n",
      "50000/50000 [==============================] - 9s - loss: 1.7310 - acc: 0.5033 - val_loss: 1.9111 - val_acc: 0.4350\n"
     ]
    }
   ],
   "source": [
    "p = .2\n",
    "\n",
    "model = Sequential()\n",
    "model.add(SimpleRNN(100, input_shape=(24,100), return_sequences=True))\n",
    "model.add(Dropout(0.2))\n",
    "model.add(Dense(100, activation=\"softmax\"))\n",
    "model.compile(loss=\"categorical_crossentropy\", optimizer=\"rmsprop\", metrics=[\"acc\"])\n",
    "\n",
    "history = model.fit(train_input,train_output,validation_data=(test_input, test_output),nb_epoch=30)"
   ]
  },
  {
   "cell_type": "code",
   "execution_count": 51,
   "metadata": {
    "collapsed": true
   },
   "outputs": [],
   "source": [
    "model.save('4d_0_2.h5')"
   ]
  },
  {
   "cell_type": "code",
   "execution_count": 52,
   "metadata": {
    "collapsed": false
   },
   "outputs": [
    {
     "name": "stdout",
     "output_type": "stream",
     "text": [
      "[2.5155720493316651, 2.0725492605590818, 1.9841576667785645, 1.9352059326934814, 1.902651072921753, 1.8788486714935302, 1.8599208833312988, 1.8440819224548339, 1.832017935180664, 1.8200732057952882, 1.811876660232544, 1.8028257122421265, 1.7954919776153564, 1.7889101404571532, 1.7827185360336304, 1.7770372661590577, 1.7725095860290527, 1.7682655198287964, 1.7632037955856323, 1.7595427111816406, 1.7554170596313476, 1.7522931936645507, 1.7491225466918945, 1.7448190642547607, 1.7423064280700684, 1.7402399301147462, 1.7380798002624511, 1.7356177598953246, 1.7334801472473145, 1.7309635577392579]\n",
      "[2.2820095488739014, 2.1720232675170896, 2.0862319264221192, 2.0467940426635742, 2.0605674117279054, 2.0350768305206297, 2.0082151689147949, 1.9987559990692139, 1.9894979981231689, 1.9858602075958252, 1.9900766188812256, 1.9743345519256592, 1.9777351861953736, 1.9571811392974854, 1.9549254422378539, 1.9539188696670533, 1.9501698764419555, 1.9635031540679933, 1.9492461901092528, 1.9431879601287843, 1.9430052212142945, 1.9491913869857789, 1.9459964525604247, 1.9404639430999755, 1.9375849118041992, 1.9440285937118531, 1.9346669121551514, 1.9385667470550536, 1.929330524673462, 1.9111485869598388]\n"
     ]
    }
   ],
   "source": [
    "print history.history['loss']\n",
    "print history.history['val_loss']"
   ]
  },
  {
   "cell_type": "code",
   "execution_count": 53,
   "metadata": {
    "collapsed": false
   },
   "outputs": [
    {
     "data": {
      "image/png": "[encoded data removed]",
      "text/plain": [
       "<matplotlib.figure.Figure at 0x7f11bf649e50>"
      ]
     },
     "metadata": {},
     "output_type": "display_data"
    }
   ],
   "source": [
    "# summarize history for loss\n",
    "plt.plot(history.history['loss'])\n",
    "plt.plot(history.history['val_loss'])\n",
    "plt.title('model loss')\n",
    "plt.ylabel('loss')\n",
    "plt.xlabel('epoch')\n",
    "plt.legend(['train', 'test'], loc='upper left')\n",
    "plt.show()"
   ]
  },
  {
   "cell_type": "code",
   "execution_count": 54,
   "metadata": {
    "collapsed": false
   },
   "outputs": [
    {
     "name": "stdout",
     "output_type": "stream",
     "text": [
      "Train on 50000 samples, validate on 12500 samples\n",
      "Epoch 1/30\n",
      "50000/50000 [==============================] - 9s - loss: 2.5531 - acc: 0.3388 - val_loss: 2.2968 - val_acc: 0.3406\n",
      "Epoch 2/30\n",
      "50000/50000 [==============================] - 9s - loss: 2.1301 - acc: 0.4206 - val_loss: 2.1655 - val_acc: 0.3725\n",
      "Epoch 3/30\n",
      "50000/50000 [==============================] - 9s - loss: 2.0477 - acc: 0.4360 - val_loss: 2.1141 - val_acc: 0.3771\n",
      "Epoch 4/30\n",
      "50000/50000 [==============================] - 9s - loss: 1.9993 - acc: 0.4456 - val_loss: 2.0869 - val_acc: 0.3888\n",
      "Epoch 5/30\n",
      "50000/50000 [==============================] - 9s - loss: 1.9653 - acc: 0.4517 - val_loss: 2.0849 - val_acc: 0.3905\n",
      "Epoch 6/30\n",
      "50000/50000 [==============================] - 9s - loss: 1.9405 - acc: 0.4574 - val_loss: 2.0539 - val_acc: 0.3975\n",
      "Epoch 7/30\n",
      "50000/50000 [==============================] - 9s - loss: 1.9217 - acc: 0.4615 - val_loss: 2.0607 - val_acc: 0.3903\n",
      "Epoch 8/30\n",
      "50000/50000 [==============================] - 9s - loss: 1.9062 - acc: 0.4645 - val_loss: 2.0217 - val_acc: 0.4047\n",
      "Epoch 9/30\n",
      "50000/50000 [==============================] - 9s - loss: 1.8921 - acc: 0.4676 - val_loss: 2.0328 - val_acc: 0.4010\n",
      "Epoch 10/30\n",
      "50000/50000 [==============================] - 9s - loss: 1.8806 - acc: 0.4700 - val_loss: 2.0033 - val_acc: 0.4061\n",
      "Epoch 11/30\n",
      "50000/50000 [==============================] - 9s - loss: 1.8707 - acc: 0.4724 - val_loss: 2.0065 - val_acc: 0.4097\n",
      "Epoch 12/30\n",
      "50000/50000 [==============================] - 9s - loss: 1.8614 - acc: 0.4744 - val_loss: 2.0024 - val_acc: 0.4083\n",
      "Epoch 13/30\n",
      "50000/50000 [==============================] - 9s - loss: 1.8537 - acc: 0.4760 - val_loss: 1.9863 - val_acc: 0.4149\n",
      "Epoch 14/30\n",
      "50000/50000 [==============================] - 9s - loss: 1.8466 - acc: 0.4775 - val_loss: 1.9859 - val_acc: 0.4141\n",
      "Epoch 15/30\n",
      "50000/50000 [==============================] - 9s - loss: 1.8398 - acc: 0.4792 - val_loss: 2.0094 - val_acc: 0.4124\n",
      "Epoch 16/30\n",
      "50000/50000 [==============================] - 9s - loss: 1.8348 - acc: 0.4807 - val_loss: 1.9965 - val_acc: 0.4122\n",
      "Epoch 17/30\n",
      "50000/50000 [==============================] - 9s - loss: 1.8290 - acc: 0.4821 - val_loss: 1.9790 - val_acc: 0.4173\n",
      "Epoch 18/30\n",
      "50000/50000 [==============================] - 9s - loss: 1.8239 - acc: 0.4825 - val_loss: 1.9638 - val_acc: 0.4224\n",
      "Epoch 19/30\n",
      "50000/50000 [==============================] - 9s - loss: 1.8186 - acc: 0.4838 - val_loss: 2.0040 - val_acc: 0.4113\n",
      "Epoch 20/30\n",
      "50000/50000 [==============================] - 9s - loss: 1.8150 - acc: 0.4852 - val_loss: 1.9763 - val_acc: 0.4147\n",
      "Epoch 21/30\n",
      "50000/50000 [==============================] - 9s - loss: 1.8116 - acc: 0.4859 - val_loss: 1.9727 - val_acc: 0.4199\n",
      "Epoch 22/30\n",
      "50000/50000 [==============================] - 9s - loss: 1.8088 - acc: 0.4868 - val_loss: 1.9702 - val_acc: 0.4179\n",
      "Epoch 23/30\n",
      "50000/50000 [==============================] - 9s - loss: 1.8045 - acc: 0.4877 - val_loss: 1.9921 - val_acc: 0.4148\n",
      "Epoch 24/30\n",
      "50000/50000 [==============================] - 9s - loss: 1.8011 - acc: 0.4884 - val_loss: 1.9649 - val_acc: 0.4198\n",
      "Epoch 25/30\n",
      "50000/50000 [==============================] - 9s - loss: 1.7983 - acc: 0.4887 - val_loss: 1.9846 - val_acc: 0.4157\n",
      "Epoch 26/30\n",
      "50000/50000 [==============================] - 9s - loss: 1.7952 - acc: 0.4896 - val_loss: 1.9861 - val_acc: 0.4136\n",
      "Epoch 27/30\n",
      "50000/50000 [==============================] - 9s - loss: 1.7937 - acc: 0.4899 - val_loss: 1.9717 - val_acc: 0.4187\n",
      "Epoch 28/30\n",
      "50000/50000 [==============================] - 9s - loss: 1.7910 - acc: 0.4909 - val_loss: 1.9642 - val_acc: 0.4174\n",
      "Epoch 29/30\n",
      "50000/50000 [==============================] - 9s - loss: 1.7885 - acc: 0.4914 - val_loss: 1.9565 - val_acc: 0.4216\n",
      "Epoch 30/30\n",
      "50000/50000 [==============================] - 9s - loss: 1.7860 - acc: 0.4916 - val_loss: 1.9730 - val_acc: 0.4159\n"
     ]
    }
   ],
   "source": [
    "p = .3\n",
    "\n",
    "model = Sequential()\n",
    "model.add(SimpleRNN(100, input_shape=(24,100), return_sequences=True))\n",
    "model.add(Dropout(0.3))\n",
    "model.add(Dense(100, activation=\"softmax\"))\n",
    "model.compile(loss=\"categorical_crossentropy\", optimizer=\"rmsprop\", metrics=[\"acc\"])\n",
    "\n",
    "history = model.fit(train_input,train_output,validation_data=(test_input, test_output),nb_epoch=30)"
   ]
  },
  {
   "cell_type": "code",
   "execution_count": 55,
   "metadata": {
    "collapsed": true
   },
   "outputs": [],
   "source": [
    "model.save('4d_0_3.h5')"
   ]
  },
  {
   "cell_type": "code",
   "execution_count": 56,
   "metadata": {
    "collapsed": false
   },
   "outputs": [
    {
     "name": "stdout",
     "output_type": "stream",
     "text": [
      "[2.5530549056243896, 2.1301197018432618, 2.0477447930908204, 1.9992875140380859, 1.9652632260131835, 1.9404998320770264, 1.9216606451416016, 1.9061706146621704, 1.892057345352173, 1.8806488451385499, 1.8706528646087646, 1.8613636842346191, 1.8536767236328124, 1.8466017017364502, 1.8398475894165038, 1.8347751917266846, 1.8290291509246825, 1.8238601417541505, 1.8186497143554687, 1.8150107753753661, 1.811599228515625, 1.808801030883789, 1.8045130516815187, 1.8010527106475831, 1.7982506441497803, 1.7952137673568727, 1.7937460409545898, 1.7909809577178954, 1.7884796278762818, 1.786046654663086]\n",
      "[2.2967500739288331, 2.1654733531188963, 2.1141079933166504, 2.086948651046753, 2.0849466758728026, 2.0538714714813233, 2.0607439018249512, 2.0217020117187499, 2.0327755015563964, 2.0032890869140627, 2.0064910462951659, 2.0023520291137697, 1.9863115642929077, 1.9858661691284181, 2.0093560047912598, 1.9964586222076417, 1.979014009437561, 1.9638120837402344, 2.0039712221908568, 1.9762660271453858, 1.9727365707015991, 1.9702214172363282, 1.9920529084014893, 1.9648662818145752, 1.9846131580352784, 1.9860982897186279, 1.9716691744232178, 1.9642133319473267, 1.9565123921966552, 1.9730128372955322]\n"
     ]
    }
   ],
   "source": [
    "print history.history['loss']\n",
    "print history.history['val_loss']"
   ]
  },
  {
   "cell_type": "code",
   "execution_count": 57,
   "metadata": {
    "collapsed": false
   },
   "outputs": [
    {
     "data": {
      "image/png": "[encoded data removed]",
      "text/plain": [
       "<matplotlib.figure.Figure at 0x7f11c7050910>"
      ]
     },
     "metadata": {},
     "output_type": "display_data"
    }
   ],
   "source": [
    "# summarize history for loss\n",
    "plt.plot(history.history['loss'])\n",
    "plt.plot(history.history['val_loss'])\n",
    "plt.title('model loss')\n",
    "plt.ylabel('loss')\n",
    "plt.xlabel('epoch')\n",
    "plt.legend(['train', 'test'], loc='upper left')\n",
    "plt.show()"
   ]
  },
  {
   "cell_type": "markdown",
   "metadata": {},
   "source": [
    "# 4e"
   ]
  },
  {
   "cell_type": "code",
   "execution_count": 58,
   "metadata": {
    "collapsed": false
   },
   "outputs": [
    {
     "name": "stdout",
     "output_type": "stream",
     "text": [
      "Train on 50000 samples, validate on 12500 samples\n",
      "Epoch 1/30\n",
      "50000/50000 [==============================] - 8s - loss: 2.5338 - acc: 0.3475 - val_loss: 2.3973 - val_acc: 0.3290\n",
      "Epoch 2/30\n",
      "50000/50000 [==============================] - 8s - loss: 2.1557 - acc: 0.4210 - val_loss: 2.2857 - val_acc: 0.3486\n",
      "Epoch 3/30\n",
      "50000/50000 [==============================] - 8s - loss: 2.0583 - acc: 0.4380 - val_loss: 2.2164 - val_acc: 0.3627\n",
      "Epoch 4/30\n",
      "50000/50000 [==============================] - 8s - loss: 2.0024 - acc: 0.4480 - val_loss: 2.1812 - val_acc: 0.3677\n",
      "Epoch 5/30\n",
      "50000/50000 [==============================] - 8s - loss: 1.9648 - acc: 0.4543 - val_loss: 2.1466 - val_acc: 0.3758\n",
      "Epoch 6/30\n",
      "50000/50000 [==============================] - 8s - loss: 1.9368 - acc: 0.4596 - val_loss: 2.1312 - val_acc: 0.3768\n",
      "Epoch 7/30\n",
      "50000/50000 [==============================] - 8s - loss: 1.9148 - acc: 0.4638 - val_loss: 2.1122 - val_acc: 0.3811\n",
      "Epoch 8/30\n",
      "50000/50000 [==============================] - 8s - loss: 1.8970 - acc: 0.4680 - val_loss: 2.0937 - val_acc: 0.3855\n",
      "Epoch 9/30\n",
      "50000/50000 [==============================] - 8s - loss: 1.8819 - acc: 0.4711 - val_loss: 2.0865 - val_acc: 0.3870\n",
      "Epoch 10/30\n",
      "50000/50000 [==============================] - 8s - loss: 1.8692 - acc: 0.4738 - val_loss: 2.0718 - val_acc: 0.3898\n",
      "Epoch 11/30\n",
      "50000/50000 [==============================] - 8s - loss: 1.8579 - acc: 0.4760 - val_loss: 2.0619 - val_acc: 0.3923\n",
      "Epoch 12/30\n",
      "50000/50000 [==============================] - 8s - loss: 1.8478 - acc: 0.4781 - val_loss: 2.0603 - val_acc: 0.3923\n",
      "Epoch 13/30\n",
      "50000/50000 [==============================] - 8s - loss: 1.8390 - acc: 0.4799 - val_loss: 2.0513 - val_acc: 0.3950\n",
      "Epoch 14/30\n",
      "50000/50000 [==============================] - 8s - loss: 1.8308 - acc: 0.4817 - val_loss: 2.0512 - val_acc: 0.3952\n",
      "Epoch 15/30\n",
      "50000/50000 [==============================] - 8s - loss: 1.8235 - acc: 0.4834 - val_loss: 2.0415 - val_acc: 0.3969\n",
      "Epoch 16/30\n",
      "50000/50000 [==============================] - 8s - loss: 1.8167 - acc: 0.4846 - val_loss: 2.0359 - val_acc: 0.3988\n",
      "Epoch 17/30\n",
      "50000/50000 [==============================] - 8s - loss: 1.8104 - acc: 0.4859 - val_loss: 2.0313 - val_acc: 0.3993\n",
      "Epoch 18/30\n",
      "50000/50000 [==============================] - 8s - loss: 1.8045 - acc: 0.4871 - val_loss: 2.0250 - val_acc: 0.4010\n",
      "Epoch 19/30\n",
      "50000/50000 [==============================] - 8s - loss: 1.7991 - acc: 0.4881 - val_loss: 2.0253 - val_acc: 0.4012\n",
      "Epoch 20/30\n",
      "50000/50000 [==============================] - 8s - loss: 1.7941 - acc: 0.4891 - val_loss: 2.0189 - val_acc: 0.4022\n",
      "Epoch 21/30\n",
      "50000/50000 [==============================] - 8s - loss: 1.7892 - acc: 0.4900 - val_loss: 2.0221 - val_acc: 0.4017\n",
      "Epoch 22/30\n",
      "50000/50000 [==============================] - 9s - loss: 1.7848 - acc: 0.4910 - val_loss: 2.0200 - val_acc: 0.4027\n",
      "Epoch 23/30\n",
      "50000/50000 [==============================] - 8s - loss: 1.7805 - acc: 0.4918 - val_loss: 2.0141 - val_acc: 0.4038\n",
      "Epoch 24/30\n",
      "50000/50000 [==============================] - 8s - loss: 1.7765 - acc: 0.4926 - val_loss: 2.0107 - val_acc: 0.4051\n",
      "Epoch 25/30\n",
      "50000/50000 [==============================] - 8s - loss: 1.7727 - acc: 0.4933 - val_loss: 2.0043 - val_acc: 0.4057\n",
      "Epoch 26/30\n",
      "50000/50000 [==============================] - 8s - loss: 1.7690 - acc: 0.4943 - val_loss: 2.0045 - val_acc: 0.4059\n",
      "Epoch 27/30\n",
      "50000/50000 [==============================] - 8s - loss: 1.7656 - acc: 0.4949 - val_loss: 2.0028 - val_acc: 0.4071\n",
      "Epoch 28/30\n",
      "50000/50000 [==============================] - 8s - loss: 1.7623 - acc: 0.4956 - val_loss: 2.0066 - val_acc: 0.4064\n",
      "Epoch 29/30\n",
      "50000/50000 [==============================] - 8s - loss: 1.7591 - acc: 0.4963 - val_loss: 1.9940 - val_acc: 0.4081\n",
      "Epoch 30/30\n",
      "50000/50000 [==============================] - 9s - loss: 1.7561 - acc: 0.4970 - val_loss: 2.0005 - val_acc: 0.4080\n"
     ]
    }
   ],
   "source": [
    "model = Sequential()\n",
    "model.add(SimpleRNN(100, input_shape=(24,100), return_sequences=True))\n",
    "model.add(Dense(100, activation=\"softmax\"))\n",
    "model.compile(loss=\"categorical_crossentropy\", optimizer=\"adagrad\", metrics=[\"acc\"])\n",
    "\n",
    "history = model.fit(train_input,train_output,validation_data=(test_input, test_output),nb_epoch=30)"
   ]
  },
  {
   "cell_type": "code",
   "execution_count": 59,
   "metadata": {
    "collapsed": true
   },
   "outputs": [],
   "source": [
    "model.save('4e.h5')"
   ]
  },
  {
   "cell_type": "code",
   "execution_count": 60,
   "metadata": {
    "collapsed": false
   },
   "outputs": [
    {
     "name": "stdout",
     "output_type": "stream",
     "text": [
      "[2.5337940065002442, 2.155709958114624, 2.0582822215652468, 2.0024429526519776, 1.9647823093414307, 1.9367511779785156, 1.9148006875610351, 1.896993057937622, 1.8819493753433227, 1.8691519863128663, 1.857853578567505, 1.8478453977203368, 1.8389583922958375, 1.8308213062667846, 1.8234641849517823, 1.816659273300171, 1.8103573696899413, 1.8045237433624268, 1.7990862018203735, 1.7940524709320069, 1.7892439421844482, 1.7847966758728027, 1.7805116072845459, 1.7765105805206298, 1.7726714518737794, 1.7690490121459961, 1.7656046115875244, 1.7623287453842162, 1.7591496734619141, 1.756101514892578]\n",
      "[2.3972908250427247, 2.2857157399749757, 2.2163855484008788, 2.1811751325225832, 2.1466083489990235, 2.131162999420166, 2.1121833469390867, 2.0937261372375486, 2.0864675105285646, 2.0718170317077638, 2.0618502857208254, 2.0602923552703856, 2.0513274976348876, 2.0512490202331541, 2.0414548780822752, 2.0359139273834228, 2.0313163960266114, 2.0250186158752443, 2.0252806970214845, 2.0188662307739258, 2.0220841077423097, 2.0200472656250001, 2.0141102968597413, 2.0107358424377439, 2.0042817655944822, 2.0044767465209961, 2.00278150100708, 2.0065621076965332, 1.9940243441009522, 2.0004622744750975]\n"
     ]
    }
   ],
   "source": [
    "print history.history['loss']\n",
    "print history.history['val_loss']"
   ]
  },
  {
   "cell_type": "code",
   "execution_count": 61,
   "metadata": {
    "collapsed": false
   },
   "outputs": [
    {
     "data": {
      "image/png": "[encoded data removed]",
      "text/plain": [
       "<matplotlib.figure.Figure at 0x7f11b2cba810>"
      ]
     },
     "metadata": {},
     "output_type": "display_data"
    }
   ],
   "source": [
    "# summarize history for loss\n",
    "plt.plot(history.history['loss'])\n",
    "plt.plot(history.history['val_loss'])\n",
    "plt.title('model loss')\n",
    "plt.ylabel('loss')\n",
    "plt.xlabel('epoch')\n",
    "plt.legend(['train', 'test'], loc='upper left')\n",
    "plt.show()"
   ]
  },
  {
   "cell_type": "markdown",
   "metadata": {},
   "source": [
    "# 4f"
   ]
  },
  {
   "cell_type": "code",
   "execution_count": null,
   "metadata": {
    "collapsed": true
   },
   "outputs": [],
   "source": []
  },
  {
   "cell_type": "code",
   "execution_count": null,
   "metadata": {
    "collapsed": true
   },
   "outputs": [],
   "source": []
  },
  {
   "cell_type": "code",
   "execution_count": null,
   "metadata": {
    "collapsed": true
   },
   "outputs": [],
   "source": []
  },
  {
   "cell_type": "code",
   "execution_count": null,
   "metadata": {
    "collapsed": true
   },
   "outputs": [],
   "source": []
  },
  {
   "cell_type": "code",
   "execution_count": null,
   "metadata": {
    "collapsed": true
   },
   "outputs": [],
   "source": []
  }
 ],
 "metadata": {
  "anaconda-cloud": {},
  "kernelspec": {
   "display_name": "Python 2",
   "language": "python",
   "name": "python2"
  },
  "language_info": {
   "codemirror_mode": {
    "name": "ipython",
    "version": 2
   },
   "file_extension": ".py",
   "mimetype": "text/x-python",
   "name": "python",
   "nbconvert_exporter": "python",
   "pygments_lexer": "ipython2",
   "version": "2.7.13"
  }
 },
 "nbformat": 4,
 "nbformat_minor": 2
}
