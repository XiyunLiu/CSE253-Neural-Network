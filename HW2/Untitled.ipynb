{
 "cells": [
  {
   "cell_type": "code",
   "execution_count": 1,
   "metadata": {
    "collapsed": true
   },
   "outputs": [],
   "source": [
    "%matplotlib inline"
   ]
  },
  {
   "cell_type": "code",
   "execution_count": 61,
   "metadata": {
    "collapsed": false
   },
   "outputs": [],
   "source": [
    "import numpy as np\n",
    "import matplotlib.pyplot as plt\n",
    "import random\n",
    "import math"
   ]
  },
  {
   "cell_type": "code",
   "execution_count": 3,
   "metadata": {
    "collapsed": false
   },
   "outputs": [],
   "source": [
    "import os\n",
    "import struct\n",
    "from array import array\n",
    "\n",
    "\n",
    "class MNIST(object):\n",
    "    def __init__(self, path='../HW1/dataset'):\n",
    "        self.path = path\n",
    "\n",
    "        self.test_img_fname = 't10k-images-idx3-ubyte'\n",
    "        self.test_lbl_fname = 't10k-labels-idx1-ubyte'\n",
    "\n",
    "        self.train_img_fname = 'train-images-idx3-ubyte'\n",
    "        self.train_lbl_fname = 'train-labels-idx1-ubyte'\n",
    "\n",
    "        self.test_images = []\n",
    "        self.test_labels = []\n",
    "\n",
    "        self.train_images = []\n",
    "        self.train_labels = []\n",
    "\n",
    "    def load_testing(self):\n",
    "        ims, labels = self.load(os.path.join(self.path, self.test_img_fname),\n",
    "                                os.path.join(self.path, self.test_lbl_fname))\n",
    "        ims = map(lambda img: img, ims)\n",
    "        self.test_images = ims\n",
    "        self.test_labels = labels\n",
    "        ims = map(lambda img: [255]+img, ims)\n",
    "        ims = np.array(ims)*1.0/255\n",
    "        mean = ims.sum(axis=1)[:,None]/785\n",
    "        ims -= mean\n",
    "        return ims, np.array(labels)\n",
    "\n",
    "    def load_training(self):\n",
    "        ims, labels = self.load(os.path.join(self.path, self.train_img_fname),\n",
    "                                os.path.join(self.path, self.train_lbl_fname))\n",
    "        ims = map(lambda img: img, ims)\n",
    "        self.train_images = ims\n",
    "        self.train_labels = labels\n",
    "        ims = map(lambda img: [255]+img, ims)\n",
    "        ims = np.array(ims)*1.0/255\n",
    "        mean = ims.sum(axis=1)[:,None]/785\n",
    "        ims -= mean\n",
    "        return ims, np.array(labels)\n",
    "\n",
    "    @classmethod\n",
    "    def load(cls, path_img, path_lbl):\n",
    "        with open(path_lbl, 'rb') as file:\n",
    "            magic, size = struct.unpack(\">II\", file.read(8))\n",
    "            if magic != 2049:\n",
    "                raise ValueError('Magic number mismatch, expected 2049,'\n",
    "                                 'got {}'.format(magic))\n",
    "\n",
    "            labels = array(\"B\", file.read())\n",
    "\n",
    "        with open(path_img, 'rb') as file:\n",
    "            magic, size, rows, cols = struct.unpack(\">IIII\", file.read(16))\n",
    "            if magic != 2051:\n",
    "                raise ValueError('Magic number mismatch, expected 2051,'\n",
    "                                 'got {}'.format(magic))\n",
    "\n",
    "            image_data = array(\"B\", file.read())\n",
    "\n",
    "        images = []\n",
    "        for i in range(size):\n",
    "            images.append([0] * rows * cols)\n",
    "\n",
    "        for i in range(size):\n",
    "            images[i][:] = image_data[i * rows * cols:(i + 1) * rows * cols]\n",
    "\n",
    "        return images, labels\n",
    "  \n",
    "\n",
    "    def showImage(self, imageArray, title = \"\", xlabel = \"\"):\n",
    "        imageArray = imageArray.reshape((28,28))\n",
    "        fig = plt.figure()\n",
    "        plotwindow = fig.add_subplot(111)\n",
    "        plt.xlabel(title)\n",
    "        \n",
    "        plt.imshow(imageArray, cmap='gray')\n",
    "        plt.show()"
   ]
  },
  {
   "cell_type": "code",
   "execution_count": 4,
   "metadata": {
    "collapsed": false
   },
   "outputs": [],
   "source": [
    "mnist = MNIST()\n",
    "trainingImgs, trainingLabels = mnist.load_training()\n",
    "testImgs, testLabels = mnist.load_testing()"
   ]
  },
  {
   "cell_type": "code",
   "execution_count": 102,
   "metadata": {
    "collapsed": false
   },
   "outputs": [],
   "source": [
    "class MNISTClassification():\n",
    "    def __init__(self):\n",
    "        self.stepSize = 1e-3\n",
    "        self.maxIter = 1000\n",
    "        self.w_jk = None\n",
    "        self.w_ij = None\n",
    "        self.numHidden = 60\n",
    "        self.numClass = 10\n",
    "        self.batch = 1000\n",
    "        self.epsilon = 1e-2 # for check gradient\n",
    "        \n",
    "        self.trainAccuracyPath = []\n",
    "        self.validationAccuracyPath = []\n",
    "        self.testAccuracyPath = []\n",
    "        self.maxValidationAccuracy = -1\n",
    "        self.w_ijPath = []\n",
    "        self.w_jkPath = []\n",
    "        self.preDeltaJ = None\n",
    "        self.preDeltaK = None\n",
    "        \n",
    "    def fit(self, trainingImgs, trainingLabels, testImgs, testLabels, miniBatch,\\\n",
    "            stepSize = None, T = 1000, checkGradient = False, numHidden = 60):\n",
    "        self.numHidden = numHidden\n",
    "        np.random.seed(0)\n",
    "        w_ij = np.random.normal(0, 1/math.sqrt(len(trainingImgs[0])), size = (len(trainingImgs[0]), self.numHidden))\n",
    "        w_jk = np.random.normal(0, 1/math.sqrt(self.numHidden), size = (self.numHidden + 1, self.numClass))\n",
    "        if stepSize:\n",
    "            self.stepSize = stepSize\n",
    "        self.train(trainingImgs, trainingLabels, testImgs, testLabels, w_ij, w_jk, miniBatch,\\\n",
    "                   self.stepSize, T, checkGradient, numHidden)\n",
    "        \n",
    "    def predictHidden(self, w_ij, X):\n",
    "        '''\n",
    "        X: batch * 784\n",
    "        w_ij: 784 * j\n",
    "        return: Z batch * j\n",
    "        '''\n",
    "#         return 1.7159*np.tanh(2./3.*np.dot(X, w_ij)) # part4\n",
    "        return 1/(1+np.exp(-np.dot(X, w_ij))) #part3\n",
    "    \n",
    "    def predictOutput(self, w_jk, Z):\n",
    "        '''\n",
    "        Z: batch * j\n",
    "        w_jk: j * 10(= k)\n",
    "        return: prob y batch * 10(=k)\n",
    "        '''\n",
    "        expProb = np.exp(np.dot(Z, w_jk))\n",
    "        probability = expProb/expProb.sum(axis=1)[:,None] # batch * k\n",
    "        return probability\n",
    "    \n",
    "    def loss(self, X, y, t, w_ij, w_jk):\n",
    "        '''\n",
    "        X: batch * 784\n",
    "        y: batch\n",
    "        w_ij: 784 * j\n",
    "        w_jk: j * 10(=k)\n",
    "        '''\n",
    "        loss = 0\n",
    "        Z = self.predictHidden(w_ij, X)\n",
    "        probability = self.predictOutput(w_jk, Z)\n",
    "#         t = np.zeros((len(y), self.numClass))\n",
    "#         for n in range(0, len(y)):\n",
    "#             t[n, y[n]] = 1\n",
    "        return -np.sum(t*np.log(probability))\n",
    "    \n",
    "    def train(self, X, y, testImgs, testLabels, w_ij, w_jk, batch, stepSize, T, checkGradient, numHidden):\n",
    "        numIter = 0\n",
    "        start = 0\n",
    "        stepSize_ini = stepSize\n",
    "        \n",
    "        partial = int(math.ceil(len(X)/6.*5.))\n",
    "        validationImgs = X[partial:]\n",
    "        validationLabels = y[partial:]\n",
    "        X = X[:partial]\n",
    "        y = y[:partial]\n",
    "        \n",
    "        while numIter < self.maxIter:\n",
    "            stepSize = stepSize_ini * 1./(1 + numIter*1./T)\n",
    "            \n",
    "            end = start + batch\n",
    "            if end > len(X):\n",
    "                end = len(X)\n",
    "                \n",
    "            X_batch = X[start: end]\n",
    "            y_batch = y[start: end]\n",
    "            \n",
    "            Z_batch = self.predictHidden(w_ij, X_batch) # batch * j\n",
    "            Z_batch = np.hstack([np.ones((len(Z_batch),1)), Z_batch]) #  batch * (j+1)(add bias to Z)\n",
    "            probability = self.predictOutput(w_jk, Z_batch) # batch * 10  \n",
    "            \n",
    "            t_batch = np.zeros((len(y_batch), self.numClass)) # batch * 10\n",
    "            for n in range(0, len(y_batch)):\n",
    "                t_batch[n, y[n]] = 1\n",
    "            \n",
    "            delta_k = t_batch - probability\n",
    "            delta_j = (Z_batch*(1-Z_batch)*np.dot(delta_k, w_jk.T))[:, 1:] # batch * j #part3 delete\n",
    "            \n",
    "            \n",
    "            if checkGradient:\n",
    "                print \"Check gradient diff:\", self.checkGradient(-delta_j, -delta_k, t_batch, X_batch, y_batch, Z_batch, w_ij, w_jk)\n",
    "                break\n",
    "#             delta_j = (1.7159 - 2./3*(Z_batch**2)/1.7159 )* np.dot(t_batch - probability, w_jk.T) # batch*j #part4\n",
    "            w_ij += stepSize / batch * np.dot(X_batch.T, delta_j)\n",
    "            w_jk += stepSize / batch * np.dot(Z_batch.T, delta_k) \n",
    "            \n",
    "            \n",
    "            start = end\n",
    "            if start >= len(X):\n",
    "                start = 0\n",
    "                numIter += 1\n",
    "                self.trainAccuracyPath.append(self.test(X, y, w_ij, w_jk))\n",
    "                validationAccuracy = self.test(validationImgs, validationLabels, w_ij, w_jk)\n",
    "                self.validationAccuracyPath.append(validationAccuracy)\n",
    "                if validationAccuracy > self.maxValidationAccuracy:\n",
    "                    self.w_ij = w_ij\n",
    "                    self.w_jk = w_jk\n",
    "                self.testAccuracyPath.append(self.test(trainingImgs, trainingLabels, w_ij, w_jk))\n",
    "                if len(self.validationAccuracyPath) > 30 and \\\n",
    "                self.validationAccuracyPath[-4] > self.validationAccuracyPath[-3] > \\\n",
    "                self.validationAccuracyPath[-2] > self.validationAccuracyPath[-1]:\n",
    "                    print \"Converge at \", numIter, \"final correction rate is\", self.testAccuracyPath[-3]\n",
    "                    break\n",
    "                    \n",
    "                if numIter % 10 == 0:\n",
    "                    print \"Number iteration:\", numIter,\", correction rate:\", self.testAccuracyPath[-1]\n",
    "        \n",
    "#         self.w_ij = w_ij\n",
    "#         self.w_jk = w_jk  \n",
    "#         return w_ij, w_jk\n",
    "\n",
    "    def checkGradient(self, hiddenLayerGradient, OutputLayerGradient, t, X, y, Z, w_ij, w_jk):\n",
    "        # Check w_ij gradient\n",
    "        hiddenLayerGradient = np.dot(X.T, hiddenLayerGradient)/len(X) # i*j\n",
    "        gradientDiffWij = np.zeros(hiddenLayerGradient.shape) # i*j\n",
    "        epsilonMatrix = np.zeros(w_ij.shape)\n",
    "        for i in range(0, len(w_ij)):\n",
    "            for j in range(0, len(w_ij[0])):\n",
    "                epsilonMatrix[i][j] += self.epsilon\n",
    "                Z1 = self.predictHidden(w_ij + epsilonMatrix, X)\n",
    "                probability1 = self.predictOutput(w_jk, np.hstack([np.ones((len(Z1),1)), Z1]))\n",
    "                Z2 = self.predictHidden(w_ij - epsilonMatrix, X)\n",
    "                probability2 = self.predictOutput(w_jk, np.hstack([np.ones((len(Z2),1)), Z2]))\n",
    "                E1 = -np.sum(t*np.log(probability1))\n",
    "                E2 = -np.sum(t*np.log(probability2))\n",
    "                gradientDiffWij[i][j] = abs(hiddenLayerGradient[i][j] - (E1-E2)/2/self.epsilon)\n",
    "                epsilonMatrix[i][j] -= self.epsilon\n",
    "        # check w_jk gradient\n",
    "        epsilonMatrix = np.zeros(w_jk.shape)\n",
    "        OutputLayerGradient = np.dot(Z.T, OutputLayerGradient)/len(Z) # j*k\n",
    "        gradientDiffWjk = np.zeros(OutputLayerGradient.shape) # j*k\n",
    "        for j in range(0, len(w_jk)):\n",
    "            for k in range(0, len(w_jk[0])):\n",
    "                epsilonMatrix[j][k] += self.epsilon\n",
    "                probability1 = self.predictOutput(w_jk + epsilonMatrix, Z)\n",
    "                probability2 = self.predictOutput(w_jk - epsilonMatrix, Z)\n",
    "                E1 = -np.sum(t*np.log(probability1))\n",
    "                E2 = -np.sum(t*np.log(probability2))\n",
    "                gradientDiffWjk[j][k] = abs(OutputLayerGradient[j][k] - (E1-E2)/2/self.epsilon)\n",
    "                epsilonMatrix[j][k] -= self.epsilon\n",
    "\n",
    "        return np.max(gradientDiffWij), np.max(gradientDiffWjk)\n",
    "    \n",
    "    def test(self, X, y, w_ij, w_jk):\n",
    "        Z = self.predictHidden(w_ij, X)\n",
    "        probability = self.predictOutput(w_jk, np.hstack([np.ones((len(Z),1)), Z]))\n",
    "        predict = np.argmax(probability, axis=1) # batch\n",
    "        match = filter(lambda x: x[0] == x[1], zip(predict, y))\n",
    "        return len(match)*1.0/len(y)"
   ]
  },
  {
   "cell_type": "code",
   "execution_count": 103,
   "metadata": {
    "collapsed": false
   },
   "outputs": [
    {
     "name": "stdout",
     "output_type": "stream",
     "text": [
      "Number iteration: 10 , correction rate: 0.70625\n",
      "Number iteration: 20 , correction rate: 0.78915\n",
      "Number iteration: 30 , correction rate: 0.823633333333\n",
      "Number iteration: 40 , correction rate: 0.83895\n",
      "Number iteration: 50 , correction rate: 0.846783333333\n",
      "Number iteration: 60 , correction rate: 0.850933333333\n",
      "Number iteration: 70 , correction rate: 0.854833333333\n",
      "Number iteration: 80 , correction rate: 0.858083333333\n",
      "Number iteration: 90 , correction rate: 0.86045\n",
      "Number iteration: 100 , correction rate: 0.862083333333\n",
      "Number iteration: 110 , correction rate: 0.86345\n",
      "Number iteration: 120 , correction rate: 0.86495\n",
      "Number iteration: 130 , correction rate: 0.866333333333\n",
      "Number iteration: 140 , correction rate: 0.867616666667\n",
      "Number iteration: 150 , correction rate: 0.868816666667\n"
     ]
    },
    {
     "ename": "KeyboardInterrupt",
     "evalue": "",
     "output_type": "error",
     "traceback": [
      "\u001b[0;31m---------------------------------------------------------------------------\u001b[0m",
      "\u001b[0;31mKeyboardInterrupt\u001b[0m                         Traceback (most recent call last)",
      "\u001b[0;32m<ipython-input-103-49b57a497eac>\u001b[0m in \u001b[0;36m<module>\u001b[0;34m()\u001b[0m\n\u001b[1;32m      1\u001b[0m \u001b[0mmn\u001b[0m \u001b[0;34m=\u001b[0m \u001b[0mMNISTClassification\u001b[0m\u001b[0;34m(\u001b[0m\u001b[0;34m)\u001b[0m\u001b[0;34m\u001b[0m\u001b[0m\n\u001b[0;32m----> 2\u001b[0;31m \u001b[0mmn\u001b[0m\u001b[0;34m.\u001b[0m\u001b[0mfit\u001b[0m\u001b[0;34m(\u001b[0m\u001b[0mtrainingImgs\u001b[0m\u001b[0;34m,\u001b[0m \u001b[0mtrainingLabels\u001b[0m\u001b[0;34m,\u001b[0m \u001b[0mtestImgs\u001b[0m\u001b[0;34m,\u001b[0m \u001b[0mtestLabels\u001b[0m\u001b[0;34m,\u001b[0m \u001b[0;36m10000\u001b[0m\u001b[0;34m,\u001b[0m \u001b[0;36m3\u001b[0m\u001b[0;34m,\u001b[0m \u001b[0mT\u001b[0m \u001b[0;34m=\u001b[0m \u001b[0;36m50\u001b[0m\u001b[0;34m,\u001b[0m \u001b[0mnumHidden\u001b[0m \u001b[0;34m=\u001b[0m \u001b[0;36m60\u001b[0m \u001b[0;34m)\u001b[0m\u001b[0;34m\u001b[0m\u001b[0m\n\u001b[0m",
      "\u001b[0;32m<ipython-input-102-03a834eae62a>\u001b[0m in \u001b[0;36mfit\u001b[0;34m(self, trainingImgs, trainingLabels, testImgs, testLabels, miniBatch, stepSize, T, checkGradient, numHidden)\u001b[0m\n\u001b[1;32m     26\u001b[0m         \u001b[0;32mif\u001b[0m \u001b[0mstepSize\u001b[0m\u001b[0;34m:\u001b[0m\u001b[0;34m\u001b[0m\u001b[0m\n\u001b[1;32m     27\u001b[0m             \u001b[0mself\u001b[0m\u001b[0;34m.\u001b[0m\u001b[0mstepSize\u001b[0m \u001b[0;34m=\u001b[0m \u001b[0mstepSize\u001b[0m\u001b[0;34m\u001b[0m\u001b[0m\n\u001b[0;32m---> 28\u001b[0;31m         \u001b[0mself\u001b[0m\u001b[0;34m.\u001b[0m\u001b[0mtrain\u001b[0m\u001b[0;34m(\u001b[0m\u001b[0mtrainingImgs\u001b[0m\u001b[0;34m,\u001b[0m \u001b[0mtrainingLabels\u001b[0m\u001b[0;34m,\u001b[0m \u001b[0mtestImgs\u001b[0m\u001b[0;34m,\u001b[0m \u001b[0mtestLabels\u001b[0m\u001b[0;34m,\u001b[0m \u001b[0mw_ij\u001b[0m\u001b[0;34m,\u001b[0m \u001b[0mw_jk\u001b[0m\u001b[0;34m,\u001b[0m \u001b[0mminiBatch\u001b[0m\u001b[0;34m,\u001b[0m                   \u001b[0mself\u001b[0m\u001b[0;34m.\u001b[0m\u001b[0mstepSize\u001b[0m\u001b[0;34m,\u001b[0m \u001b[0mT\u001b[0m\u001b[0;34m,\u001b[0m \u001b[0mcheckGradient\u001b[0m\u001b[0;34m,\u001b[0m \u001b[0mnumHidden\u001b[0m\u001b[0;34m)\u001b[0m\u001b[0;34m\u001b[0m\u001b[0m\n\u001b[0m\u001b[1;32m     29\u001b[0m \u001b[0;34m\u001b[0m\u001b[0m\n\u001b[1;32m     30\u001b[0m     \u001b[0;32mdef\u001b[0m \u001b[0mpredictHidden\u001b[0m\u001b[0;34m(\u001b[0m\u001b[0mself\u001b[0m\u001b[0;34m,\u001b[0m \u001b[0mw_ij\u001b[0m\u001b[0;34m,\u001b[0m \u001b[0mX\u001b[0m\u001b[0;34m)\u001b[0m\u001b[0;34m:\u001b[0m\u001b[0;34m\u001b[0m\u001b[0m\n",
      "\u001b[0;32m<ipython-input-102-03a834eae62a>\u001b[0m in \u001b[0;36mtrain\u001b[0;34m(self, X, y, testImgs, testLabels, w_ij, w_jk, batch, stepSize, T, checkGradient, numHidden)\u001b[0m\n\u001b[1;32m     84\u001b[0m \u001b[0;34m\u001b[0m\u001b[0m\n\u001b[1;32m     85\u001b[0m             \u001b[0mZ_batch\u001b[0m \u001b[0;34m=\u001b[0m \u001b[0mself\u001b[0m\u001b[0;34m.\u001b[0m\u001b[0mpredictHidden\u001b[0m\u001b[0;34m(\u001b[0m\u001b[0mw_ij\u001b[0m\u001b[0;34m,\u001b[0m \u001b[0mX_batch\u001b[0m\u001b[0;34m)\u001b[0m \u001b[0;31m# batch * j\u001b[0m\u001b[0;34m\u001b[0m\u001b[0m\n\u001b[0;32m---> 86\u001b[0;31m             \u001b[0mZ_batch\u001b[0m \u001b[0;34m=\u001b[0m \u001b[0mnp\u001b[0m\u001b[0;34m.\u001b[0m\u001b[0mhstack\u001b[0m\u001b[0;34m(\u001b[0m\u001b[0;34m[\u001b[0m\u001b[0mnp\u001b[0m\u001b[0;34m.\u001b[0m\u001b[0mones\u001b[0m\u001b[0;34m(\u001b[0m\u001b[0;34m(\u001b[0m\u001b[0mlen\u001b[0m\u001b[0;34m(\u001b[0m\u001b[0mZ_batch\u001b[0m\u001b[0;34m)\u001b[0m\u001b[0;34m,\u001b[0m\u001b[0;36m1\u001b[0m\u001b[0;34m)\u001b[0m\u001b[0;34m)\u001b[0m\u001b[0;34m,\u001b[0m \u001b[0mZ_batch\u001b[0m\u001b[0;34m]\u001b[0m\u001b[0;34m)\u001b[0m \u001b[0;31m#  batch * (j+1)(add bias to Z)\u001b[0m\u001b[0;34m\u001b[0m\u001b[0m\n\u001b[0m\u001b[1;32m     87\u001b[0m             \u001b[0mprobability\u001b[0m \u001b[0;34m=\u001b[0m \u001b[0mself\u001b[0m\u001b[0;34m.\u001b[0m\u001b[0mpredictOutput\u001b[0m\u001b[0;34m(\u001b[0m\u001b[0mw_jk\u001b[0m\u001b[0;34m,\u001b[0m \u001b[0mZ_batch\u001b[0m\u001b[0;34m)\u001b[0m \u001b[0;31m# batch * 10\u001b[0m\u001b[0;34m\u001b[0m\u001b[0m\n\u001b[1;32m     88\u001b[0m \u001b[0;34m\u001b[0m\u001b[0m\n",
      "\u001b[0;32m/Library/Frameworks/Python.framework/Versions/2.7/lib/python2.7/site-packages/numpy-1.10.4-py2.7-macosx-10.6-intel.egg/numpy/core/numeric.pyc\u001b[0m in \u001b[0;36mones\u001b[0;34m(shape, dtype, order)\u001b[0m\n\u001b[1;32m    181\u001b[0m \u001b[0;34m\u001b[0m\u001b[0m\n\u001b[1;32m    182\u001b[0m     \"\"\"\n\u001b[0;32m--> 183\u001b[0;31m     \u001b[0ma\u001b[0m \u001b[0;34m=\u001b[0m \u001b[0mempty\u001b[0m\u001b[0;34m(\u001b[0m\u001b[0mshape\u001b[0m\u001b[0;34m,\u001b[0m \u001b[0mdtype\u001b[0m\u001b[0;34m,\u001b[0m \u001b[0morder\u001b[0m\u001b[0;34m)\u001b[0m\u001b[0;34m\u001b[0m\u001b[0m\n\u001b[0m\u001b[1;32m    184\u001b[0m     \u001b[0mmultiarray\u001b[0m\u001b[0;34m.\u001b[0m\u001b[0mcopyto\u001b[0m\u001b[0;34m(\u001b[0m\u001b[0ma\u001b[0m\u001b[0;34m,\u001b[0m \u001b[0;36m1\u001b[0m\u001b[0;34m,\u001b[0m \u001b[0mcasting\u001b[0m\u001b[0;34m=\u001b[0m\u001b[0;34m'unsafe'\u001b[0m\u001b[0;34m)\u001b[0m\u001b[0;34m\u001b[0m\u001b[0m\n\u001b[1;32m    185\u001b[0m     \u001b[0;32mreturn\u001b[0m \u001b[0ma\u001b[0m\u001b[0;34m\u001b[0m\u001b[0m\n",
      "\u001b[0;31mKeyboardInterrupt\u001b[0m: "
     ]
    }
   ],
   "source": [
    "mn = MNISTClassification()\n",
    "mn.fit(trainingImgs, trainingLabels, testImgs, testLabels, 10000, 3, T = 50, numHidden = 60 )"
   ]
  },
  {
   "cell_type": "code",
   "execution_count": 20,
   "metadata": {
    "collapsed": false
   },
   "outputs": [
    {
     "data": {
      "image/png": "[encoded data removed]",
      "text/plain": [
       "<matplotlib.figure.Figure at 0x106919350>"
      ]
     },
     "metadata": {},
     "output_type": "display_data"
    }
   ],
   "source": [
    "plotUpdate(mn.trainAccuracyPath, mn.validationAccuracyPath, mn.testAccuracyPath, 'Correction rate over training',\n",
    "           'training set', 'validation set','test set', \"percent correct classification\",[0.7,0.9], True)\n",
    "# plt.savefig('part3_10000_3_500.png', bbox_inches='tight')"
   ]
  },
  {
   "cell_type": "code",
   "execution_count": 80,
   "metadata": {
    "collapsed": false
   },
   "outputs": [
    {
     "name": "stdout",
     "output_type": "stream",
     "text": [
      "Check gradient diff: (2.2194123897728568e-07, 8.515097318362308e-07)\n"
     ]
    }
   ],
   "source": [
    "checkGradient = MNISTClassification()\n",
    "checkGradient.fit(trainingImgs[:1], trainingLabels[:1], testImgs, testLabels, 1, 1, checkGradient = True)"
   ]
  },
  {
   "cell_type": "code",
   "execution_count": 9,
   "metadata": {
    "collapsed": false
   },
   "outputs": [],
   "source": [
    "randomData = zip(trainingImgs, trainingLabels)\n",
    "random.seed(0)\n",
    "random.shuffle(randomData)\n",
    "randomTrainImgs, randomTrainLabels = np.array(map(lambda x:x[0], randomData)), np.array(map(lambda x:x[1], randomData))"
   ]
  },
  {
   "cell_type": "code",
   "execution_count": 26,
   "metadata": {
    "collapsed": false
   },
   "outputs": [
    {
     "name": "stdout",
     "output_type": "stream",
     "text": [
      "Number iteration: 10 , correction rate: 0.0992833333333\n",
      "Number iteration: 20 , correction rate: 0.121116666667\n",
      "Number iteration: 30 , correction rate: 0.101583333333\n",
      "Number iteration: 40 , correction rate: 0.106333333333\n"
     ]
    },
    {
     "ename": "KeyboardInterrupt",
     "evalue": "",
     "output_type": "error",
     "traceback": [
      "\u001b[0;31m---------------------------------------------------------------------------\u001b[0m",
      "\u001b[0;31mKeyboardInterrupt\u001b[0m                         Traceback (most recent call last)",
      "\u001b[0;32m<ipython-input-26-faca7cc0d278>\u001b[0m in \u001b[0;36m<module>\u001b[0;34m()\u001b[0m\n\u001b[1;32m      1\u001b[0m \u001b[0moptimalMN\u001b[0m \u001b[0;34m=\u001b[0m \u001b[0mMNISTClassification\u001b[0m\u001b[0;34m(\u001b[0m\u001b[0;34m)\u001b[0m\u001b[0;34m\u001b[0m\u001b[0m\n\u001b[0;32m----> 2\u001b[0;31m \u001b[0moptimalMN\u001b[0m\u001b[0;34m.\u001b[0m\u001b[0mfit\u001b[0m\u001b[0;34m(\u001b[0m\u001b[0mrandomTrainImgs\u001b[0m\u001b[0;34m,\u001b[0m \u001b[0mrandomTrainLabels\u001b[0m\u001b[0;34m,\u001b[0m \u001b[0mtestImgs\u001b[0m\u001b[0;34m,\u001b[0m \u001b[0mtestLabels\u001b[0m\u001b[0;34m,\u001b[0m \u001b[0;36m10000\u001b[0m\u001b[0;34m,\u001b[0m \u001b[0;36m3\u001b[0m\u001b[0;34m,\u001b[0m \u001b[0mT\u001b[0m \u001b[0;34m=\u001b[0m \u001b[0;36m500\u001b[0m \u001b[0;34m)\u001b[0m\u001b[0;34m\u001b[0m\u001b[0m\n\u001b[0m",
      "\u001b[0;32m<ipython-input-23-cb4b391450e1>\u001b[0m in \u001b[0;36mfit\u001b[0;34m(self, trainingImgs, trainingLabels, testImgs, testLabels, miniBatch, stepSize, T, checkGradient, numHidden)\u001b[0m\n\u001b[1;32m     24\u001b[0m         \u001b[0;32mif\u001b[0m \u001b[0mstepSize\u001b[0m\u001b[0;34m:\u001b[0m\u001b[0;34m\u001b[0m\u001b[0m\n\u001b[1;32m     25\u001b[0m             \u001b[0mself\u001b[0m\u001b[0;34m.\u001b[0m\u001b[0mstepSize\u001b[0m \u001b[0;34m=\u001b[0m \u001b[0mstepSize\u001b[0m\u001b[0;34m\u001b[0m\u001b[0m\n\u001b[0;32m---> 26\u001b[0;31m         \u001b[0mself\u001b[0m\u001b[0;34m.\u001b[0m\u001b[0mtrain\u001b[0m\u001b[0;34m(\u001b[0m\u001b[0mtrainingImgs\u001b[0m\u001b[0;34m,\u001b[0m \u001b[0mtrainingLabels\u001b[0m\u001b[0;34m,\u001b[0m \u001b[0mtestImgs\u001b[0m\u001b[0;34m,\u001b[0m \u001b[0mtestLabels\u001b[0m\u001b[0;34m,\u001b[0m \u001b[0mw_ij\u001b[0m\u001b[0;34m,\u001b[0m \u001b[0mw_jk\u001b[0m\u001b[0;34m,\u001b[0m \u001b[0mminiBatch\u001b[0m\u001b[0;34m,\u001b[0m                   \u001b[0mself\u001b[0m\u001b[0;34m.\u001b[0m\u001b[0mstepSize\u001b[0m\u001b[0;34m,\u001b[0m \u001b[0mT\u001b[0m\u001b[0;34m,\u001b[0m \u001b[0mcheckGradient\u001b[0m\u001b[0;34m,\u001b[0m \u001b[0mnumHidden\u001b[0m\u001b[0;34m)\u001b[0m\u001b[0;34m\u001b[0m\u001b[0m\n\u001b[0m\u001b[1;32m     27\u001b[0m \u001b[0;34m\u001b[0m\u001b[0m\n\u001b[1;32m     28\u001b[0m     \u001b[0;32mdef\u001b[0m \u001b[0mpredictHidden\u001b[0m\u001b[0;34m(\u001b[0m\u001b[0mself\u001b[0m\u001b[0;34m,\u001b[0m \u001b[0mw_ij\u001b[0m\u001b[0;34m,\u001b[0m \u001b[0mX\u001b[0m\u001b[0;34m)\u001b[0m\u001b[0;34m:\u001b[0m\u001b[0;34m\u001b[0m\u001b[0m\n",
      "\u001b[0;32m<ipython-input-23-cb4b391450e1>\u001b[0m in \u001b[0;36mtrain\u001b[0;34m(self, X, y, testImgs, testLabels, w_ij, w_jk, batch, stepSize, T, checkGradient, numHidden)\u001b[0m\n\u001b[1;32m    102\u001b[0m                 \u001b[0mnumIter\u001b[0m \u001b[0;34m+=\u001b[0m \u001b[0;36m1\u001b[0m\u001b[0;34m\u001b[0m\u001b[0m\n\u001b[1;32m    103\u001b[0m                 \u001b[0mself\u001b[0m\u001b[0;34m.\u001b[0m\u001b[0mtrainAccuracyPath\u001b[0m\u001b[0;34m.\u001b[0m\u001b[0mappend\u001b[0m\u001b[0;34m(\u001b[0m\u001b[0mself\u001b[0m\u001b[0;34m.\u001b[0m\u001b[0mtest\u001b[0m\u001b[0;34m(\u001b[0m\u001b[0mX\u001b[0m\u001b[0;34m,\u001b[0m \u001b[0my\u001b[0m\u001b[0;34m,\u001b[0m \u001b[0mw_ij\u001b[0m\u001b[0;34m,\u001b[0m \u001b[0mw_jk\u001b[0m\u001b[0;34m)\u001b[0m\u001b[0;34m)\u001b[0m\u001b[0;34m\u001b[0m\u001b[0m\n\u001b[0;32m--> 104\u001b[0;31m                 \u001b[0mvalidationAccuracy\u001b[0m \u001b[0;34m=\u001b[0m \u001b[0mself\u001b[0m\u001b[0;34m.\u001b[0m\u001b[0mtest\u001b[0m\u001b[0;34m(\u001b[0m\u001b[0mvalidationImgs\u001b[0m\u001b[0;34m,\u001b[0m \u001b[0mvalidationLabels\u001b[0m\u001b[0;34m,\u001b[0m \u001b[0mw_ij\u001b[0m\u001b[0;34m,\u001b[0m \u001b[0mw_jk\u001b[0m\u001b[0;34m)\u001b[0m\u001b[0;34m\u001b[0m\u001b[0m\n\u001b[0m\u001b[1;32m    105\u001b[0m                 \u001b[0mself\u001b[0m\u001b[0;34m.\u001b[0m\u001b[0mvalidationAccuracyPath\u001b[0m\u001b[0;34m.\u001b[0m\u001b[0mappend\u001b[0m\u001b[0;34m(\u001b[0m\u001b[0mvalidationAccuracy\u001b[0m\u001b[0;34m)\u001b[0m\u001b[0;34m\u001b[0m\u001b[0m\n\u001b[1;32m    106\u001b[0m                 \u001b[0;32mif\u001b[0m \u001b[0mvalidationAccuracy\u001b[0m \u001b[0;34m>\u001b[0m \u001b[0mself\u001b[0m\u001b[0;34m.\u001b[0m\u001b[0mmaxValidationAccuracy\u001b[0m\u001b[0;34m:\u001b[0m\u001b[0;34m\u001b[0m\u001b[0m\n",
      "\u001b[0;32m<ipython-input-23-cb4b391450e1>\u001b[0m in \u001b[0;36mtest\u001b[0;34m(self, X, y, w_ij, w_jk)\u001b[0m\n\u001b[1;32m    140\u001b[0m \u001b[0;34m\u001b[0m\u001b[0m\n\u001b[1;32m    141\u001b[0m     \u001b[0;32mdef\u001b[0m \u001b[0mtest\u001b[0m\u001b[0;34m(\u001b[0m\u001b[0mself\u001b[0m\u001b[0;34m,\u001b[0m \u001b[0mX\u001b[0m\u001b[0;34m,\u001b[0m \u001b[0my\u001b[0m\u001b[0;34m,\u001b[0m \u001b[0mw_ij\u001b[0m\u001b[0;34m,\u001b[0m \u001b[0mw_jk\u001b[0m\u001b[0;34m)\u001b[0m\u001b[0;34m:\u001b[0m\u001b[0;34m\u001b[0m\u001b[0m\n\u001b[0;32m--> 142\u001b[0;31m         \u001b[0mZ\u001b[0m \u001b[0;34m=\u001b[0m \u001b[0mself\u001b[0m\u001b[0;34m.\u001b[0m\u001b[0mpredictHidden\u001b[0m\u001b[0;34m(\u001b[0m\u001b[0mw_ij\u001b[0m\u001b[0;34m,\u001b[0m \u001b[0mX\u001b[0m\u001b[0;34m)\u001b[0m\u001b[0;34m\u001b[0m\u001b[0m\n\u001b[0m\u001b[1;32m    143\u001b[0m         \u001b[0mprobability\u001b[0m \u001b[0;34m=\u001b[0m \u001b[0mself\u001b[0m\u001b[0;34m.\u001b[0m\u001b[0mpredictOutput\u001b[0m\u001b[0;34m(\u001b[0m\u001b[0mw_jk\u001b[0m\u001b[0;34m,\u001b[0m \u001b[0mZ\u001b[0m\u001b[0;34m)\u001b[0m\u001b[0;34m\u001b[0m\u001b[0m\n\u001b[1;32m    144\u001b[0m         \u001b[0mpredict\u001b[0m \u001b[0;34m=\u001b[0m \u001b[0mnp\u001b[0m\u001b[0;34m.\u001b[0m\u001b[0margmax\u001b[0m\u001b[0;34m(\u001b[0m\u001b[0mprobability\u001b[0m\u001b[0;34m,\u001b[0m \u001b[0maxis\u001b[0m\u001b[0;34m=\u001b[0m\u001b[0;36m1\u001b[0m\u001b[0;34m)\u001b[0m \u001b[0;31m# batch\u001b[0m\u001b[0;34m\u001b[0m\u001b[0m\n",
      "\u001b[0;32m<ipython-input-23-cb4b391450e1>\u001b[0m in \u001b[0;36mpredictHidden\u001b[0;34m(self, w_ij, X)\u001b[0m\n\u001b[1;32m     32\u001b[0m         \u001b[0;32mreturn\u001b[0m\u001b[0;34m:\u001b[0m \u001b[0mZ\u001b[0m \u001b[0mbatch\u001b[0m \u001b[0;34m*\u001b[0m \u001b[0mj\u001b[0m\u001b[0;34m\u001b[0m\u001b[0m\n\u001b[1;32m     33\u001b[0m         '''\n\u001b[0;32m---> 34\u001b[0;31m         \u001b[0;32mreturn\u001b[0m \u001b[0;36m1.7159\u001b[0m\u001b[0;34m*\u001b[0m\u001b[0mnp\u001b[0m\u001b[0;34m.\u001b[0m\u001b[0mtanh\u001b[0m\u001b[0;34m(\u001b[0m\u001b[0;36m2.\u001b[0m\u001b[0;34m/\u001b[0m\u001b[0;36m3.\u001b[0m\u001b[0;34m*\u001b[0m\u001b[0mnp\u001b[0m\u001b[0;34m.\u001b[0m\u001b[0mdot\u001b[0m\u001b[0;34m(\u001b[0m\u001b[0mX\u001b[0m\u001b[0;34m,\u001b[0m \u001b[0mw_ij\u001b[0m\u001b[0;34m)\u001b[0m\u001b[0;34m)\u001b[0m \u001b[0;31m# part4\u001b[0m\u001b[0;34m\u001b[0m\u001b[0m\n\u001b[0m\u001b[1;32m     35\u001b[0m \u001b[0;31m#         return 1/(1+np.exp(-np.dot(X, w_ij))) #part3\u001b[0m\u001b[0;34m\u001b[0m\u001b[0;34m\u001b[0m\u001b[0m\n\u001b[1;32m     36\u001b[0m \u001b[0;34m\u001b[0m\u001b[0m\n",
      "\u001b[0;31mKeyboardInterrupt\u001b[0m: "
     ]
    }
   ],
   "source": [
    "optimalMN = MNISTClassification()\n",
    "optimalMN.fit(randomTrainImgs, randomTrainLabels, testImgs, testLabels, 10000, 3, T = 500 )"
   ]
  },
  {
   "cell_type": "code",
   "execution_count": 17,
   "metadata": {
    "collapsed": true
   },
   "outputs": [],
   "source": [
    "def plotUpdate(first, second, third, title, firstLabel, secondLabel, thirdLabel, ylabel, ylim, loc = False):\n",
    "    firstLine, = plt.plot([i for i in range(0,len(first))], first)\n",
    "    secontLine, = plt.plot([i for i in range(0,len(second))], second)\n",
    "    thirdLine, = plt.plot([i for i in range(0,len(third))], third)\n",
    "    plt.xlabel('t')\n",
    "    plt.ylim(ylim)\n",
    "    plt.ylabel(ylabel)\n",
    "    plt.title(title)\n",
    "    if loc:\n",
    "        plt.legend([firstLine, secontLine, thirdLine], [firstLabel, secondLabel, thirdLabel], loc = (0.624,0))\n",
    "    else:\n",
    "        plt.legend([firstLine, secontLine, thirdLine], [firstLabel, secondLabel, thirdLabel])\n",
    "    plt.grid(True)"
   ]
  },
  {
   "cell_type": "code",
   "execution_count": 90,
   "metadata": {
    "collapsed": false
   },
   "outputs": [],
   "source": [
    "a = np.array([[1,2],[3,4],[5,6]])\n",
    "X = np.hstack([np.ones((len(a),1)), a])"
   ]
  },
  {
   "cell_type": "code",
   "execution_count": 91,
   "metadata": {
    "collapsed": false
   },
   "outputs": [
    {
     "data": {
      "text/plain": [
       "array([[ 1.,  1.,  2.],\n",
       "       [ 1.,  3.,  4.],\n",
       "       [ 1.,  5.,  6.]])"
      ]
     },
     "execution_count": 91,
     "metadata": {},
     "output_type": "execute_result"
    }
   ],
   "source": [
    "X"
   ]
  },
  {
   "cell_type": "code",
   "execution_count": null,
   "metadata": {
    "collapsed": true
   },
   "outputs": [],
   "source": []
  }
 ],
 "metadata": {
  "kernelspec": {
   "display_name": "Python 2",
   "language": "python",
   "name": "python2"
  },
  "language_info": {
   "codemirror_mode": {
    "name": "ipython",
    "version": 2
   },
   "file_extension": ".py",
   "mimetype": "text/x-python",
   "name": "python",
   "nbconvert_exporter": "python",
   "pygments_lexer": "ipython2",
   "version": "2.7.10"
  }
 },
 "nbformat": 4,
 "nbformat_minor": 0
}
