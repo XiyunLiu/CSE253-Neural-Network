{
 "cells": [
  {
   "cell_type": "code",
   "execution_count": 1,
   "metadata": {
    "collapsed": true
   },
   "outputs": [],
   "source": [
    "%matplotlib inline"
   ]
  },
  {
   "cell_type": "code",
   "execution_count": 61,
   "metadata": {
    "collapsed": false
   },
   "outputs": [],
   "source": [
    "import numpy as np\n",
    "import matplotlib.pyplot as plt\n",
    "import random\n",
    "import math"
   ]
  },
  {
   "cell_type": "code",
   "execution_count": 3,
   "metadata": {
    "collapsed": false
   },
   "outputs": [],
   "source": [
    "import os\n",
    "import struct\n",
    "from array import array\n",
    "\n",
    "\n",
    "class MNIST(object):\n",
    "    def __init__(self, path='../HW1/dataset'):\n",
    "        self.path = path\n",
    "\n",
    "        self.test_img_fname = 't10k-images-idx3-ubyte'\n",
    "        self.test_lbl_fname = 't10k-labels-idx1-ubyte'\n",
    "\n",
    "        self.train_img_fname = 'train-images-idx3-ubyte'\n",
    "        self.train_lbl_fname = 'train-labels-idx1-ubyte'\n",
    "\n",
    "        self.test_images = []\n",
    "        self.test_labels = []\n",
    "\n",
    "        self.train_images = []\n",
    "        self.train_labels = []\n",
    "\n",
    "    def load_testing(self):\n",
    "        ims, labels = self.load(os.path.join(self.path, self.test_img_fname),\n",
    "                                os.path.join(self.path, self.test_lbl_fname))\n",
    "        ims = map(lambda img: img, ims)\n",
    "        self.test_images = ims\n",
    "        self.test_labels = labels\n",
    "        ims = map(lambda img: [255]+img, ims)\n",
    "        ims = np.array(ims)*1.0/255\n",
    "        mean = ims.sum(axis=1)[:,None]/785\n",
    "        ims -= mean\n",
    "        return ims, np.array(labels)\n",
    "\n",
    "    def load_training(self):\n",
    "        ims, labels = self.load(os.path.join(self.path, self.train_img_fname),\n",
    "                                os.path.join(self.path, self.train_lbl_fname))\n",
    "        ims = map(lambda img: img, ims)\n",
    "        self.train_images = ims\n",
    "        self.train_labels = labels\n",
    "        ims = map(lambda img: [255]+img, ims)\n",
    "        ims = np.array(ims)*1.0/255\n",
    "        mean = ims.sum(axis=1)[:,None]/785\n",
    "        ims -= mean\n",
    "        return ims, np.array(labels)\n",
    "\n",
    "    @classmethod\n",
    "    def load(cls, path_img, path_lbl):\n",
    "        with open(path_lbl, 'rb') as file:\n",
    "            magic, size = struct.unpack(\">II\", file.read(8))\n",
    "            if magic != 2049:\n",
    "                raise ValueError('Magic number mismatch, expected 2049,'\n",
    "                                 'got {}'.format(magic))\n",
    "\n",
    "            labels = array(\"B\", file.read())\n",
    "\n",
    "        with open(path_img, 'rb') as file:\n",
    "            magic, size, rows, cols = struct.unpack(\">IIII\", file.read(16))\n",
    "            if magic != 2051:\n",
    "                raise ValueError('Magic number mismatch, expected 2051,'\n",
    "                                 'got {}'.format(magic))\n",
    "\n",
    "            image_data = array(\"B\", file.read())\n",
    "\n",
    "        images = []\n",
    "        for i in range(size):\n",
    "            images.append([0] * rows * cols)\n",
    "\n",
    "        for i in range(size):\n",
    "            images[i][:] = image_data[i * rows * cols:(i + 1) * rows * cols]\n",
    "\n",
    "        return images, labels\n",
    "  \n",
    "\n",
    "    def showImage(self, imageArray, title = \"\", xlabel = \"\"):\n",
    "        imageArray = imageArray.reshape((28,28))\n",
    "        fig = plt.figure()\n",
    "        plotwindow = fig.add_subplot(111)\n",
    "        plt.xlabel(title)\n",
    "        \n",
    "        plt.imshow(imageArray, cmap='gray')\n",
    "        plt.show()"
   ]
  },
  {
   "cell_type": "code",
   "execution_count": 4,
   "metadata": {
    "collapsed": false
   },
   "outputs": [],
   "source": [
    "mnist = MNIST()\n",
    "trainingImgs, trainingLabels = mnist.load_training()\n",
    "testImgs, testLabels = mnist.load_testing()"
   ]
  },
  {
   "cell_type": "code",
   "execution_count": 161,
   "metadata": {
    "collapsed": false
   },
   "outputs": [],
   "source": [
    "class MNISTClassification():\n",
    "    def __init__(self):\n",
    "        self.stepSize = 1e-3\n",
    "        self.maxIter = 0\n",
    "        self.w_jk = None\n",
    "        self.w_ij = None\n",
    "        self.numHidden = 60\n",
    "        self.numClass = 10\n",
    "        self.epsilon = 1e-2 # for check gradient\n",
    "        \n",
    "        self.trainAccuracyPath = []\n",
    "        self.validationAccuracyPath = []\n",
    "        self.testAccuracyPath = []\n",
    "        self.maxValidationAccuracy = -1\n",
    "        self.w_ijPath = []\n",
    "        self.w_jkPath = []\n",
    "        self.preHiddenGradient = 0\n",
    "        self.preOutputGradient = 0\n",
    "        self.optimize = False\n",
    "        \n",
    "    def fit(self, trainingImgs, trainingLabels, testImgs, testLabels, miniBatch,\\\n",
    "            stepSize = None, T = 1000, checkGradient = False, numHidden = 60, maxIter = 1000, optimize = False):\n",
    "        self.numHidden = numHidden\n",
    "        np.random.seed(0)\n",
    "        w_ij = np.random.normal(0, 1/math.sqrt(len(trainingImgs[0])), size = (len(trainingImgs[0]), self.numHidden))\n",
    "        w_jk = np.random.normal(0, 1/math.sqrt(self.numHidden), size = (self.numHidden + 1, self.numClass))\n",
    "        if stepSize:\n",
    "            self.stepSize = stepSize\n",
    "        self.optimize = optimize\n",
    "        \n",
    "        self.maxIter = maxIter\n",
    "        \n",
    "        self.train(trainingImgs, trainingLabels, testImgs, testLabels, w_ij, w_jk, miniBatch,\\\n",
    "                   self.stepSize, T, checkGradient, numHidden)\n",
    "        \n",
    "    def predictHidden(self, w_ij, X):\n",
    "        '''\n",
    "        X: batch * 784\n",
    "        w_ij: 784 * j\n",
    "        return: Z batch * j\n",
    "        '''\n",
    "        if self.optimize:\n",
    "            return 1.7159*np.tanh(2./3.*np.dot(X, w_ij)) # part4\n",
    "        return 1/(1+np.exp(-np.dot(X, w_ij))) #part3\n",
    "    \n",
    "    def predictOutput(self, w_jk, Z):\n",
    "        '''\n",
    "        Z: batch * j\n",
    "        w_jk: j * 10(= k)\n",
    "        return: prob y batch * 10(=k)\n",
    "        '''\n",
    "        expProb = np.exp(np.dot(Z, w_jk))\n",
    "        probability = expProb/expProb.sum(axis=1)[:,None] # batch * k\n",
    "        return probability\n",
    "    \n",
    "    def loss(self, X, y, t, w_ij, w_jk):\n",
    "        '''\n",
    "        X: batch * 784\n",
    "        y: batch\n",
    "        w_ij: 784 * j\n",
    "        w_jk: j * 10(=k)\n",
    "        '''\n",
    "        loss = 0\n",
    "        Z = self.predictHidden(w_ij, X)\n",
    "        probability = self.predictOutput(w_jk, Z)\n",
    "        return -np.sum(t*np.log(probability))\n",
    "    \n",
    "    def train(self, X, y, testImgs, testLabels, w_ij, w_jk, batch, stepSize, T, checkGradient, numHidden):\n",
    "        numIter = 0\n",
    "        start = 0\n",
    "        stepSize_ini = stepSize\n",
    "        \n",
    "        partial = int(math.ceil(len(X)/6.*5.))\n",
    "        validationImgs = X[partial:]\n",
    "        validationLabels = y[partial:]\n",
    "        X = X[:partial]\n",
    "        y = y[:partial]\n",
    "        \n",
    "        while numIter < self.maxIter:\n",
    "            stepSize = stepSize_ini * 1./(1 + numIter*1./T)\n",
    "            end = min(start + batch, len(X))\n",
    "                \n",
    "            X_batch = X[start: end]\n",
    "            y_batch = y[start: end]\n",
    "            \n",
    "            Z_batch = self.predictHidden(w_ij, X_batch) # batch * j\n",
    "            Z_batch = np.hstack([np.ones((len(Z_batch),1)), Z_batch]) #  batch * (j+1)(add bias to Z)\n",
    "            probability = self.predictOutput(w_jk, Z_batch) # batch * 10  \n",
    "            \n",
    "            t_batch = np.zeros((len(y_batch), self.numClass)) # batch * 10\n",
    "            for n in range(0, len(y_batch)):\n",
    "                t_batch[n, y[n]] = 1\n",
    "            \n",
    "            delta_k = t_batch - probability\n",
    "            \n",
    "            if self.optimize: # tanh softmax for hiddenlayer\n",
    "                delta_j = (2./3*(1.7159 - (Z_batch**2)/1.7159)* np.dot(delta_k, w_jk.T))[:,1:]# batch*j #part4\n",
    "            else:\n",
    "                delta_j = (Z_batch*(1-Z_batch)*np.dot(delta_k, w_jk.T))[:, 1:] # batch * j #part3 delete\n",
    "            \n",
    "            if checkGradient:\n",
    "                print \"Check gradient diff:\", self.checkGradient(-delta_j, -delta_k, t_batch, X_batch, y_batch, Z_batch, w_ij, w_jk)\n",
    "                break\n",
    "                \n",
    "            w_ij += stepSize / len(X_batch) * np.dot(X_batch.T, delta_j)\n",
    "            w_jk += stepSize / len(X_batch) * np.dot(Z_batch.T, delta_k) \n",
    "            \n",
    "            if self.optimize: # momentum\n",
    "                w_ij += 0.9*self.preHiddenGradient\n",
    "                w_jk += 0.9*self.preOutputGradient\n",
    "                self.preHiddenGradient = stepSize / len(X_batch) * np.dot(X_batch.T, delta_j) + 0.9*self.preHiddenGradient\n",
    "                self.preOutputGradient = stepSize / len(X_batch) * np.dot(Z_batch.T, delta_k) + 0.9*self.preOutputGradient\n",
    "                \n",
    "            start = end\n",
    "            \n",
    "            if start >= len(X):\n",
    "                start = 0\n",
    "                numIter += 1\n",
    "                self.trainAccuracyPath.append(self.test(X, y, w_ij, w_jk))\n",
    "                validationAccuracy = self.test(validationImgs, validationLabels, w_ij, w_jk)\n",
    "                self.validationAccuracyPath.append(validationAccuracy)\n",
    "                \n",
    "                # record the weights where the validation accuracy is maximum\n",
    "                if validationAccuracy > self.maxValidationAccuracy:\n",
    "                    self.w_ij = w_ij\n",
    "                    self.w_jk = w_jk\n",
    "                    self.maxValidationAccuracy = validationAccuracy\n",
    "                self.testAccuracyPath.append(self.test(trainingImgs, trainingLabels, w_ij, w_jk))\n",
    "                \n",
    "                # early stopping\n",
    "                if len(self.validationAccuracyPath) > 100 and \\\n",
    "                self.validationAccuracyPath[-4] > self.validationAccuracyPath[-3] > \\\n",
    "                self.validationAccuracyPath[-2] > self.validationAccuracyPath[-1]:\n",
    "                    print \"Converge at \", numIter, \"final correction rate is\", self.testAccuracyPath[-3]\n",
    "#                     break\n",
    "                    \n",
    "                if numIter % 10 == 0:\n",
    "                    print \"Number iteration:\", numIter,\", correction rate:\", self.testAccuracyPath[-1]\n",
    "\n",
    "    def checkGradient(self, hiddenLayerGradient, OutputLayerGradient, t, X, y, Z, w_ij, w_jk):\n",
    "        # Check w_ij gradient\n",
    "        hiddenLayerGradient = np.dot(X.T, hiddenLayerGradient)/len(X) # i*j\n",
    "        gradientDiffWij = np.zeros(hiddenLayerGradient.shape) # i*j\n",
    "        epsilonMatrix = np.zeros(w_ij.shape)\n",
    "        for i in range(0, len(w_ij)):\n",
    "            for j in range(0, len(w_ij[0])):\n",
    "                epsilonMatrix[i][j] += self.epsilon\n",
    "                Z1 = self.predictHidden(w_ij + epsilonMatrix, X)\n",
    "                probability1 = self.predictOutput(w_jk, np.hstack([np.ones((len(Z1),1)), Z1]))\n",
    "                Z2 = self.predictHidden(w_ij - epsilonMatrix, X)\n",
    "                probability2 = self.predictOutput(w_jk, np.hstack([np.ones((len(Z2),1)), Z2]))\n",
    "                E1 = -np.sum(t*np.log(probability1))\n",
    "                E2 = -np.sum(t*np.log(probability2))\n",
    "                gradientDiffWij[i][j] = abs(hiddenLayerGradient[i][j] - (E1-E2)/2/self.epsilon)\n",
    "                epsilonMatrix[i][j] -= self.epsilon\n",
    "        # check w_jk gradient\n",
    "        epsilonMatrix = np.zeros(w_jk.shape)\n",
    "        OutputLayerGradient = np.dot(Z.T, OutputLayerGradient)/len(Z) # j*k\n",
    "        gradientDiffWjk = np.zeros(OutputLayerGradient.shape) # j*k\n",
    "        for j in range(0, len(w_jk)):\n",
    "            for k in range(0, len(w_jk[0])):\n",
    "                epsilonMatrix[j][k] += self.epsilon\n",
    "                probability1 = self.predictOutput(w_jk + epsilonMatrix, Z)\n",
    "                probability2 = self.predictOutput(w_jk - epsilonMatrix, Z)\n",
    "                E1 = -np.sum(t*np.log(probability1))\n",
    "                E2 = -np.sum(t*np.log(probability2))\n",
    "                gradientDiffWjk[j][k] = abs(OutputLayerGradient[j][k] - (E1-E2)/2/self.epsilon)\n",
    "                epsilonMatrix[j][k] -= self.epsilon\n",
    "\n",
    "        return np.max(gradientDiffWij), np.max(gradientDiffWjk)\n",
    "    \n",
    "    def test(self, X, y, w_ij, w_jk):\n",
    "        Z = self.predictHidden(w_ij, X)\n",
    "        probability = self.predictOutput(w_jk, np.hstack([np.ones((len(Z),1)), Z]))\n",
    "        predict = np.argmax(probability, axis=1) # batch\n",
    "        match = filter(lambda x: x[0] == x[1], zip(predict, y))\n",
    "        return len(match)*1.0/len(y)"
   ]
  },
  {
   "cell_type": "code",
   "execution_count": 138,
   "metadata": {
    "collapsed": false
   },
   "outputs": [
    {
     "ename": "KeyboardInterrupt",
     "evalue": "",
     "output_type": "error",
     "traceback": [
      "\u001b[0;31m---------------------------------------------------------------------------\u001b[0m",
      "\u001b[0;31mKeyboardInterrupt\u001b[0m                         Traceback (most recent call last)",
      "\u001b[0;32m<ipython-input-138-3f502a8d7c6e>\u001b[0m in \u001b[0;36m<module>\u001b[0;34m()\u001b[0m\n\u001b[1;32m      1\u001b[0m \u001b[0mmn\u001b[0m \u001b[0;34m=\u001b[0m \u001b[0mMNISTClassification\u001b[0m\u001b[0;34m(\u001b[0m\u001b[0;34m)\u001b[0m\u001b[0;34m\u001b[0m\u001b[0m\n\u001b[0;32m----> 2\u001b[0;31m \u001b[0mmn\u001b[0m\u001b[0;34m.\u001b[0m\u001b[0mfit\u001b[0m\u001b[0;34m(\u001b[0m\u001b[0mtrainingImgs\u001b[0m\u001b[0;34m,\u001b[0m \u001b[0mtrainingLabels\u001b[0m\u001b[0;34m,\u001b[0m \u001b[0mtestImgs\u001b[0m\u001b[0;34m,\u001b[0m \u001b[0mtestLabels\u001b[0m\u001b[0;34m,\u001b[0m \u001b[0;36m10000\u001b[0m\u001b[0;34m,\u001b[0m \u001b[0;36m1\u001b[0m\u001b[0;34m,\u001b[0m \u001b[0mT\u001b[0m \u001b[0;34m=\u001b[0m \u001b[0;36m50\u001b[0m\u001b[0;34m,\u001b[0m \u001b[0mnumHidden\u001b[0m \u001b[0;34m=\u001b[0m \u001b[0;36m60\u001b[0m\u001b[0;34m,\u001b[0m \u001b[0moptimize\u001b[0m \u001b[0;34m=\u001b[0m \u001b[0mTrue\u001b[0m\u001b[0;34m)\u001b[0m\u001b[0;34m\u001b[0m\u001b[0m\n\u001b[0m",
      "\u001b[0;32m<ipython-input-134-371fe326b513>\u001b[0m in \u001b[0;36mfit\u001b[0;34m(self, trainingImgs, trainingLabels, testImgs, testLabels, miniBatch, stepSize, T, checkGradient, numHidden, optimize)\u001b[0m\n\u001b[1;32m     28\u001b[0m         \u001b[0mself\u001b[0m\u001b[0;34m.\u001b[0m\u001b[0moptimize\u001b[0m \u001b[0;34m=\u001b[0m \u001b[0moptimize\u001b[0m\u001b[0;34m\u001b[0m\u001b[0m\n\u001b[1;32m     29\u001b[0m \u001b[0;34m\u001b[0m\u001b[0m\n\u001b[0;32m---> 30\u001b[0;31m         \u001b[0mself\u001b[0m\u001b[0;34m.\u001b[0m\u001b[0mtrain\u001b[0m\u001b[0;34m(\u001b[0m\u001b[0mtrainingImgs\u001b[0m\u001b[0;34m,\u001b[0m \u001b[0mtrainingLabels\u001b[0m\u001b[0;34m,\u001b[0m \u001b[0mtestImgs\u001b[0m\u001b[0;34m,\u001b[0m \u001b[0mtestLabels\u001b[0m\u001b[0;34m,\u001b[0m \u001b[0mw_ij\u001b[0m\u001b[0;34m,\u001b[0m \u001b[0mw_jk\u001b[0m\u001b[0;34m,\u001b[0m \u001b[0mminiBatch\u001b[0m\u001b[0;34m,\u001b[0m                   \u001b[0mself\u001b[0m\u001b[0;34m.\u001b[0m\u001b[0mstepSize\u001b[0m\u001b[0;34m,\u001b[0m \u001b[0mT\u001b[0m\u001b[0;34m,\u001b[0m \u001b[0mcheckGradient\u001b[0m\u001b[0;34m,\u001b[0m \u001b[0mnumHidden\u001b[0m\u001b[0;34m)\u001b[0m\u001b[0;34m\u001b[0m\u001b[0m\n\u001b[0m\u001b[1;32m     31\u001b[0m \u001b[0;34m\u001b[0m\u001b[0m\n\u001b[1;32m     32\u001b[0m     \u001b[0;32mdef\u001b[0m \u001b[0mpredictHidden\u001b[0m\u001b[0;34m(\u001b[0m\u001b[0mself\u001b[0m\u001b[0;34m,\u001b[0m \u001b[0mw_ij\u001b[0m\u001b[0;34m,\u001b[0m \u001b[0mX\u001b[0m\u001b[0;34m)\u001b[0m\u001b[0;34m:\u001b[0m\u001b[0;34m\u001b[0m\u001b[0m\n",
      "\u001b[0;32m<ipython-input-134-371fe326b513>\u001b[0m in \u001b[0;36mtrain\u001b[0;34m(self, X, y, testImgs, testLabels, w_ij, w_jk, batch, stepSize, T, checkGradient, numHidden)\u001b[0m\n\u001b[1;32m     99\u001b[0m                 \u001b[0;32mbreak\u001b[0m\u001b[0;34m\u001b[0m\u001b[0m\n\u001b[1;32m    100\u001b[0m \u001b[0;34m\u001b[0m\u001b[0m\n\u001b[0;32m--> 101\u001b[0;31m             \u001b[0mw_ij\u001b[0m \u001b[0;34m+=\u001b[0m \u001b[0mstepSize\u001b[0m \u001b[0;34m/\u001b[0m \u001b[0mlen\u001b[0m\u001b[0;34m(\u001b[0m\u001b[0mX_batch\u001b[0m\u001b[0;34m)\u001b[0m \u001b[0;34m*\u001b[0m \u001b[0mnp\u001b[0m\u001b[0;34m.\u001b[0m\u001b[0mdot\u001b[0m\u001b[0;34m(\u001b[0m\u001b[0mX_batch\u001b[0m\u001b[0;34m.\u001b[0m\u001b[0mT\u001b[0m\u001b[0;34m,\u001b[0m \u001b[0mdelta_j\u001b[0m\u001b[0;34m)\u001b[0m\u001b[0;34m\u001b[0m\u001b[0m\n\u001b[0m\u001b[1;32m    102\u001b[0m             \u001b[0mw_jk\u001b[0m \u001b[0;34m+=\u001b[0m \u001b[0mstepSize\u001b[0m \u001b[0;34m/\u001b[0m \u001b[0mlen\u001b[0m\u001b[0;34m(\u001b[0m\u001b[0mX_batch\u001b[0m\u001b[0;34m)\u001b[0m \u001b[0;34m*\u001b[0m \u001b[0mnp\u001b[0m\u001b[0;34m.\u001b[0m\u001b[0mdot\u001b[0m\u001b[0;34m(\u001b[0m\u001b[0mZ_batch\u001b[0m\u001b[0;34m.\u001b[0m\u001b[0mT\u001b[0m\u001b[0;34m,\u001b[0m \u001b[0mdelta_k\u001b[0m\u001b[0;34m)\u001b[0m\u001b[0;34m\u001b[0m\u001b[0m\n\u001b[1;32m    103\u001b[0m \u001b[0;34m\u001b[0m\u001b[0m\n",
      "\u001b[0;31mKeyboardInterrupt\u001b[0m: "
     ]
    }
   ],
   "source": [
    "mn = MNISTClassification()\n",
    "mn.fit(trainingImgs, trainingLabels, testImgs, testLabels, 10000, 1, T = 50, numHidden = 60, optimize = True)"
   ]
  },
  {
   "cell_type": "code",
   "execution_count": 129,
   "metadata": {
    "collapsed": false
   },
   "outputs": [
    {
     "data": {
      "image/png": "[encoded data removed]",
      "text/plain": [
       "<matplotlib.figure.Figure at 0x106b94fd0>"
      ]
     },
     "metadata": {},
     "output_type": "display_data"
    }
   ],
   "source": [
    "plotUpdate(mn.trainAccuracyPath, mn.validationAccuracyPath, mn.testAccuracyPath, 'Correction rate over training',\n",
    "           'training set', 'validation set','test set', \"percent correct classification\",[0.7,0.95], True)\n",
    "# plt.savefig('part3_whole_1000iter.png', bbox_inches='tight') #Number iteration: 1000 , correction rate: 0.928116666667"
   ]
  },
  {
   "cell_type": "code",
   "execution_count": 80,
   "metadata": {
    "collapsed": false
   },
   "outputs": [
    {
     "name": "stdout",
     "output_type": "stream",
     "text": [
      "Check gradient diff: (2.2194123897728568e-07, 8.515097318362308e-07)\n"
     ]
    }
   ],
   "source": [
    "checkGradient = MNISTClassification()\n",
    "checkGradient.fit(trainingImgs[:1], trainingLabels[:1], testImgs, testLabels, 1, 1, checkGradient = True)"
   ]
  },
  {
   "cell_type": "code",
   "execution_count": 156,
   "metadata": {
    "collapsed": false
   },
   "outputs": [],
   "source": [
    "randomData = zip(trainingImgs, trainingLabels)\n",
    "random.seed(1)\n",
    "random.shuffle(randomData)\n",
    "randomTrainImgs, randomTrainLabels = np.array(map(lambda x:x[0], randomData)), np.array(map(lambda x:x[1], randomData))"
   ]
  },
  {
   "cell_type": "code",
   "execution_count": 164,
   "metadata": {
    "collapsed": false
   },
   "outputs": [
    {
     "name": "stdout",
     "output_type": "stream",
     "text": [
      "Number iteration: 10 , correction rate: 0.815783333333\n",
      "Number iteration: 20 , correction rate: 0.824366666667\n",
      "Number iteration: 30 , correction rate: 0.824316666667\n",
      "Number iteration: 40 , correction rate: 0.828266666667\n",
      "Number iteration: 50 , correction rate: 0.8332\n"
     ]
    }
   ],
   "source": [
    "optimalMN = MNISTClassification()\n",
    "optimalMN.fit(randomTrainImgs, randomTrainLabels, testImgs, testLabels, 10000, 0.5, T = 50, numHidden = 60, maxIter = 50, optimize = True )"
   ]
  },
  {
   "cell_type": "code",
   "execution_count": 163,
   "metadata": {
    "collapsed": false
   },
   "outputs": [
    {
     "data": {
      "image/png": "[encoded data removed]",
      "text/plain": [
       "<matplotlib.figure.Figure at 0x10702f5d0>"
      ]
     },
     "metadata": {},
     "output_type": "display_data"
    }
   ],
   "source": [
    "plotUpdate(optimalMN.trainAccuracyPath, optimalMN.validationAccuracyPath, optimalMN.testAccuracyPath, 'Correction rate over training',\n",
    "           'training set', 'validation set','test set', \"percent correct classification\",[0.7,0.95], True)"
   ]
  },
  {
   "cell_type": "code",
   "execution_count": 17,
   "metadata": {
    "collapsed": true
   },
   "outputs": [],
   "source": [
    "def plotUpdate(first, second, third, title, firstLabel, secondLabel, thirdLabel, ylabel, ylim, loc = False):\n",
    "    firstLine, = plt.plot([i for i in range(0,len(first))], first)\n",
    "    secontLine, = plt.plot([i for i in range(0,len(second))], second)\n",
    "    thirdLine, = plt.plot([i for i in range(0,len(third))], third)\n",
    "    plt.xlabel('t')\n",
    "    plt.ylim(ylim)\n",
    "    plt.ylabel(ylabel)\n",
    "    plt.title(title)\n",
    "    if loc:\n",
    "        plt.legend([firstLine, secontLine, thirdLine], [firstLabel, secondLabel, thirdLabel], loc = (0.624,0))\n",
    "    else:\n",
    "        plt.legend([firstLine, secontLine, thirdLine], [firstLabel, secondLabel, thirdLabel])\n",
    "    plt.grid(True)"
   ]
  },
  {
   "cell_type": "code",
   "execution_count": 90,
   "metadata": {
    "collapsed": false
   },
   "outputs": [],
   "source": [
    "a = np.array([[1,2],[3,4],[5,6]])\n",
    "X = np.hstack([np.ones((len(a),1)), a])"
   ]
  },
  {
   "cell_type": "code",
   "execution_count": 91,
   "metadata": {
    "collapsed": false
   },
   "outputs": [
    {
     "data": {
      "text/plain": [
       "array([[ 1.,  1.,  2.],\n",
       "       [ 1.,  3.,  4.],\n",
       "       [ 1.,  5.,  6.]])"
      ]
     },
     "execution_count": 91,
     "metadata": {},
     "output_type": "execute_result"
    }
   ],
   "source": [
    "X"
   ]
  },
  {
   "cell_type": "code",
   "execution_count": null,
   "metadata": {
    "collapsed": true
   },
   "outputs": [],
   "source": []
  }
 ],
 "metadata": {
  "kernelspec": {
   "display_name": "Python 2",
   "language": "python",
   "name": "python2"
  },
  "language_info": {
   "codemirror_mode": {
    "name": "ipython",
    "version": 2
   },
   "file_extension": ".py",
   "mimetype": "text/x-python",
   "name": "python",
   "nbconvert_exporter": "python",
   "pygments_lexer": "ipython2",
   "version": "2.7.10"
  }
 },
 "nbformat": 4,
 "nbformat_minor": 0
}
