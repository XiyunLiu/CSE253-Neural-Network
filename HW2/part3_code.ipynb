{
 "cells": [
  {
   "cell_type": "code",
   "execution_count": 3,
   "metadata": {
    "collapsed": true
   },
   "outputs": [],
   "source": [
    "%matplotlib inline"
   ]
  },
  {
   "cell_type": "code",
   "execution_count": 4,
   "metadata": {
    "collapsed": false
   },
   "outputs": [],
   "source": [
    "import numpy as np\n",
    "import matplotlib.pyplot as plt\n",
    "import random\n",
    "import math"
   ]
  },
  {
   "cell_type": "code",
   "execution_count": 5,
   "metadata": {
    "collapsed": true
   },
   "outputs": [],
   "source": [
    "def plotUpdate(first, second, third, title, firstLabel, secondLabel, thirdLabel, ylabel, ylim, loc = False):\n",
    "    firstLine, = plt.plot([i for i in range(0,len(first))], first)\n",
    "    secontLine, = plt.plot([i for i in range(0,len(second))], second)\n",
    "    thirdLine, = plt.plot([i for i in range(0,len(third))], third)\n",
    "    plt.xlabel('t')\n",
    "    plt.ylim(ylim)\n",
    "    plt.ylabel(ylabel)\n",
    "    plt.title(title)\n",
    "    if loc:\n",
    "        plt.legend([firstLine, secontLine, thirdLine], [firstLabel, secondLabel, thirdLabel], loc = (0.624,0))\n",
    "    else:\n",
    "        plt.legend([firstLine, secontLine, thirdLine], [firstLabel, secondLabel, thirdLabel])\n",
    "    plt.grid(True)"
   ]
  },
  {
   "cell_type": "code",
   "execution_count": 6,
   "metadata": {
    "collapsed": false
   },
   "outputs": [],
   "source": [
    "import os\n",
    "import struct\n",
    "from array import array\n",
    "\n",
    "\n",
    "class MNIST(object):\n",
    "    def __init__(self, path='../HW1/dataset'):\n",
    "        self.path = path\n",
    "\n",
    "        self.test_img_fname = 't10k-images-idx3-ubyte'\n",
    "        self.test_lbl_fname = 't10k-labels-idx1-ubyte'\n",
    "\n",
    "        self.train_img_fname = 'train-images-idx3-ubyte'\n",
    "        self.train_lbl_fname = 'train-labels-idx1-ubyte'\n",
    "\n",
    "        self.test_images = []\n",
    "        self.test_labels = []\n",
    "\n",
    "        self.train_images = []\n",
    "        self.train_labels = []\n",
    "\n",
    "    def load_testing(self):\n",
    "        ims, labels = self.load(os.path.join(self.path, self.test_img_fname),\n",
    "                                os.path.join(self.path, self.test_lbl_fname))\n",
    "        ims = map(lambda img: img, ims)\n",
    "        self.test_images = ims\n",
    "        self.test_labels = labels\n",
    "        ims = map(lambda img: [255]+img, ims)\n",
    "        ims = np.array(ims)*1.0/255\n",
    "        mean = ims.sum(axis=1)[:,None]/785\n",
    "        ims -= mean\n",
    "        return ims, np.array(labels)\n",
    "\n",
    "    def load_training(self):\n",
    "        ims, labels = self.load(os.path.join(self.path, self.train_img_fname),\n",
    "                                os.path.join(self.path, self.train_lbl_fname))\n",
    "        ims = map(lambda img: img, ims)\n",
    "        self.train_images = ims\n",
    "        self.train_labels = labels\n",
    "        ims = map(lambda img: [255]+img, ims)\n",
    "        ims = np.array(ims)*1.0/255\n",
    "        mean = ims.sum(axis=1)[:,None]/785\n",
    "        ims -= mean\n",
    "        return ims, np.array(labels)\n",
    "\n",
    "    @classmethod\n",
    "    def load(cls, path_img, path_lbl):\n",
    "        with open(path_lbl, 'rb') as file:\n",
    "            magic, size = struct.unpack(\">II\", file.read(8))\n",
    "            if magic != 2049:\n",
    "                raise ValueError('Magic number mismatch, expected 2049,'\n",
    "                                 'got {}'.format(magic))\n",
    "\n",
    "            labels = array(\"B\", file.read())\n",
    "\n",
    "        with open(path_img, 'rb') as file:\n",
    "            magic, size, rows, cols = struct.unpack(\">IIII\", file.read(16))\n",
    "            if magic != 2051:\n",
    "                raise ValueError('Magic number mismatch, expected 2051,'\n",
    "                                 'got {}'.format(magic))\n",
    "\n",
    "            image_data = array(\"B\", file.read())\n",
    "\n",
    "        images = []\n",
    "        for i in range(size):\n",
    "            images.append([0] * rows * cols)\n",
    "\n",
    "        for i in range(size):\n",
    "            images[i][:] = image_data[i * rows * cols:(i + 1) * rows * cols]\n",
    "\n",
    "        return images, labels\n",
    "  \n",
    "\n",
    "    def showImage(self, imageArray, title = \"\", xlabel = \"\"):\n",
    "        imageArray = imageArray.reshape((28,28))\n",
    "        fig = plt.figure()\n",
    "        plotwindow = fig.add_subplot(111)\n",
    "        plt.xlabel(title)\n",
    "        \n",
    "        plt.imshow(imageArray, cmap='gray')\n",
    "        plt.show()"
   ]
  },
  {
   "cell_type": "code",
   "execution_count": 7,
   "metadata": {
    "collapsed": false
   },
   "outputs": [],
   "source": [
    "mnist = MNIST()\n",
    "trainingImgs, trainingLabels = mnist.load_training()\n",
    "testImgs, testLabels = mnist.load_testing()"
   ]
  },
  {
   "cell_type": "code",
   "execution_count": 34,
   "metadata": {
    "collapsed": false
   },
   "outputs": [],
   "source": [
    "class MNISTClassification():\n",
    "    def __init__(self):\n",
    "        self.stepSize = 1e-3\n",
    "        self.maxIter = 0\n",
    "        self.w_jk = None\n",
    "        self.w_ij = None\n",
    "        self.numHidden = 60\n",
    "        self.numClass = 10\n",
    "        self.epsilon = 1e-2 # for check gradient\n",
    "        \n",
    "        self.trainAccuracyPath = []\n",
    "        self.validationAccuracyPath = []\n",
    "        self.testAccuracyPath = []\n",
    "        self.maxValidationAccuracy = -1\n",
    "        self.w_ijPath = []\n",
    "        self.w_jkPath = []\n",
    "        self.preHiddenGradient = 0\n",
    "        self.preOutputGradient = 0\n",
    "        self.optimize = False\n",
    "        \n",
    "    def fit(self, trainingImgs, trainingLabels, testImgs, testLabels, miniBatch,\\\n",
    "            stepSize = None, T = 1000, checkGradient = False, numHidden = 60, maxIter = 1000, optimize = False):\n",
    "        self.numHidden = numHidden\n",
    "        np.random.seed(0)\n",
    "        w_ij = np.random.normal(0, 0.1, size = (len(trainingImgs[0]), self.numHidden))\n",
    "        w_jk = np.random.normal(0, 0.1, size = (self.numHidden + 1, self.numClass))\n",
    "        if optimize:\n",
    "            w_ij = np.random.normal(0, 1/math.sqrt(len(trainingImgs[0])), size = (len(trainingImgs[0]), self.numHidden))\n",
    "            w_jk = np.random.normal(0, 1/math.sqrt(self.numHidden), size = (self.numHidden + 1, self.numClass))\n",
    "        if stepSize:\n",
    "            self.stepSize = stepSize\n",
    "        self.optimize = optimize\n",
    "        \n",
    "        self.maxIter = maxIter\n",
    "        \n",
    "        self.train(trainingImgs, trainingLabels, testImgs, testLabels, w_ij, w_jk, miniBatch,\\\n",
    "                   self.stepSize, T, checkGradient, numHidden)\n",
    "        \n",
    "    def predictHidden(self, w_ij, X):\n",
    "        '''\n",
    "        X: batch * 784\n",
    "        w_ij: 784 * j\n",
    "        return: Z batch * j\n",
    "        '''\n",
    "        if self.optimize:\n",
    "            return 1.7159*np.tanh(2./3.*np.dot(X, w_ij)) # part4\n",
    "        return 1/(1+np.exp(-np.dot(X, w_ij))) #part3\n",
    "    \n",
    "    def predictOutput(self, w_jk, Z):\n",
    "        '''\n",
    "        Z: batch * j\n",
    "        w_jk: j * 10(= k)\n",
    "        return: prob y batch * 10(=k)\n",
    "        '''\n",
    "        expProb = np.exp(np.dot(Z, w_jk))\n",
    "        probability = expProb/expProb.sum(axis=1)[:,None] # batch * k\n",
    "        return probability\n",
    "    \n",
    "    def loss(self, X, y, t, w_ij, w_jk):\n",
    "        '''\n",
    "        X: batch * 784\n",
    "        y: batch\n",
    "        w_ij: 784 * j\n",
    "        w_jk: j * 10(=k)\n",
    "        '''\n",
    "        loss = 0\n",
    "        Z = self.predictHidden(w_ij, X)\n",
    "        probability = self.predictOutput(w_jk, Z)\n",
    "        return -np.sum(t*np.log(probability))\n",
    "    \n",
    "    def train(self, X, y, testImgs, testLabels, w_ij, w_jk, batch, stepSize, T, checkGradient, numHidden):\n",
    "        numIter = 0\n",
    "        start = 0\n",
    "        stepSize_ini = stepSize\n",
    "        \n",
    "        partial = int(math.ceil(len(X)/6.*5.))\n",
    "        validationImgs = X[partial:]\n",
    "        validationLabels = y[partial:]\n",
    "        X = X[:partial]\n",
    "        y = y[:partial]\n",
    "        \n",
    "        while numIter < self.maxIter:\n",
    "#             stepSize = stepSize_ini * 1./(1 + numIter*1./T)\n",
    "            end = min(start + batch, len(X))\n",
    "                \n",
    "            X_batch = X[start: end]\n",
    "            y_batch = y[start: end]\n",
    "            \n",
    "            Z_batch = self.predictHidden(w_ij, X_batch) # batch * j\n",
    "            Z_batch = np.hstack([np.ones((len(Z_batch),1)), Z_batch]) #  batch * (j+1)(add bias to Z)\n",
    "            probability = self.predictOutput(w_jk, Z_batch) # batch * 10  \n",
    "            \n",
    "            t_batch = np.zeros((len(y_batch), self.numClass)) # batch * 10\n",
    "            for n in range(0, len(y_batch)):\n",
    "                t_batch[n, y[n]] = 1\n",
    "            \n",
    "            delta_k = t_batch - probability\n",
    "            \n",
    "            if self.optimize: # tanh softmax for hiddenlayer\n",
    "                delta_j = (2./3*(1.7159 - (Z_batch**2)/1.7159)* np.dot(delta_k, w_jk.T))[:,1:]# batch*j #part4\n",
    "            else:\n",
    "                delta_j = (Z_batch*(1-Z_batch)*np.dot(delta_k, w_jk.T))[:, 1:] # batch * j #part3 delete\n",
    "            \n",
    "            if checkGradient:\n",
    "                print \"Check gradient diff:\", self.checkGradient(-delta_j, -delta_k, t_batch, X_batch, y_batch, Z_batch, w_ij, w_jk)\n",
    "                break\n",
    "                \n",
    "            w_ij += stepSize / len(X_batch) * np.dot(X_batch.T, delta_j)\n",
    "            w_jk += stepSize / len(X_batch) * np.dot(Z_batch.T, delta_k) \n",
    "            \n",
    "            if self.optimize: # momentum\n",
    "                w_ij += 0.9*self.preHiddenGradient\n",
    "                w_jk += 0.9*self.preOutputGradient\n",
    "                self.preHiddenGradient = stepSize / len(X_batch) * np.dot(X_batch.T, delta_j) + 0.9*self.preHiddenGradient\n",
    "                self.preOutputGradient = stepSize / len(X_batch) * np.dot(Z_batch.T, delta_k) + 0.9*self.preOutputGradient\n",
    "                \n",
    "            start = end\n",
    "            \n",
    "            if start >= len(X):\n",
    "                start = 0\n",
    "                numIter += 1\n",
    "                stepSize = stepSize_ini * 1./(1 + numIter*1./T)\n",
    "                self.trainAccuracyPath.append(self.test(X, y, w_ij, w_jk))\n",
    "                validationAccuracy = self.test(validationImgs, validationLabels, w_ij, w_jk)\n",
    "                self.validationAccuracyPath.append(validationAccuracy)\n",
    "                \n",
    "                # record the weights where the validation accuracy is maximum\n",
    "                if validationAccuracy > self.maxValidationAccuracy:\n",
    "                    self.w_ij = w_ij\n",
    "                    self.w_jk = w_jk\n",
    "                    self.maxValidationAccuracy = validationAccuracy\n",
    "                self.testAccuracyPath.append(self.test(trainingImgs, trainingLabels, w_ij, w_jk))\n",
    "                \n",
    "                # early stopping\n",
    "                if len(self.validationAccuracyPath) > 100 and \\\n",
    "                self.validationAccuracyPath[-4] > self.validationAccuracyPath[-3] > \\\n",
    "                self.validationAccuracyPath[-2] > self.validationAccuracyPath[-1]:\n",
    "                    print \"Converge at \", numIter, \"final correction rate is\", self.testAccuracyPath[-3]\n",
    "#                     break\n",
    "                    \n",
    "                if numIter % 10 == 0:\n",
    "                    print \"Number iteration:\", numIter,\", correction rate:\", self.testAccuracyPath[-1]\n",
    "#                     \"cost:\",-np.sum(t_batch*np.log(probability))\n",
    "                    \n",
    "\n",
    "    def checkGradient(self, hiddenLayerGradient, OutputLayerGradient, t, X, y, Z, w_ij, w_jk):\n",
    "        # Check w_ij gradient\n",
    "        hiddenLayerGradient = np.dot(X.T, hiddenLayerGradient)/len(X) # i*j\n",
    "        gradientDiffWij = np.zeros(hiddenLayerGradient.shape) # i*j\n",
    "        epsilonMatrix = np.zeros(w_ij.shape)\n",
    "        for i in range(0, len(w_ij)):\n",
    "            for j in range(0, len(w_ij[0])):\n",
    "                epsilonMatrix[i][j] += self.epsilon\n",
    "                Z1 = self.predictHidden(w_ij + epsilonMatrix, X)\n",
    "                probability1 = self.predictOutput(w_jk, np.hstack([np.ones((len(Z1),1)), Z1]))\n",
    "                Z2 = self.predictHidden(w_ij - epsilonMatrix, X)\n",
    "                probability2 = self.predictOutput(w_jk, np.hstack([np.ones((len(Z2),1)), Z2]))\n",
    "                E1 = -np.sum(t*np.log(probability1))\n",
    "                E2 = -np.sum(t*np.log(probability2))\n",
    "                gradientDiffWij[i][j] = abs(hiddenLayerGradient[i][j] - (E1-E2)/2/self.epsilon)\n",
    "                epsilonMatrix[i][j] -= self.epsilon\n",
    "        # check w_jk gradient\n",
    "        epsilonMatrix = np.zeros(w_jk.shape)\n",
    "        OutputLayerGradient = np.dot(Z.T, OutputLayerGradient)/len(Z) # j*k\n",
    "        gradientDiffWjk = np.zeros(OutputLayerGradient.shape) # j*k\n",
    "        for j in range(0, len(w_jk)):\n",
    "            for k in range(0, len(w_jk[0])):\n",
    "                epsilonMatrix[j][k] += self.epsilon\n",
    "                probability1 = self.predictOutput(w_jk + epsilonMatrix, Z)\n",
    "                probability2 = self.predictOutput(w_jk - epsilonMatrix, Z)\n",
    "                E1 = -np.sum(t*np.log(probability1))\n",
    "                E2 = -np.sum(t*np.log(probability2))\n",
    "                gradientDiffWjk[j][k] = abs(OutputLayerGradient[j][k] - (E1-E2)/2/self.epsilon)\n",
    "                epsilonMatrix[j][k] -= self.epsilon\n",
    "\n",
    "        return np.mean(gradientDiffWij), np.mean(gradientDiffWjk), np.max(gradientDiffWij), np.max(gradientDiffWjk)\n",
    "    \n",
    "    def test(self, X, y, w_ij, w_jk):\n",
    "        Z = self.predictHidden(w_ij, X)\n",
    "        probability = self.predictOutput(w_jk, np.hstack([np.ones((len(Z),1)), Z]))\n",
    "        predict = np.argmax(probability, axis=1) # batch\n",
    "        match = filter(lambda x: x[0] == x[1], zip(predict, y))\n",
    "        return len(match)*1.0/len(y)"
   ]
  },
  {
   "cell_type": "code",
   "execution_count": 73,
   "metadata": {
    "collapsed": false
   },
   "outputs": [
    {
     "name": "stdout",
     "output_type": "stream",
     "text": [
      "Number iteration: 10 , correction rate: 0.633933333333\n",
      "Number iteration: 20 , correction rate: 0.862633333333\n",
      "Number iteration: 30 , correction rate: 0.9024\n",
      "Number iteration: 40 , correction rate: 0.936616666667\n",
      "Number iteration: 50 , correction rate: 0.951666666667\n",
      "Number iteration: 60 , correction rate: 0.959616666667\n",
      "Number iteration: 70 , correction rate: 0.965383333333\n",
      "Number iteration: 80 , correction rate: 0.969933333333\n",
      "Number iteration: 90 , correction rate: 0.973116666667\n",
      "Number iteration: 100 , correction rate: 0.97515\n",
      "Number iteration: 110 , correction rate: 0.976966666667\n",
      "Number iteration: 120 , correction rate: 0.978983333333\n",
      "Number iteration: 130 , correction rate: 0.980466666667\n",
      "Number iteration: 140 , correction rate: 0.98175\n",
      "Number iteration: 150 , correction rate: 0.982983333333\n",
      "Number iteration: 160 , correction rate: 0.984183333333\n",
      "Number iteration: 170 , correction rate: 0.985366666667\n",
      "Number iteration: 180 , correction rate: 0.98635\n",
      "Number iteration: 190 , correction rate: 0.987083333333\n",
      "Number iteration: 200 , correction rate: 0.987916666667\n",
      "Number iteration: 210 , correction rate: 0.9885\n",
      "Number iteration: 220 , correction rate: 0.98905\n",
      "Number iteration: 230 , correction rate: 0.989533333333\n",
      "Number iteration: 240 , correction rate: 0.990116666667\n",
      "Number iteration: 250 , correction rate: 0.990466666667\n",
      "Number iteration: 260 , correction rate: 0.9907\n",
      "Number iteration: 270 , correction rate: 0.991116666667\n",
      "Number iteration: 280 , correction rate: 0.991433333333\n",
      "Number iteration: 290 , correction rate: 0.991716666667\n",
      "Number iteration: 300 , correction rate: 0.992083333333\n",
      "Number iteration: 310 , correction rate: 0.992383333333\n",
      "Number iteration: 320 , correction rate: 0.992533333333\n",
      "Number iteration: 330 , correction rate: 0.992683333333\n",
      "Number iteration: 340 , correction rate: 0.99285\n",
      "Number iteration: 350 , correction rate: 0.99305\n",
      "Number iteration: 360 , correction rate: 0.9932\n",
      "Number iteration: 370 , correction rate: 0.993333333333\n",
      "Number iteration: 380 , correction rate: 0.9935\n",
      "Number iteration: 390 , correction rate: 0.993583333333\n",
      "Number iteration: 400 , correction rate: 0.993683333333\n",
      "Number iteration: 410 , correction rate: 0.9938\n",
      "Number iteration: 420 , correction rate: 0.9939\n",
      "Number iteration: 430 , correction rate: 0.994066666667\n",
      "Number iteration: 440 , correction rate: 0.9942\n",
      "Number iteration: 450 , correction rate: 0.994283333333\n",
      "Number iteration: 460 , correction rate: 0.994366666667\n",
      "Number iteration: 470 , correction rate: 0.9944\n",
      "Number iteration: 480 , correction rate: 0.994433333333\n",
      "Number iteration: 490 , correction rate: 0.994433333333\n",
      "Number iteration: 500 , correction rate: 0.994433333333\n",
      "Number iteration: 510 , correction rate: 0.99445\n",
      "Number iteration: 520 , correction rate: 0.994466666667\n",
      "Number iteration: 530 , correction rate: 0.994533333333\n",
      "Number iteration: 540 , correction rate: 0.994533333333\n",
      "Number iteration: 550 , correction rate: 0.994566666667\n",
      "Number iteration: 560 , correction rate: 0.994616666667\n",
      "Number iteration: 570 , correction rate: 0.994633333333\n",
      "Number iteration: 580 , correction rate: 0.994666666667\n",
      "Number iteration: 590 , correction rate: 0.994683333333\n",
      "Number iteration: 600 , correction rate: 0.9947\n",
      "Number iteration: 610 , correction rate: 0.99475\n",
      "Number iteration: 620 , correction rate: 0.994766666667\n",
      "Number iteration: 630 , correction rate: 0.994766666667\n",
      "Number iteration: 640 , correction rate: 0.9948\n",
      "Number iteration: 650 , correction rate: 0.994833333333\n",
      "Number iteration: 660 , correction rate: 0.994883333333\n",
      "Number iteration: 670 , correction rate: 0.994933333333\n",
      "Number iteration: 680 , correction rate: 0.99495\n",
      "Number iteration: 690 , correction rate: 0.994983333333\n",
      "Number iteration: 700 , correction rate: 0.995016666667\n",
      "Number iteration: 710 , correction rate: 0.99505\n",
      "Number iteration: 720 , correction rate: 0.995016666667\n",
      "Number iteration: 730 , correction rate: 0.995033333333\n",
      "Number iteration: 740 , correction rate: 0.99505\n",
      "Number iteration: 750 , correction rate: 0.995083333333\n",
      "Number iteration: 760 , correction rate: 0.995116666667\n",
      "Number iteration: 770 , correction rate: 0.995133333333\n",
      "Number iteration: 780 , correction rate: 0.995133333333\n",
      "Number iteration: 790 , correction rate: 0.995116666667\n",
      "Number iteration: 800 , correction rate: 0.995116666667\n",
      "Number iteration: 810 , correction rate: 0.995116666667\n",
      "Number iteration: 820 , correction rate: 0.995133333333\n",
      "Number iteration: 830 , correction rate: 0.995166666667\n",
      "Number iteration: 840 , correction rate: 0.99515\n",
      "Number iteration: 850 , correction rate: 0.99515\n",
      "Number iteration: 860 , correction rate: 0.99515\n",
      "Number iteration: 870 , correction rate: 0.995133333333\n",
      "Number iteration: 880 , correction rate: 0.995116666667\n",
      "Number iteration: 890 , correction rate: 0.99515\n",
      "Number iteration: 900 , correction rate: 0.99515\n",
      "Number iteration: 910 , correction rate: 0.99515\n",
      "Number iteration: 920 , correction rate: 0.995166666667\n",
      "Number iteration: 930 , correction rate: 0.995183333333\n",
      "Number iteration: 940 , correction rate: 0.995183333333\n",
      "Number iteration: 950 , correction rate: 0.9952\n",
      "Number iteration: 960 , correction rate: 0.9952\n",
      "Number iteration: 970 , correction rate: 0.9952\n",
      "Number iteration: 980 , correction rate: 0.995216666667\n",
      "Number iteration: 990 , correction rate: 0.995216666667\n",
      "Number iteration: 1000 , correction rate: 0.995216666667\n"
     ]
    }
   ],
   "source": [
    "mn = MNISTClassification()\n",
    "mn.fit(trainingImgs, trainingLabels, testImgs, testLabels, 60000, 1, T = 700, numHidden = 120, maxIter = 1000, optimize = True)"
   ]
  },
  {
   "cell_type": "code",
   "execution_count": 74,
   "metadata": {
    "collapsed": false
   },
   "outputs": [
    {
     "data": {
      "image/png": "[encoded data removed]",
      "text/plain": [
       "<matplotlib.figure.Figure at 0x106eb0b10>"
      ]
     },
     "metadata": {},
     "output_type": "display_data"
    }
   ],
   "source": [
    "plotUpdate(mn.trainAccuracyPath, mn.validationAccuracyPath, mn.testAccuracyPath, 'Correction rate over training',\n",
    "           'training set', 'validation set','test set', \"percent correct classification\",[0.7,1.01], True)\n",
    "plt.savefig('part5_whole_120unit_1_700.png', bbox_inches='tight') #Number iteration: 1000 , correction rate: 0.928116666667"
   ]
  },
  {
   "cell_type": "code",
   "execution_count": 75,
   "metadata": {
    "collapsed": false
   },
   "outputs": [
    {
     "name": "stdout",
     "output_type": "stream",
     "text": [
      "100 & 0.97782 & 0.9618 & 0.97515\n",
      "200 & 0.99186 & 0.9682 & 0.987916666667\n",
      "300 & 0.99654 & 0.9698 & 0.992083333333\n",
      "400 & 0.99836 & 0.9703 & 0.993683333333\n",
      "500 & 0.99924 & 0.9704 & 0.994433333333\n",
      "600 & 0.99958 & 0.9703 & 0.9947\n",
      "700 & 0.99982 & 0.971 & 0.995016666667\n",
      "800 & 0.99992 & 0.9711 & 0.995116666667\n",
      "900 & 0.99996 & 0.9711 & 0.99515\n",
      "1000 & 0.99998 & 0.9714 & 0.995216666667\n"
     ]
    }
   ],
   "source": [
    "for i in [100,200,300,400,500,600,700,800,900,1000]:\n",
    "    print i,\"&\",mn.trainAccuracyPath[i-1],\"&\", mn.validationAccuracyPath[i-1],\"&\", mn.testAccuracyPath[i-1]"
   ]
  },
  {
   "cell_type": "code",
   "execution_count": 181,
   "metadata": {
    "collapsed": false
   },
   "outputs": [
    {
     "name": "stdout",
     "output_type": "stream",
     "text": [
      "0.99966\n"
     ]
    }
   ],
   "source": [
    "print mn.trainAccuracyPath[-1]"
   ]
  },
  {
   "cell_type": "code",
   "execution_count": 9,
   "metadata": {
    "collapsed": false
   },
   "outputs": [
    {
     "name": "stdout",
     "output_type": "stream",
     "text": [
      "Check gradient diff: (1.1916369640615067e-08, 1.5967735680372368e-07, 3.3150166168366413e-07, 1.6028107083787546e-06)\n"
     ]
    }
   ],
   "source": [
    "checkGradient = MNISTClassification()\n",
    "checkGradient.fit(trainingImgs[:1], trainingLabels[:1], testImgs, testLabels, 1, 1, checkGradient = True)"
   ]
  },
  {
   "cell_type": "code",
   "execution_count": 54,
   "metadata": {
    "collapsed": false
   },
   "outputs": [],
   "source": [
    "randomData = zip(trainingImgs, trainingLabels)\n",
    "random.seed(2)\n",
    "random.shuffle(randomData)\n",
    "randomTrainImgs, randomTrainLabels = np.array(map(lambda x:x[0], randomData)), np.array(map(lambda x:x[1], randomData))"
   ]
  },
  {
   "cell_type": "code",
   "execution_count": 106,
   "metadata": {
    "collapsed": false
   },
   "outputs": [
    {
     "name": "stdout",
     "output_type": "stream",
     "text": [
      "Number iteration: 10 , correction rate: 0.13445\n",
      "Number iteration: 20 , correction rate: 0.154633333333\n",
      "Number iteration: 30 , correction rate: 0.166466666667\n",
      "Number iteration: 40 , correction rate: 0.173533333333\n",
      "Number iteration: 50 , correction rate: 0.1785\n",
      "Number iteration: 60 , correction rate: 0.182666666667\n",
      "Number iteration: 70 , correction rate: 0.185733333333\n",
      "Number iteration: 80 , correction rate: 0.18845\n",
      "Number iteration: 90 , correction rate: 0.19085\n",
      "Number iteration: 100 , correction rate: 0.193\n",
      "Number iteration: 110 , correction rate: 0.19475\n",
      "Number iteration: 120 , correction rate: 0.1964\n",
      "Number iteration: 130 , correction rate: 0.197483333333\n",
      "Number iteration: 140 , correction rate: 0.198816666667\n",
      "Number iteration: 150 , correction rate: 0.199916666667\n",
      "Number iteration: 160 , correction rate: 0.201033333333\n",
      "Number iteration: 170 , correction rate: 0.202\n",
      "Number iteration: 180 , correction rate: 0.2027\n",
      "Number iteration: 190 , correction rate: 0.203716666667\n",
      "Number iteration: 200 , correction rate: 0.20445\n",
      "Number iteration: 210 , correction rate: 0.205083333333\n",
      "Number iteration: 220 , correction rate: 0.205983333333\n",
      "Number iteration: 230 , correction rate: 0.206483333333\n",
      "Number iteration: 240 , correction rate: 0.207266666667\n",
      "Number iteration: 250 , correction rate: 0.2078\n",
      "Number iteration: 260 , correction rate: 0.208483333333\n",
      "Number iteration: 270 , correction rate: 0.208966666667\n",
      "Number iteration: 280 , correction rate: 0.209733333333\n",
      "Number iteration: 290 , correction rate: 0.210166666667\n",
      "Number iteration: 300 , correction rate: 0.210433333333\n",
      "Number iteration: 310 , correction rate: 0.21065\n",
      "Number iteration: 320 , correction rate: 0.211066666667\n",
      "Number iteration: 330 , correction rate: 0.211483333333\n",
      "Number iteration: 340 , correction rate: 0.211733333333\n",
      "Number iteration: 350 , correction rate: 0.212166666667\n",
      "Number iteration: 360 , correction rate: 0.212466666667\n",
      "Number iteration: 370 , correction rate: 0.212766666667\n",
      "Number iteration: 380 , correction rate: 0.213\n",
      "Number iteration: 390 , correction rate: 0.213133333333\n",
      "Number iteration: 400 , correction rate: 0.213466666667\n",
      "Number iteration: 410 , correction rate: 0.213533333333\n",
      "Number iteration: 420 , correction rate: 0.21365\n",
      "Number iteration: 430 , correction rate: 0.213866666667\n",
      "Number iteration: 440 , correction rate: 0.214066666667\n",
      "Number iteration: 450 , correction rate: 0.214216666667\n",
      "Number iteration: 460 , correction rate: 0.214416666667\n",
      "Number iteration: 470 , correction rate: 0.2147\n",
      "Number iteration: 480 , correction rate: 0.21495\n",
      "Number iteration: 490 , correction rate: 0.215183333333\n",
      "Number iteration: 500 , correction rate: 0.215533333333\n",
      "Number iteration: 510 , correction rate: 0.21565\n",
      "Number iteration: 520 , correction rate: 0.2158\n",
      "Number iteration: 530 , correction rate: 0.215966666667\n",
      "Number iteration: 540 , correction rate: 0.216116666667\n",
      "Number iteration: 550 , correction rate: 0.216233333333\n",
      "Number iteration: 560 , correction rate: 0.21645\n",
      "Number iteration: 570 , correction rate: 0.21655\n",
      "Number iteration: 580 , correction rate: 0.2167\n",
      "Number iteration: 590 , correction rate: 0.21675\n",
      "Number iteration: 600 , correction rate: 0.2168\n",
      "Number iteration: 610 , correction rate: 0.21685\n",
      "Number iteration: 620 , correction rate: 0.216933333333\n",
      "Number iteration: 630 , correction rate: 0.217016666667\n",
      "Number iteration: 640 , correction rate: 0.217183333333\n",
      "Number iteration: 650 , correction rate: 0.217333333333\n",
      "Number iteration: 660 , correction rate: 0.217466666667\n",
      "Number iteration: 670 , correction rate: 0.217683333333\n",
      "Number iteration: 680 , correction rate: 0.217833333333\n",
      "Number iteration: 690 , correction rate: 0.218033333333\n",
      "Number iteration: 700 , correction rate: 0.218283333333\n",
      "Number iteration: 710 , correction rate: 0.218483333333\n",
      "Number iteration: 720 , correction rate: 0.218666666667\n",
      "Number iteration: 730 , correction rate: 0.218866666667\n",
      "Number iteration: 740 , correction rate: 0.219016666667\n",
      "Number iteration: 750 , correction rate: 0.219083333333\n",
      "Number iteration: 760 , correction rate: 0.219233333333\n",
      "Number iteration: 770 , correction rate: 0.219316666667\n",
      "Number iteration: 780 , correction rate: 0.219383333333\n",
      "Number iteration: 790 , correction rate: 0.21945\n",
      "Number iteration: 800 , correction rate: 0.219633333333\n",
      "Number iteration: 810 , correction rate: 0.2197\n",
      "Number iteration: 820 , correction rate: 0.219816666667\n",
      "Number iteration: 830 , correction rate: 0.21985\n",
      "Number iteration: 840 , correction rate: 0.219983333333\n",
      "Number iteration: 850 , correction rate: 0.220233333333\n",
      "Number iteration: 860 , correction rate: 0.22035\n",
      "Number iteration: 870 , correction rate: 0.220416666667\n",
      "Number iteration: 880 , correction rate: 0.220383333333\n",
      "Number iteration: 890 , correction rate: 0.220433333333\n",
      "Number iteration: 900 , correction rate: 0.220533333333\n",
      "Number iteration: 910 , correction rate: 0.2206\n",
      "Number iteration: 920 , correction rate: 0.220683333333\n",
      "Number iteration: 930 , correction rate: 0.220766666667\n",
      "Number iteration: 940 , correction rate: 0.220833333333\n",
      "Number iteration: 950 , correction rate: 0.220933333333\n",
      "Number iteration: 960 , correction rate: 0.220933333333\n",
      "Number iteration: 970 , correction rate: 0.221016666667\n",
      "Number iteration: 980 , correction rate: 0.221083333333\n",
      "Number iteration: 990 , correction rate: 0.221083333333\n",
      "Number iteration: 1000 , correction rate: 0.22115\n"
     ]
    }
   ],
   "source": [
    "optimalMN = MNISTClassification()\n",
    "optimalMN.fit(randomTrainImgs, randomTrainLabels, testImgs, testLabels, 1000, 0.001, T = 5, numHidden = 60, optimize = True )"
   ]
  },
  {
   "cell_type": "code",
   "execution_count": 105,
   "metadata": {
    "collapsed": false
   },
   "outputs": [
    {
     "data": {
      "image/png": "[encoded data removed]",
      "text/plain": [
       "<matplotlib.figure.Figure at 0x10b394310>"
      ]
     },
     "metadata": {},
     "output_type": "display_data"
    }
   ],
   "source": [
    "plotUpdate(optimalMN.trainAccuracyPath, optimalMN.validationAccuracyPath, optimalMN.testAccuracyPath, 'Correction rate over training',\n",
    "           'training set', 'validation set','test set', \"percent correct classification\",[0,0.9], True)\n",
    "# plt.savefig('part4_10000_02_50.png', bbox_inches='tight') #Number iteration: 1000 , correction rate: 0.928116666667"
   ]
  },
  {
   "cell_type": "code",
   "execution_count": 84,
   "metadata": {
    "collapsed": false,
    "scrolled": true
   },
   "outputs": [
    {
     "name": "stdout",
     "output_type": "stream",
     "text": [
      "10 & 0.82214 & 0.8185 & 0.821533333333\n",
      "30 & 0.83138 & 0.8246 & 0.83025\n",
      "50 & 0.84026 & 0.8328 & 0.839016666667\n",
      "70 & 0.85026 & 0.8407 & 0.848666666667\n",
      "90 & 0.85772 & 0.8492 & 0.8563\n",
      "110 & 0.86232 & 0.8535 & 0.86085\n",
      "130 & 0.86426 & 0.854 & 0.86255\n",
      "150 & 0.86426 & 0.8542 & 0.862583333333\n",
      "170 & 0.86418 & 0.854 & 0.862483333333\n",
      "190 & 0.86376 & 0.8536 & 0.862066666667\n"
     ]
    }
   ],
   "source": [
    "for i in [10,30,50,70,90,110,130,150,170,190]:\n",
    "    print i,\"&\",optimalMN.trainAccuracyPath[i-1],\"&\",optimalMN.validationAccuracyPath[i-1],\"&\", optimalMN.testAccuracyPath[i-1]"
   ]
  },
  {
   "cell_type": "code",
   "execution_count": 90,
   "metadata": {
    "collapsed": false
   },
   "outputs": [],
   "source": [
    "a = np.array([[1,2],[3,4],[5,6]])\n",
    "X = np.hstack([np.ones((len(a),1)), a])"
   ]
  },
  {
   "cell_type": "code",
   "execution_count": 91,
   "metadata": {
    "collapsed": false
   },
   "outputs": [
    {
     "data": {
      "text/plain": [
       "array([[ 1.,  1.,  2.],\n",
       "       [ 1.,  3.,  4.],\n",
       "       [ 1.,  5.,  6.]])"
      ]
     },
     "execution_count": 91,
     "metadata": {},
     "output_type": "execute_result"
    }
   ],
   "source": [
    "X"
   ]
  },
  {
   "cell_type": "code",
   "execution_count": null,
   "metadata": {
    "collapsed": true
   },
   "outputs": [],
   "source": []
  }
 ],
 "metadata": {
  "kernelspec": {
   "display_name": "Python 2",
   "language": "python",
   "name": "python2"
  },
  "language_info": {
   "codemirror_mode": {
    "name": "ipython",
    "version": 2
   },
   "file_extension": ".py",
   "mimetype": "text/x-python",
   "name": "python",
   "nbconvert_exporter": "python",
   "pygments_lexer": "ipython2",
   "version": "2.7.10"
  }
 },
 "nbformat": 4,
 "nbformat_minor": 0
}
